{
  "cells": [
    {
      "cell_type": "markdown",
      "metadata": {
        "id": "TdJAyFxnqul_"
      },
      "source": [
        "Notebook Link: https://tinyurl.com/pds-git-feature-eng"
      ]
    },
    {
      "cell_type": "markdown",
      "metadata": {
        "id": "KqWUEax-fWTT"
      },
      "source": [
        "# Git\n",
        "* Open Source Distributed Software\n",
        "* History Started with Linux Kernel Development\n",
        "* Before Git – Early Version Control was centralized (1990-2000)\n",
        "* Linux Kernel Development and BitKeeper (2002–2005)\n",
        "* Conflict with BitMover (2005)\n",
        "* Linus Torvalds Creates Git (2005)\n",
        "* 2008 – GitHub was founded by developers Tom Preston-Werner, Chris Wanstrath, and PJ Hyett.\n",
        "* Microsoft owned GitHub"
      ]
    },
    {
      "cell_type": "markdown",
      "metadata": {
        "id": "4qKOl86kinNw"
      },
      "source": [
        "# Machine Learning\n",
        "\n",
        "Machine Learning (ML) is a field of artificial intelligence (AI) that enables computers to learn from data and make predictions or decisions without being explicitly programmed. It uses algorithms to identify patterns in data and improve performance over time.\n",
        "\n",
        "**Types of Machine Learning:**\n",
        "* Supervised Learning\n",
        "* Unsupervised Learning\n",
        "* Reinforcement Learning"
      ]
    },
    {
      "cell_type": "markdown",
      "metadata": {
        "id": "nFBk7MNijyMV"
      },
      "source": [
        "Different Supervised Learning:\n",
        "* Classification\n",
        "* Regression\n",
        "\n",
        "![download.png](data:image/png;base64,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)"
      ]
    },
    {
      "cell_type": "markdown",
      "metadata": {
        "id": "NYkrxe8IQjsX"
      },
      "source": [
        "# 📌 Linear Regression: Introduction & Derivation\n",
        "\n",
        "## What is Linear Regression?\n",
        "Linear Regression is a fundamental supervised learning algorithm used for predicting a continuous output based on input variables. It assumes a **linear relationship** between the independent variable $x$ and the dependent variable $y$.\n",
        "\n",
        "The equation of a simple linear regression model (with one independent variable) is:\n",
        "\n",
        "$$\n",
        "y = mx + b\n",
        "$$\n",
        "\n",
        "where:\n",
        "\n",
        "- $y$ → dependent variable (output)\n",
        "- $x$ → independent variable (input)\n",
        "- $m$ → slope (coefficient)\n",
        "- $b$ → intercept\n",
        "\n",
        "---\n",
        "\n",
        "## 🔹 Derivation of Linear Regression (2 Variables)\n",
        "For a dataset with $n$ points $(x_1, y_1), (x_2, y_2), ..., (x_n, y_n)$, the goal is to find $m$ and $b$ such that the **error (difference between predicted and actual values) is minimized**.\n",
        "\n",
        "### **1️⃣ Defining the Loss Function**\n",
        "We use the **Mean Squared Error (MSE)** as the loss function:\n",
        "\n",
        "$$\n",
        "J(m, b) = \\frac{1}{n} \\sum_{i=1}^{n} (y_i - (m x_i + b))^2\n",
        "$$\n",
        "\n",
        "### **2️⃣ Finding Optimal $m$ and $b$**\n",
        "To minimize $J(m, b)$, we take the partial derivatives w.r.t $m$ and $b$ and set them to zero.\n",
        "\n",
        "#### 🔹 Partial Derivative w.r.t $m$:\n",
        "\n",
        "$$\n",
        "\\frac{\\partial J}{\\partial m} = -\\frac{2}{n} \\sum_{i=1}^{n} x_i (y_i - (m x_i + b))\n",
        "$$\n",
        "\n",
        "#### 🔹 Partial Derivative w.r.t $b$:\n",
        "\n",
        "$$\n",
        "\\frac{\\partial J}{\\partial b} = -\\frac{2}{n} \\sum_{i=1}^{n} (y_i - (m x_i + b))\n",
        "$$\n",
        "\n",
        "Setting these derivatives to **zero** and solving for $m$ and $b$, we get:\n",
        "\n",
        "$$\n",
        "m = \\frac{n \\sum x_i y_i - \\sum x_i \\sum y_i}{n \\sum x_i^2 - (\\sum x_i)^2}\n",
        "$$\n",
        "\n",
        "$$\n",
        "b = \\frac{\\sum y_i - m \\sum x_i}{n}\n",
        "$$\n",
        "\n",
        "These are the **normal equations** used to compute the best-fit line for a given dataset.\n",
        "\n",
        "---\n",
        "\n",
        "## **📌 Summary**\n",
        "✔ Linear regression finds the best-fitting line for a dataset.  \n",
        "✔ We minimize the **Mean Squared Error** to determine the optimal $m$ and $b$.  \n",
        "✔ The **normal equations** provide a closed-form solution for $m$ and $b$."
      ]
    },
    {
      "cell_type": "code",
      "execution_count": null,
      "metadata": {
        "colab": {
          "base_uri": "https://localhost:8080/",
          "height": 448
        },
        "id": "PJkQ5r4jfI_H",
        "outputId": "ec4f8222-ed67-4199-f33d-4d4036e837f4"
      },
      "outputs": [
        {
          "data": {
            "text/plain": [
              "<matplotlib.collections.PathCollection at 0x7888f7e28810>"
            ]
          },
          "execution_count": 20,
          "metadata": {},
          "output_type": "execute_result"
        },
        {
          "data": {
            "image/png": "[encoded data removed]",
            "text/plain": [
              "<Figure size 640x480 with 1 Axes>"
            ]
          },
          "metadata": {},
          "output_type": "display_data"
        }
      ],
      "source": [
        "import matplotlib.pyplot as plt\n",
        "import numpy as np\n",
        "\n",
        "rng = np.random.RandomState(42)\n",
        "x = 10 * rng.rand(50)\n",
        "y = 2 * x - 1 + rng.randn(50)\n",
        "plt.scatter(x, y)"
      ]
    },
    {
      "cell_type": "code",
      "execution_count": null,
      "metadata": {
        "id": "9E3ISVP4ljyo"
      },
      "outputs": [],
      "source": [
        "from sklearn.linear_model import LinearRegression"
      ]
    },
    {
      "cell_type": "code",
      "execution_count": null,
      "metadata": {
        "colab": {
          "base_uri": "https://localhost:8080/",
          "height": 79
        },
        "id": "4vDlGZxhlz4z",
        "outputId": "8456b8e3-a1a4-436f-9713-3957d58f7d27"
      },
      "outputs": [
        {
          "data": {
            "text/html": [
              "<style>#sk-container-id-1 {\n",
              "  /* Definition of color scheme common for light and dark mode */\n",
              "  --sklearn-color-text: #000;\n",
              "  --sklearn-color-text-muted: #666;\n",
              "  --sklearn-color-line: gray;\n",
              "  /* Definition of color scheme for unfitted estimators */\n",
              "  --sklearn-color-unfitted-level-0: #fff5e6;\n",
              "  --sklearn-color-unfitted-level-1: #f6e4d2;\n",
              "  --sklearn-color-unfitted-level-2: #ffe0b3;\n",
              "  --sklearn-color-unfitted-level-3: chocolate;\n",
              "  /* Definition of color scheme for fitted estimators */\n",
              "  --sklearn-color-fitted-level-0: #f0f8ff;\n",
              "  --sklearn-color-fitted-level-1: #d4ebff;\n",
              "  --sklearn-color-fitted-level-2: #b3dbfd;\n",
              "  --sklearn-color-fitted-level-3: cornflowerblue;\n",
              "\n",
              "  /* Specific color for light theme */\n",
              "  --sklearn-color-text-on-default-background: var(--sg-text-color, var(--theme-code-foreground, var(--jp-content-font-color1, black)));\n",
              "  --sklearn-color-background: var(--sg-background-color, var(--theme-background, var(--jp-layout-color0, white)));\n",
              "  --sklearn-color-border-box: var(--sg-text-color, var(--theme-code-foreground, var(--jp-content-font-color1, black)));\n",
              "  --sklearn-color-icon: #696969;\n",
              "\n",
              "  @media (prefers-color-scheme: dark) {\n",
              "    /* Redefinition of color scheme for dark theme */\n",
              "    --sklearn-color-text-on-default-background: var(--sg-text-color, var(--theme-code-foreground, var(--jp-content-font-color1, white)));\n",
              "    --sklearn-color-background: var(--sg-background-color, var(--theme-background, var(--jp-layout-color0, #111)));\n",
              "    --sklearn-color-border-box: var(--sg-text-color, var(--theme-code-foreground, var(--jp-content-font-color1, white)));\n",
              "    --sklearn-color-icon: #878787;\n",
              "  }\n",
              "}\n",
              "\n",
              "#sk-container-id-1 {\n",
              "  color: var(--sklearn-color-text);\n",
              "}\n",
              "\n",
              "#sk-container-id-1 pre {\n",
              "  padding: 0;\n",
              "}\n",
              "\n",
              "#sk-container-id-1 input.sk-hidden--visually {\n",
              "  border: 0;\n",
              "  clip: rect(1px 1px 1px 1px);\n",
              "  clip: rect(1px, 1px, 1px, 1px);\n",
              "  height: 1px;\n",
              "  margin: -1px;\n",
              "  overflow: hidden;\n",
              "  padding: 0;\n",
              "  position: absolute;\n",
              "  width: 1px;\n",
              "}\n",
              "\n",
              "#sk-container-id-1 div.sk-dashed-wrapped {\n",
              "  border: 1px dashed var(--sklearn-color-line);\n",
              "  margin: 0 0.4em 0.5em 0.4em;\n",
              "  box-sizing: border-box;\n",
              "  padding-bottom: 0.4em;\n",
              "  background-color: var(--sklearn-color-background);\n",
              "}\n",
              "\n",
              "#sk-container-id-1 div.sk-container {\n",
              "  /* jupyter's `normalize.less` sets `[hidden] { display: none; }`\n",
              "     but bootstrap.min.css set `[hidden] { display: none !important; }`\n",
              "     so we also need the `!important` here to be able to override the\n",
              "     default hidden behavior on the sphinx rendered scikit-learn.org.\n",
              "     See: https://github.com/scikit-learn/scikit-learn/issues/21755 */\n",
              "  display: inline-block !important;\n",
              "  position: relative;\n",
              "}\n",
              "\n",
              "#sk-container-id-1 div.sk-text-repr-fallback {\n",
              "  display: none;\n",
              "}\n",
              "\n",
              "div.sk-parallel-item,\n",
              "div.sk-serial,\n",
              "div.sk-item {\n",
              "  /* draw centered vertical line to link estimators */\n",
              "  background-image: linear-gradient(var(--sklearn-color-text-on-default-background), var(--sklearn-color-text-on-default-background));\n",
              "  background-size: 2px 100%;\n",
              "  background-repeat: no-repeat;\n",
              "  background-position: center center;\n",
              "}\n",
              "\n",
              "/* Parallel-specific style estimator block */\n",
              "\n",
              "#sk-container-id-1 div.sk-parallel-item::after {\n",
              "  content: \"\";\n",
              "  width: 100%;\n",
              "  border-bottom: 2px solid var(--sklearn-color-text-on-default-background);\n",
              "  flex-grow: 1;\n",
              "}\n",
              "\n",
              "#sk-container-id-1 div.sk-parallel {\n",
              "  display: flex;\n",
              "  align-items: stretch;\n",
              "  justify-content: center;\n",
              "  background-color: var(--sklearn-color-background);\n",
              "  position: relative;\n",
              "}\n",
              "\n",
              "#sk-container-id-1 div.sk-parallel-item {\n",
              "  display: flex;\n",
              "  flex-direction: column;\n",
              "}\n",
              "\n",
              "#sk-container-id-1 div.sk-parallel-item:first-child::after {\n",
              "  align-self: flex-end;\n",
              "  width: 50%;\n",
              "}\n",
              "\n",
              "#sk-container-id-1 div.sk-parallel-item:last-child::after {\n",
              "  align-self: flex-start;\n",
              "  width: 50%;\n",
              "}\n",
              "\n",
              "#sk-container-id-1 div.sk-parallel-item:only-child::after {\n",
              "  width: 0;\n",
              "}\n",
              "\n",
              "/* Serial-specific style estimator block */\n",
              "\n",
              "#sk-container-id-1 div.sk-serial {\n",
              "  display: flex;\n",
              "  flex-direction: column;\n",
              "  align-items: center;\n",
              "  background-color: var(--sklearn-color-background);\n",
              "  padding-right: 1em;\n",
              "  padding-left: 1em;\n",
              "}\n",
              "\n",
              "\n",
              "/* Toggleable style: style used for estimator/Pipeline/ColumnTransformer box that is\n",
              "clickable and can be expanded/collapsed.\n",
              "- Pipeline and ColumnTransformer use this feature and define the default style\n",
              "- Estimators will overwrite some part of the style using the `sk-estimator` class\n",
              "*/\n",
              "\n",
              "/* Pipeline and ColumnTransformer style (default) */\n",
              "\n",
              "#sk-container-id-1 div.sk-toggleable {\n",
              "  /* Default theme specific background. It is overwritten whether we have a\n",
              "  specific estimator or a Pipeline/ColumnTransformer */\n",
              "  background-color: var(--sklearn-color-background);\n",
              "}\n",
              "\n",
              "/* Toggleable label */\n",
              "#sk-container-id-1 label.sk-toggleable__label {\n",
              "  cursor: pointer;\n",
              "  display: flex;\n",
              "  width: 100%;\n",
              "  margin-bottom: 0;\n",
              "  padding: 0.5em;\n",
              "  box-sizing: border-box;\n",
              "  text-align: center;\n",
              "  align-items: start;\n",
              "  justify-content: space-between;\n",
              "  gap: 0.5em;\n",
              "}\n",
              "\n",
              "#sk-container-id-1 label.sk-toggleable__label .caption {\n",
              "  font-size: 0.6rem;\n",
              "  font-weight: lighter;\n",
              "  color: var(--sklearn-color-text-muted);\n",
              "}\n",
              "\n",
              "#sk-container-id-1 label.sk-toggleable__label-arrow:before {\n",
              "  /* Arrow on the left of the label */\n",
              "  content: \"▸\";\n",
              "  float: left;\n",
              "  margin-right: 0.25em;\n",
              "  color: var(--sklearn-color-icon);\n",
              "}\n",
              "\n",
              "#sk-container-id-1 label.sk-toggleable__label-arrow:hover:before {\n",
              "  color: var(--sklearn-color-text);\n",
              "}\n",
              "\n",
              "/* Toggleable content - dropdown */\n",
              "\n",
              "#sk-container-id-1 div.sk-toggleable__content {\n",
              "  max-height: 0;\n",
              "  max-width: 0;\n",
              "  overflow: hidden;\n",
              "  text-align: left;\n",
              "  /* unfitted */\n",
              "  background-color: var(--sklearn-color-unfitted-level-0);\n",
              "}\n",
              "\n",
              "#sk-container-id-1 div.sk-toggleable__content.fitted {\n",
              "  /* fitted */\n",
              "  background-color: var(--sklearn-color-fitted-level-0);\n",
              "}\n",
              "\n",
              "#sk-container-id-1 div.sk-toggleable__content pre {\n",
              "  margin: 0.2em;\n",
              "  border-radius: 0.25em;\n",
              "  color: var(--sklearn-color-text);\n",
              "  /* unfitted */\n",
              "  background-color: var(--sklearn-color-unfitted-level-0);\n",
              "}\n",
              "\n",
              "#sk-container-id-1 div.sk-toggleable__content.fitted pre {\n",
              "  /* unfitted */\n",
              "  background-color: var(--sklearn-color-fitted-level-0);\n",
              "}\n",
              "\n",
              "#sk-container-id-1 input.sk-toggleable__control:checked~div.sk-toggleable__content {\n",
              "  /* Expand drop-down */\n",
              "  max-height: 200px;\n",
              "  max-width: 100%;\n",
              "  overflow: auto;\n",
              "}\n",
              "\n",
              "#sk-container-id-1 input.sk-toggleable__control:checked~label.sk-toggleable__label-arrow:before {\n",
              "  content: \"▾\";\n",
              "}\n",
              "\n",
              "/* Pipeline/ColumnTransformer-specific style */\n",
              "\n",
              "#sk-container-id-1 div.sk-label input.sk-toggleable__control:checked~label.sk-toggleable__label {\n",
              "  color: var(--sklearn-color-text);\n",
              "  background-color: var(--sklearn-color-unfitted-level-2);\n",
              "}\n",
              "\n",
              "#sk-container-id-1 div.sk-label.fitted input.sk-toggleable__control:checked~label.sk-toggleable__label {\n",
              "  background-color: var(--sklearn-color-fitted-level-2);\n",
              "}\n",
              "\n",
              "/* Estimator-specific style */\n",
              "\n",
              "/* Colorize estimator box */\n",
              "#sk-container-id-1 div.sk-estimator input.sk-toggleable__control:checked~label.sk-toggleable__label {\n",
              "  /* unfitted */\n",
              "  background-color: var(--sklearn-color-unfitted-level-2);\n",
              "}\n",
              "\n",
              "#sk-container-id-1 div.sk-estimator.fitted input.sk-toggleable__control:checked~label.sk-toggleable__label {\n",
              "  /* fitted */\n",
              "  background-color: var(--sklearn-color-fitted-level-2);\n",
              "}\n",
              "\n",
              "#sk-container-id-1 div.sk-label label.sk-toggleable__label,\n",
              "#sk-container-id-1 div.sk-label label {\n",
              "  /* The background is the default theme color */\n",
              "  color: var(--sklearn-color-text-on-default-background);\n",
              "}\n",
              "\n",
              "/* On hover, darken the color of the background */\n",
              "#sk-container-id-1 div.sk-label:hover label.sk-toggleable__label {\n",
              "  color: var(--sklearn-color-text);\n",
              "  background-color: var(--sklearn-color-unfitted-level-2);\n",
              "}\n",
              "\n",
              "/* Label box, darken color on hover, fitted */\n",
              "#sk-container-id-1 div.sk-label.fitted:hover label.sk-toggleable__label.fitted {\n",
              "  color: var(--sklearn-color-text);\n",
              "  background-color: var(--sklearn-color-fitted-level-2);\n",
              "}\n",
              "\n",
              "/* Estimator label */\n",
              "\n",
              "#sk-container-id-1 div.sk-label label {\n",
              "  font-family: monospace;\n",
              "  font-weight: bold;\n",
              "  display: inline-block;\n",
              "  line-height: 1.2em;\n",
              "}\n",
              "\n",
              "#sk-container-id-1 div.sk-label-container {\n",
              "  text-align: center;\n",
              "}\n",
              "\n",
              "/* Estimator-specific */\n",
              "#sk-container-id-1 div.sk-estimator {\n",
              "  font-family: monospace;\n",
              "  border: 1px dotted var(--sklearn-color-border-box);\n",
              "  border-radius: 0.25em;\n",
              "  box-sizing: border-box;\n",
              "  margin-bottom: 0.5em;\n",
              "  /* unfitted */\n",
              "  background-color: var(--sklearn-color-unfitted-level-0);\n",
              "}\n",
              "\n",
              "#sk-container-id-1 div.sk-estimator.fitted {\n",
              "  /* fitted */\n",
              "  background-color: var(--sklearn-color-fitted-level-0);\n",
              "}\n",
              "\n",
              "/* on hover */\n",
              "#sk-container-id-1 div.sk-estimator:hover {\n",
              "  /* unfitted */\n",
              "  background-color: var(--sklearn-color-unfitted-level-2);\n",
              "}\n",
              "\n",
              "#sk-container-id-1 div.sk-estimator.fitted:hover {\n",
              "  /* fitted */\n",
              "  background-color: var(--sklearn-color-fitted-level-2);\n",
              "}\n",
              "\n",
              "/* Specification for estimator info (e.g. \"i\" and \"?\") */\n",
              "\n",
              "/* Common style for \"i\" and \"?\" */\n",
              "\n",
              ".sk-estimator-doc-link,\n",
              "a:link.sk-estimator-doc-link,\n",
              "a:visited.sk-estimator-doc-link {\n",
              "  float: right;\n",
              "  font-size: smaller;\n",
              "  line-height: 1em;\n",
              "  font-family: monospace;\n",
              "  background-color: var(--sklearn-color-background);\n",
              "  border-radius: 1em;\n",
              "  height: 1em;\n",
              "  width: 1em;\n",
              "  text-decoration: none !important;\n",
              "  margin-left: 0.5em;\n",
              "  text-align: center;\n",
              "  /* unfitted */\n",
              "  border: var(--sklearn-color-unfitted-level-1) 1pt solid;\n",
              "  color: var(--sklearn-color-unfitted-level-1);\n",
              "}\n",
              "\n",
              ".sk-estimator-doc-link.fitted,\n",
              "a:link.sk-estimator-doc-link.fitted,\n",
              "a:visited.sk-estimator-doc-link.fitted {\n",
              "  /* fitted */\n",
              "  border: var(--sklearn-color-fitted-level-1) 1pt solid;\n",
              "  color: var(--sklearn-color-fitted-level-1);\n",
              "}\n",
              "\n",
              "/* On hover */\n",
              "div.sk-estimator:hover .sk-estimator-doc-link:hover,\n",
              ".sk-estimator-doc-link:hover,\n",
              "div.sk-label-container:hover .sk-estimator-doc-link:hover,\n",
              ".sk-estimator-doc-link:hover {\n",
              "  /* unfitted */\n",
              "  background-color: var(--sklearn-color-unfitted-level-3);\n",
              "  color: var(--sklearn-color-background);\n",
              "  text-decoration: none;\n",
              "}\n",
              "\n",
              "div.sk-estimator.fitted:hover .sk-estimator-doc-link.fitted:hover,\n",
              ".sk-estimator-doc-link.fitted:hover,\n",
              "div.sk-label-container:hover .sk-estimator-doc-link.fitted:hover,\n",
              ".sk-estimator-doc-link.fitted:hover {\n",
              "  /* fitted */\n",
              "  background-color: var(--sklearn-color-fitted-level-3);\n",
              "  color: var(--sklearn-color-background);\n",
              "  text-decoration: none;\n",
              "}\n",
              "\n",
              "/* Span, style for the box shown on hovering the info icon */\n",
              ".sk-estimator-doc-link span {\n",
              "  display: none;\n",
              "  z-index: 9999;\n",
              "  position: relative;\n",
              "  font-weight: normal;\n",
              "  right: .2ex;\n",
              "  padding: .5ex;\n",
              "  margin: .5ex;\n",
              "  width: min-content;\n",
              "  min-width: 20ex;\n",
              "  max-width: 50ex;\n",
              "  color: var(--sklearn-color-text);\n",
              "  box-shadow: 2pt 2pt 4pt #999;\n",
              "  /* unfitted */\n",
              "  background: var(--sklearn-color-unfitted-level-0);\n",
              "  border: .5pt solid var(--sklearn-color-unfitted-level-3);\n",
              "}\n",
              "\n",
              ".sk-estimator-doc-link.fitted span {\n",
              "  /* fitted */\n",
              "  background: var(--sklearn-color-fitted-level-0);\n",
              "  border: var(--sklearn-color-fitted-level-3);\n",
              "}\n",
              "\n",
              ".sk-estimator-doc-link:hover span {\n",
              "  display: block;\n",
              "}\n",
              "\n",
              "/* \"?\"-specific style due to the `<a>` HTML tag */\n",
              "\n",
              "#sk-container-id-1 a.estimator_doc_link {\n",
              "  float: right;\n",
              "  font-size: 1rem;\n",
              "  line-height: 1em;\n",
              "  font-family: monospace;\n",
              "  background-color: var(--sklearn-color-background);\n",
              "  border-radius: 1rem;\n",
              "  height: 1rem;\n",
              "  width: 1rem;\n",
              "  text-decoration: none;\n",
              "  /* unfitted */\n",
              "  color: var(--sklearn-color-unfitted-level-1);\n",
              "  border: var(--sklearn-color-unfitted-level-1) 1pt solid;\n",
              "}\n",
              "\n",
              "#sk-container-id-1 a.estimator_doc_link.fitted {\n",
              "  /* fitted */\n",
              "  border: var(--sklearn-color-fitted-level-1) 1pt solid;\n",
              "  color: var(--sklearn-color-fitted-level-1);\n",
              "}\n",
              "\n",
              "/* On hover */\n",
              "#sk-container-id-1 a.estimator_doc_link:hover {\n",
              "  /* unfitted */\n",
              "  background-color: var(--sklearn-color-unfitted-level-3);\n",
              "  color: var(--sklearn-color-background);\n",
              "  text-decoration: none;\n",
              "}\n",
              "\n",
              "#sk-container-id-1 a.estimator_doc_link.fitted:hover {\n",
              "  /* fitted */\n",
              "  background-color: var(--sklearn-color-fitted-level-3);\n",
              "}\n",
              "</style><div id=\"sk-container-id-1\" class=\"sk-top-container\"><div class=\"sk-text-repr-fallback\"><pre>LinearRegression()</pre><b>In a Jupyter environment, please rerun this cell to show the HTML representation or trust the notebook. <br />On GitHub, the HTML representation is unable to render, please try loading this page with nbviewer.org.</b></div><div class=\"sk-container\" hidden><div class=\"sk-item\"><div class=\"sk-estimator  sk-toggleable\"><input class=\"sk-toggleable__control sk-hidden--visually\" id=\"sk-estimator-id-1\" type=\"checkbox\" checked><label for=\"sk-estimator-id-1\" class=\"sk-toggleable__label  sk-toggleable__label-arrow\"><div><div>LinearRegression</div></div><div><a class=\"sk-estimator-doc-link \" rel=\"noreferrer\" target=\"_blank\" href=\"https://scikit-learn.org/1.6/modules/generated/sklearn.linear_model.LinearRegression.html\">?<span>Documentation for LinearRegression</span></a><span class=\"sk-estimator-doc-link \">i<span>Not fitted</span></span></div></label><div class=\"sk-toggleable__content \"><pre>LinearRegression()</pre></div> </div></div></div></div>"
            ],
            "text/plain": [
              "LinearRegression()"
            ]
          },
          "execution_count": 23,
          "metadata": {},
          "output_type": "execute_result"
        }
      ],
      "source": [
        "model = LinearRegression(fit_intercept=True)\n",
        "model"
      ]
    },
    {
      "cell_type": "code",
      "execution_count": null,
      "metadata": {
        "colab": {
          "base_uri": "https://localhost:8080/"
        },
        "id": "22q7djaXG2Pa",
        "outputId": "4346748e-8eda-45e8-c058-acff7f97a17e"
      },
      "outputs": [
        {
          "data": {
            "text/plain": [
              "(50,)"
            ]
          },
          "execution_count": 24,
          "metadata": {},
          "output_type": "execute_result"
        }
      ],
      "source": [
        "x.shape"
      ]
    },
    {
      "cell_type": "code",
      "execution_count": null,
      "metadata": {
        "colab": {
          "base_uri": "https://localhost:8080/"
        },
        "id": "eyk2DP3imqIr",
        "outputId": "822afd74-7f39-455a-a71c-38f5ddd302f0"
      },
      "outputs": [
        {
          "data": {
            "text/plain": [
              "(50, 1)"
            ]
          },
          "execution_count": 25,
          "metadata": {},
          "output_type": "execute_result"
        }
      ],
      "source": [
        "X = x[:, np.newaxis]\n",
        "X.shape"
      ]
    },
    {
      "cell_type": "code",
      "execution_count": null,
      "metadata": {
        "colab": {
          "base_uri": "https://localhost:8080/",
          "height": 79
        },
        "id": "pQPXw_fenINr",
        "outputId": "c4dca4ef-a6cf-4691-b28d-3c73210a6a43"
      },
      "outputs": [
        {
          "data": {
            "text/html": [
              "<style>#sk-container-id-2 {\n",
              "  /* Definition of color scheme common for light and dark mode */\n",
              "  --sklearn-color-text: #000;\n",
              "  --sklearn-color-text-muted: #666;\n",
              "  --sklearn-color-line: gray;\n",
              "  /* Definition of color scheme for unfitted estimators */\n",
              "  --sklearn-color-unfitted-level-0: #fff5e6;\n",
              "  --sklearn-color-unfitted-level-1: #f6e4d2;\n",
              "  --sklearn-color-unfitted-level-2: #ffe0b3;\n",
              "  --sklearn-color-unfitted-level-3: chocolate;\n",
              "  /* Definition of color scheme for fitted estimators */\n",
              "  --sklearn-color-fitted-level-0: #f0f8ff;\n",
              "  --sklearn-color-fitted-level-1: #d4ebff;\n",
              "  --sklearn-color-fitted-level-2: #b3dbfd;\n",
              "  --sklearn-color-fitted-level-3: cornflowerblue;\n",
              "\n",
              "  /* Specific color for light theme */\n",
              "  --sklearn-color-text-on-default-background: var(--sg-text-color, var(--theme-code-foreground, var(--jp-content-font-color1, black)));\n",
              "  --sklearn-color-background: var(--sg-background-color, var(--theme-background, var(--jp-layout-color0, white)));\n",
              "  --sklearn-color-border-box: var(--sg-text-color, var(--theme-code-foreground, var(--jp-content-font-color1, black)));\n",
              "  --sklearn-color-icon: #696969;\n",
              "\n",
              "  @media (prefers-color-scheme: dark) {\n",
              "    /* Redefinition of color scheme for dark theme */\n",
              "    --sklearn-color-text-on-default-background: var(--sg-text-color, var(--theme-code-foreground, var(--jp-content-font-color1, white)));\n",
              "    --sklearn-color-background: var(--sg-background-color, var(--theme-background, var(--jp-layout-color0, #111)));\n",
              "    --sklearn-color-border-box: var(--sg-text-color, var(--theme-code-foreground, var(--jp-content-font-color1, white)));\n",
              "    --sklearn-color-icon: #878787;\n",
              "  }\n",
              "}\n",
              "\n",
              "#sk-container-id-2 {\n",
              "  color: var(--sklearn-color-text);\n",
              "}\n",
              "\n",
              "#sk-container-id-2 pre {\n",
              "  padding: 0;\n",
              "}\n",
              "\n",
              "#sk-container-id-2 input.sk-hidden--visually {\n",
              "  border: 0;\n",
              "  clip: rect(1px 1px 1px 1px);\n",
              "  clip: rect(1px, 1px, 1px, 1px);\n",
              "  height: 1px;\n",
              "  margin: -1px;\n",
              "  overflow: hidden;\n",
              "  padding: 0;\n",
              "  position: absolute;\n",
              "  width: 1px;\n",
              "}\n",
              "\n",
              "#sk-container-id-2 div.sk-dashed-wrapped {\n",
              "  border: 1px dashed var(--sklearn-color-line);\n",
              "  margin: 0 0.4em 0.5em 0.4em;\n",
              "  box-sizing: border-box;\n",
              "  padding-bottom: 0.4em;\n",
              "  background-color: var(--sklearn-color-background);\n",
              "}\n",
              "\n",
              "#sk-container-id-2 div.sk-container {\n",
              "  /* jupyter's `normalize.less` sets `[hidden] { display: none; }`\n",
              "     but bootstrap.min.css set `[hidden] { display: none !important; }`\n",
              "     so we also need the `!important` here to be able to override the\n",
              "     default hidden behavior on the sphinx rendered scikit-learn.org.\n",
              "     See: https://github.com/scikit-learn/scikit-learn/issues/21755 */\n",
              "  display: inline-block !important;\n",
              "  position: relative;\n",
              "}\n",
              "\n",
              "#sk-container-id-2 div.sk-text-repr-fallback {\n",
              "  display: none;\n",
              "}\n",
              "\n",
              "div.sk-parallel-item,\n",
              "div.sk-serial,\n",
              "div.sk-item {\n",
              "  /* draw centered vertical line to link estimators */\n",
              "  background-image: linear-gradient(var(--sklearn-color-text-on-default-background), var(--sklearn-color-text-on-default-background));\n",
              "  background-size: 2px 100%;\n",
              "  background-repeat: no-repeat;\n",
              "  background-position: center center;\n",
              "}\n",
              "\n",
              "/* Parallel-specific style estimator block */\n",
              "\n",
              "#sk-container-id-2 div.sk-parallel-item::after {\n",
              "  content: \"\";\n",
              "  width: 100%;\n",
              "  border-bottom: 2px solid var(--sklearn-color-text-on-default-background);\n",
              "  flex-grow: 1;\n",
              "}\n",
              "\n",
              "#sk-container-id-2 div.sk-parallel {\n",
              "  display: flex;\n",
              "  align-items: stretch;\n",
              "  justify-content: center;\n",
              "  background-color: var(--sklearn-color-background);\n",
              "  position: relative;\n",
              "}\n",
              "\n",
              "#sk-container-id-2 div.sk-parallel-item {\n",
              "  display: flex;\n",
              "  flex-direction: column;\n",
              "}\n",
              "\n",
              "#sk-container-id-2 div.sk-parallel-item:first-child::after {\n",
              "  align-self: flex-end;\n",
              "  width: 50%;\n",
              "}\n",
              "\n",
              "#sk-container-id-2 div.sk-parallel-item:last-child::after {\n",
              "  align-self: flex-start;\n",
              "  width: 50%;\n",
              "}\n",
              "\n",
              "#sk-container-id-2 div.sk-parallel-item:only-child::after {\n",
              "  width: 0;\n",
              "}\n",
              "\n",
              "/* Serial-specific style estimator block */\n",
              "\n",
              "#sk-container-id-2 div.sk-serial {\n",
              "  display: flex;\n",
              "  flex-direction: column;\n",
              "  align-items: center;\n",
              "  background-color: var(--sklearn-color-background);\n",
              "  padding-right: 1em;\n",
              "  padding-left: 1em;\n",
              "}\n",
              "\n",
              "\n",
              "/* Toggleable style: style used for estimator/Pipeline/ColumnTransformer box that is\n",
              "clickable and can be expanded/collapsed.\n",
              "- Pipeline and ColumnTransformer use this feature and define the default style\n",
              "- Estimators will overwrite some part of the style using the `sk-estimator` class\n",
              "*/\n",
              "\n",
              "/* Pipeline and ColumnTransformer style (default) */\n",
              "\n",
              "#sk-container-id-2 div.sk-toggleable {\n",
              "  /* Default theme specific background. It is overwritten whether we have a\n",
              "  specific estimator or a Pipeline/ColumnTransformer */\n",
              "  background-color: var(--sklearn-color-background);\n",
              "}\n",
              "\n",
              "/* Toggleable label */\n",
              "#sk-container-id-2 label.sk-toggleable__label {\n",
              "  cursor: pointer;\n",
              "  display: flex;\n",
              "  width: 100%;\n",
              "  margin-bottom: 0;\n",
              "  padding: 0.5em;\n",
              "  box-sizing: border-box;\n",
              "  text-align: center;\n",
              "  align-items: start;\n",
              "  justify-content: space-between;\n",
              "  gap: 0.5em;\n",
              "}\n",
              "\n",
              "#sk-container-id-2 label.sk-toggleable__label .caption {\n",
              "  font-size: 0.6rem;\n",
              "  font-weight: lighter;\n",
              "  color: var(--sklearn-color-text-muted);\n",
              "}\n",
              "\n",
              "#sk-container-id-2 label.sk-toggleable__label-arrow:before {\n",
              "  /* Arrow on the left of the label */\n",
              "  content: \"▸\";\n",
              "  float: left;\n",
              "  margin-right: 0.25em;\n",
              "  color: var(--sklearn-color-icon);\n",
              "}\n",
              "\n",
              "#sk-container-id-2 label.sk-toggleable__label-arrow:hover:before {\n",
              "  color: var(--sklearn-color-text);\n",
              "}\n",
              "\n",
              "/* Toggleable content - dropdown */\n",
              "\n",
              "#sk-container-id-2 div.sk-toggleable__content {\n",
              "  max-height: 0;\n",
              "  max-width: 0;\n",
              "  overflow: hidden;\n",
              "  text-align: left;\n",
              "  /* unfitted */\n",
              "  background-color: var(--sklearn-color-unfitted-level-0);\n",
              "}\n",
              "\n",
              "#sk-container-id-2 div.sk-toggleable__content.fitted {\n",
              "  /* fitted */\n",
              "  background-color: var(--sklearn-color-fitted-level-0);\n",
              "}\n",
              "\n",
              "#sk-container-id-2 div.sk-toggleable__content pre {\n",
              "  margin: 0.2em;\n",
              "  border-radius: 0.25em;\n",
              "  color: var(--sklearn-color-text);\n",
              "  /* unfitted */\n",
              "  background-color: var(--sklearn-color-unfitted-level-0);\n",
              "}\n",
              "\n",
              "#sk-container-id-2 div.sk-toggleable__content.fitted pre {\n",
              "  /* unfitted */\n",
              "  background-color: var(--sklearn-color-fitted-level-0);\n",
              "}\n",
              "\n",
              "#sk-container-id-2 input.sk-toggleable__control:checked~div.sk-toggleable__content {\n",
              "  /* Expand drop-down */\n",
              "  max-height: 200px;\n",
              "  max-width: 100%;\n",
              "  overflow: auto;\n",
              "}\n",
              "\n",
              "#sk-container-id-2 input.sk-toggleable__control:checked~label.sk-toggleable__label-arrow:before {\n",
              "  content: \"▾\";\n",
              "}\n",
              "\n",
              "/* Pipeline/ColumnTransformer-specific style */\n",
              "\n",
              "#sk-container-id-2 div.sk-label input.sk-toggleable__control:checked~label.sk-toggleable__label {\n",
              "  color: var(--sklearn-color-text);\n",
              "  background-color: var(--sklearn-color-unfitted-level-2);\n",
              "}\n",
              "\n",
              "#sk-container-id-2 div.sk-label.fitted input.sk-toggleable__control:checked~label.sk-toggleable__label {\n",
              "  background-color: var(--sklearn-color-fitted-level-2);\n",
              "}\n",
              "\n",
              "/* Estimator-specific style */\n",
              "\n",
              "/* Colorize estimator box */\n",
              "#sk-container-id-2 div.sk-estimator input.sk-toggleable__control:checked~label.sk-toggleable__label {\n",
              "  /* unfitted */\n",
              "  background-color: var(--sklearn-color-unfitted-level-2);\n",
              "}\n",
              "\n",
              "#sk-container-id-2 div.sk-estimator.fitted input.sk-toggleable__control:checked~label.sk-toggleable__label {\n",
              "  /* fitted */\n",
              "  background-color: var(--sklearn-color-fitted-level-2);\n",
              "}\n",
              "\n",
              "#sk-container-id-2 div.sk-label label.sk-toggleable__label,\n",
              "#sk-container-id-2 div.sk-label label {\n",
              "  /* The background is the default theme color */\n",
              "  color: var(--sklearn-color-text-on-default-background);\n",
              "}\n",
              "\n",
              "/* On hover, darken the color of the background */\n",
              "#sk-container-id-2 div.sk-label:hover label.sk-toggleable__label {\n",
              "  color: var(--sklearn-color-text);\n",
              "  background-color: var(--sklearn-color-unfitted-level-2);\n",
              "}\n",
              "\n",
              "/* Label box, darken color on hover, fitted */\n",
              "#sk-container-id-2 div.sk-label.fitted:hover label.sk-toggleable__label.fitted {\n",
              "  color: var(--sklearn-color-text);\n",
              "  background-color: var(--sklearn-color-fitted-level-2);\n",
              "}\n",
              "\n",
              "/* Estimator label */\n",
              "\n",
              "#sk-container-id-2 div.sk-label label {\n",
              "  font-family: monospace;\n",
              "  font-weight: bold;\n",
              "  display: inline-block;\n",
              "  line-height: 1.2em;\n",
              "}\n",
              "\n",
              "#sk-container-id-2 div.sk-label-container {\n",
              "  text-align: center;\n",
              "}\n",
              "\n",
              "/* Estimator-specific */\n",
              "#sk-container-id-2 div.sk-estimator {\n",
              "  font-family: monospace;\n",
              "  border: 1px dotted var(--sklearn-color-border-box);\n",
              "  border-radius: 0.25em;\n",
              "  box-sizing: border-box;\n",
              "  margin-bottom: 0.5em;\n",
              "  /* unfitted */\n",
              "  background-color: var(--sklearn-color-unfitted-level-0);\n",
              "}\n",
              "\n",
              "#sk-container-id-2 div.sk-estimator.fitted {\n",
              "  /* fitted */\n",
              "  background-color: var(--sklearn-color-fitted-level-0);\n",
              "}\n",
              "\n",
              "/* on hover */\n",
              "#sk-container-id-2 div.sk-estimator:hover {\n",
              "  /* unfitted */\n",
              "  background-color: var(--sklearn-color-unfitted-level-2);\n",
              "}\n",
              "\n",
              "#sk-container-id-2 div.sk-estimator.fitted:hover {\n",
              "  /* fitted */\n",
              "  background-color: var(--sklearn-color-fitted-level-2);\n",
              "}\n",
              "\n",
              "/* Specification for estimator info (e.g. \"i\" and \"?\") */\n",
              "\n",
              "/* Common style for \"i\" and \"?\" */\n",
              "\n",
              ".sk-estimator-doc-link,\n",
              "a:link.sk-estimator-doc-link,\n",
              "a:visited.sk-estimator-doc-link {\n",
              "  float: right;\n",
              "  font-size: smaller;\n",
              "  line-height: 1em;\n",
              "  font-family: monospace;\n",
              "  background-color: var(--sklearn-color-background);\n",
              "  border-radius: 1em;\n",
              "  height: 1em;\n",
              "  width: 1em;\n",
              "  text-decoration: none !important;\n",
              "  margin-left: 0.5em;\n",
              "  text-align: center;\n",
              "  /* unfitted */\n",
              "  border: var(--sklearn-color-unfitted-level-1) 1pt solid;\n",
              "  color: var(--sklearn-color-unfitted-level-1);\n",
              "}\n",
              "\n",
              ".sk-estimator-doc-link.fitted,\n",
              "a:link.sk-estimator-doc-link.fitted,\n",
              "a:visited.sk-estimator-doc-link.fitted {\n",
              "  /* fitted */\n",
              "  border: var(--sklearn-color-fitted-level-1) 1pt solid;\n",
              "  color: var(--sklearn-color-fitted-level-1);\n",
              "}\n",
              "\n",
              "/* On hover */\n",
              "div.sk-estimator:hover .sk-estimator-doc-link:hover,\n",
              ".sk-estimator-doc-link:hover,\n",
              "div.sk-label-container:hover .sk-estimator-doc-link:hover,\n",
              ".sk-estimator-doc-link:hover {\n",
              "  /* unfitted */\n",
              "  background-color: var(--sklearn-color-unfitted-level-3);\n",
              "  color: var(--sklearn-color-background);\n",
              "  text-decoration: none;\n",
              "}\n",
              "\n",
              "div.sk-estimator.fitted:hover .sk-estimator-doc-link.fitted:hover,\n",
              ".sk-estimator-doc-link.fitted:hover,\n",
              "div.sk-label-container:hover .sk-estimator-doc-link.fitted:hover,\n",
              ".sk-estimator-doc-link.fitted:hover {\n",
              "  /* fitted */\n",
              "  background-color: var(--sklearn-color-fitted-level-3);\n",
              "  color: var(--sklearn-color-background);\n",
              "  text-decoration: none;\n",
              "}\n",
              "\n",
              "/* Span, style for the box shown on hovering the info icon */\n",
              ".sk-estimator-doc-link span {\n",
              "  display: none;\n",
              "  z-index: 9999;\n",
              "  position: relative;\n",
              "  font-weight: normal;\n",
              "  right: .2ex;\n",
              "  padding: .5ex;\n",
              "  margin: .5ex;\n",
              "  width: min-content;\n",
              "  min-width: 20ex;\n",
              "  max-width: 50ex;\n",
              "  color: var(--sklearn-color-text);\n",
              "  box-shadow: 2pt 2pt 4pt #999;\n",
              "  /* unfitted */\n",
              "  background: var(--sklearn-color-unfitted-level-0);\n",
              "  border: .5pt solid var(--sklearn-color-unfitted-level-3);\n",
              "}\n",
              "\n",
              ".sk-estimator-doc-link.fitted span {\n",
              "  /* fitted */\n",
              "  background: var(--sklearn-color-fitted-level-0);\n",
              "  border: var(--sklearn-color-fitted-level-3);\n",
              "}\n",
              "\n",
              ".sk-estimator-doc-link:hover span {\n",
              "  display: block;\n",
              "}\n",
              "\n",
              "/* \"?\"-specific style due to the `<a>` HTML tag */\n",
              "\n",
              "#sk-container-id-2 a.estimator_doc_link {\n",
              "  float: right;\n",
              "  font-size: 1rem;\n",
              "  line-height: 1em;\n",
              "  font-family: monospace;\n",
              "  background-color: var(--sklearn-color-background);\n",
              "  border-radius: 1rem;\n",
              "  height: 1rem;\n",
              "  width: 1rem;\n",
              "  text-decoration: none;\n",
              "  /* unfitted */\n",
              "  color: var(--sklearn-color-unfitted-level-1);\n",
              "  border: var(--sklearn-color-unfitted-level-1) 1pt solid;\n",
              "}\n",
              "\n",
              "#sk-container-id-2 a.estimator_doc_link.fitted {\n",
              "  /* fitted */\n",
              "  border: var(--sklearn-color-fitted-level-1) 1pt solid;\n",
              "  color: var(--sklearn-color-fitted-level-1);\n",
              "}\n",
              "\n",
              "/* On hover */\n",
              "#sk-container-id-2 a.estimator_doc_link:hover {\n",
              "  /* unfitted */\n",
              "  background-color: var(--sklearn-color-unfitted-level-3);\n",
              "  color: var(--sklearn-color-background);\n",
              "  text-decoration: none;\n",
              "}\n",
              "\n",
              "#sk-container-id-2 a.estimator_doc_link.fitted:hover {\n",
              "  /* fitted */\n",
              "  background-color: var(--sklearn-color-fitted-level-3);\n",
              "}\n",
              "</style><div id=\"sk-container-id-2\" class=\"sk-top-container\"><div class=\"sk-text-repr-fallback\"><pre>LinearRegression()</pre><b>In a Jupyter environment, please rerun this cell to show the HTML representation or trust the notebook. <br />On GitHub, the HTML representation is unable to render, please try loading this page with nbviewer.org.</b></div><div class=\"sk-container\" hidden><div class=\"sk-item\"><div class=\"sk-estimator fitted sk-toggleable\"><input class=\"sk-toggleable__control sk-hidden--visually\" id=\"sk-estimator-id-2\" type=\"checkbox\" checked><label for=\"sk-estimator-id-2\" class=\"sk-toggleable__label fitted sk-toggleable__label-arrow\"><div><div>LinearRegression</div></div><div><a class=\"sk-estimator-doc-link fitted\" rel=\"noreferrer\" target=\"_blank\" href=\"https://scikit-learn.org/1.6/modules/generated/sklearn.linear_model.LinearRegression.html\">?<span>Documentation for LinearRegression</span></a><span class=\"sk-estimator-doc-link fitted\">i<span>Fitted</span></span></div></label><div class=\"sk-toggleable__content fitted\"><pre>LinearRegression()</pre></div> </div></div></div></div>"
            ],
            "text/plain": [
              "LinearRegression()"
            ]
          },
          "execution_count": 26,
          "metadata": {},
          "output_type": "execute_result"
        }
      ],
      "source": [
        "model.fit(X, y)"
      ]
    },
    {
      "cell_type": "code",
      "execution_count": null,
      "metadata": {
        "colab": {
          "base_uri": "https://localhost:8080/"
        },
        "id": "KHAuLcClnQM-",
        "outputId": "ecda0956-ae2d-46f8-d47d-17e796878475"
      },
      "outputs": [
        {
          "data": {
            "text/plain": [
              "array([1.9776566])"
            ]
          },
          "execution_count": 27,
          "metadata": {},
          "output_type": "execute_result"
        }
      ],
      "source": [
        "model.coef_"
      ]
    },
    {
      "cell_type": "code",
      "execution_count": null,
      "metadata": {
        "colab": {
          "base_uri": "https://localhost:8080/"
        },
        "id": "Dhvg3RHTnaXu",
        "outputId": "78c658eb-d556-4a63-b106-0a89ee1c0f48"
      },
      "outputs": [
        {
          "data": {
            "text/plain": [
              "-0.9033107255311146"
            ]
          },
          "execution_count": 28,
          "metadata": {},
          "output_type": "execute_result"
        }
      ],
      "source": [
        "model.intercept_"
      ]
    },
    {
      "cell_type": "code",
      "execution_count": null,
      "metadata": {
        "id": "xFg9ILXNndzl"
      },
      "outputs": [],
      "source": [
        "xfit = np.linspace(-1, 11)"
      ]
    },
    {
      "cell_type": "code",
      "execution_count": null,
      "metadata": {
        "id": "icWWieS7nw5P"
      },
      "outputs": [],
      "source": [
        "Xfit = xfit[:, np.newaxis]\n",
        "yfit = model.predict(Xfit)"
      ]
    },
    {
      "cell_type": "code",
      "execution_count": null,
      "metadata": {
        "colab": {
          "base_uri": "https://localhost:8080/",
          "height": 430
        },
        "id": "R-831i8Snzo-",
        "outputId": "3ae13a1c-6709-4382-c520-fe421a535bc9"
      },
      "outputs": [
        {
          "data": {
            "image/png": "[encoded data removed]",
            "text/plain": [
              "<Figure size 640x480 with 1 Axes>"
            ]
          },
          "metadata": {},
          "output_type": "display_data"
        }
      ],
      "source": [
        "plt.scatter(x, y)\n",
        "plt.plot(xfit, yfit);"
      ]
    },
    {
      "cell_type": "markdown",
      "metadata": {
        "id": "Ht5561TWhxl0"
      },
      "source": [
        "# Feature Engineering"
      ]
    },
    {
      "cell_type": "code",
      "execution_count": 2,
      "metadata": {
        "id": "PgNB9d0On8KS"
      },
      "outputs": [],
      "source": [
        "# Categorical Features\n",
        "\n",
        "data = [\n",
        "    {'price': 850000, 'rooms': 4, 'neighborhood': 'Queen Anne'},\n",
        "    {'price': 700000, 'rooms': 3, 'neighborhood': 'Fremont'},\n",
        "    {'price': 650000, 'rooms': 3, 'neighborhood': 'Wallingford'},\n",
        "    {'price': 600000, 'rooms': 2, 'neighborhood': 'Fremont'}\n",
        "]"
      ]
    },
    {
      "cell_type": "code",
      "execution_count": 9,
      "metadata": {
        "colab": {
          "base_uri": "https://localhost:8080/"
        },
        "id": "QrrWv-6Rh6va",
        "outputId": "36008758-b794-4b0d-d2b9-983fe3334367"
      },
      "outputs": [
        {
          "data": {
            "text/plain": [
              "array([[     0,      1,      0, 850000,      4],\n",
              "       [     1,      0,      0, 700000,      3],\n",
              "       [     0,      0,      1, 650000,      3],\n",
              "       [     1,      0,      0, 600000,      2]])"
            ]
          },
          "execution_count": 9,
          "metadata": {},
          "output_type": "execute_result"
        }
      ],
      "source": [
        "# {'Queen Anne': 1, 'Fremont': 2, 'Wallingford': 3};\n",
        "# This isn't right\n",
        "\n",
        "from sklearn.feature_extraction import DictVectorizer\n",
        "vec = DictVectorizer(sparse=False, dtype=int)\n",
        "vec.fit_transform(data)\n",
        "\n",
        "# print(vec)"
      ]
    },
    {
      "cell_type": "code",
      "execution_count": 5,
      "metadata": {
        "colab": {
          "base_uri": "https://localhost:8080/"
        },
        "id": "9ajufoZiiZtO",
        "outputId": "e2b6cab3-5106-4e99-85f0-9ce541350b20"
      },
      "outputs": [
        {
          "data": {
            "text/plain": [
              "['neighborhood=Fremont',\n",
              " 'neighborhood=Queen Anne',\n",
              " 'neighborhood=Wallingford',\n",
              " 'price',\n",
              " 'rooms']"
            ]
          },
          "execution_count": 5,
          "metadata": {},
          "output_type": "execute_result"
        }
      ],
      "source": [
        "vec.feature_names_"
      ]
    },
    {
      "cell_type": "code",
      "execution_count": null,
      "metadata": {
        "colab": {
          "base_uri": "https://localhost:8080/"
        },
        "id": "fUkaSxg0jFQi",
        "outputId": "3490b324-6821-49bc-dcb2-439cdbb8f3f9"
      },
      "outputs": [
        {
          "data": {
            "text/plain": [
              "<4x5 sparse matrix of type '<class 'numpy.int64'>'\n",
              "\twith 12 stored elements in Compressed Sparse Row format>"
            ]
          },
          "execution_count": 14,
          "metadata": {},
          "output_type": "execute_result"
        }
      ],
      "source": [
        "vec = DictVectorizer(sparse=True, dtype=int)\n",
        "vec.fit_transform(data)"
      ]
    },
    {
      "cell_type": "code",
      "execution_count": 11,
      "metadata": {
        "colab": {
          "base_uri": "https://localhost:8080/"
        },
        "id": "loX7ZUsIjd19",
        "outputId": "486b6f8c-198b-4fa4-d0e0-ae33557ba13c"
      },
      "outputs": [
        {
          "data": {
            "text/plain": [
              "<Compressed Sparse Row sparse matrix of dtype 'int64'\n",
              "\twith 7 stored elements and shape (3, 5)>"
            ]
          },
          "execution_count": 11,
          "metadata": {},
          "output_type": "execute_result"
        }
      ],
      "source": [
        "# Text Features\n",
        "\n",
        "sample = ['problem of evil',\n",
        "          'evil queen',\n",
        "          'horizon problem']\n",
        "\n",
        "from sklearn.feature_extraction.text import CountVectorizer\n",
        "\n",
        "vec = CountVectorizer()\n",
        "X = vec.fit_transform(sample)\n",
        "X"
      ]
    },
    {
      "cell_type": "code",
      "execution_count": 13,
      "metadata": {
        "colab": {
          "base_uri": "https://localhost:8080/",
          "height": 143
        },
        "id": "G9B5l3b5jrNi",
        "outputId": "252e0777-ac35-4436-8cbe-83144c2dacfb"
      },
      "outputs": [
        {
          "data": {
            "text/html": [
              "<div>\n",
              "<style scoped>\n",
              "    .dataframe tbody tr th:only-of-type {\n",
              "        vertical-align: middle;\n",
              "    }\n",
              "\n",
              "    .dataframe tbody tr th {\n",
              "        vertical-align: top;\n",
              "    }\n",
              "\n",
              "    .dataframe thead th {\n",
              "        text-align: right;\n",
              "    }\n",
              "</style>\n",
              "<table border=\"1\" class=\"dataframe\">\n",
              "  <thead>\n",
              "    <tr style=\"text-align: right;\">\n",
              "      <th></th>\n",
              "      <th>evil</th>\n",
              "      <th>horizon</th>\n",
              "      <th>of</th>\n",
              "      <th>problem</th>\n",
              "      <th>queen</th>\n",
              "    </tr>\n",
              "  </thead>\n",
              "  <tbody>\n",
              "    <tr>\n",
              "      <th>0</th>\n",
              "      <td>1</td>\n",
              "      <td>0</td>\n",
              "      <td>1</td>\n",
              "      <td>1</td>\n",
              "      <td>0</td>\n",
              "    </tr>\n",
              "    <tr>\n",
              "      <th>1</th>\n",
              "      <td>1</td>\n",
              "      <td>0</td>\n",
              "      <td>0</td>\n",
              "      <td>0</td>\n",
              "      <td>1</td>\n",
              "    </tr>\n",
              "    <tr>\n",
              "      <th>2</th>\n",
              "      <td>0</td>\n",
              "      <td>1</td>\n",
              "      <td>0</td>\n",
              "      <td>1</td>\n",
              "      <td>0</td>\n",
              "    </tr>\n",
              "  </tbody>\n",
              "</table>\n",
              "</div>"
            ],
            "text/plain": [
              "   evil  horizon  of  problem  queen\n",
              "0     1        0   1        1      0\n",
              "1     1        0   0        0      1\n",
              "2     0        1   0        1      0"
            ]
          },
          "execution_count": 13,
          "metadata": {},
          "output_type": "execute_result"
        }
      ],
      "source": [
        "import pandas as pd\n",
        "pd.DataFrame(X.toarray(), columns=vec.get_feature_names_out())"
      ]
    },
    {
      "cell_type": "markdown",
      "metadata": {
        "id": "I_y4xfiFlDGY"
      },
      "source": [
        "# Pipelining"
      ]
    },
    {
      "cell_type": "code",
      "execution_count": 15,
      "metadata": {
        "colab": {
          "base_uri": "https://localhost:8080/"
        },
        "id": "VniQiKZJj2L3",
        "outputId": "243b64d2-58a1-455f-bceb-2d06404785b8"
      },
      "outputs": [
        {
          "name": "stdout",
          "output_type": "stream",
          "text": [
            "   Feature1  Feature2\n",
            "8         9        90\n",
            "1         2        20\n",
            "Predictions: [95. 25.]\n",
            "Actual: [95 25]\n"
          ]
        }
      ],
      "source": [
        "import numpy as np\n",
        "import pandas as pd\n",
        "from sklearn.pipeline import Pipeline\n",
        "from sklearn.preprocessing import StandardScaler\n",
        "from sklearn.linear_model import LinearRegression\n",
        "from sklearn.model_selection import train_test_split\n",
        "\n",
        "data = {\n",
        "    \"Feature1\": [1, 2, 3, 4, 5, 6, 7, 8, 9, 10],\n",
        "    \"Feature2\": [10, 20, 30, 40, 50, 60, 70, 80, 90, 100],\n",
        "    \"Target\": [15, 25, 35, 45, 55, 65, 75, 85, 95, 105]\n",
        "}\n",
        "\n",
        "df = pd.DataFrame(data)\n",
        "\n",
        "X = df[[\"Feature1\", \"Feature2\"]]\n",
        "y = df[\"Target\"]\n",
        "X_train, X_test, y_train, y_test = train_test_split(X, y, test_size=0.2, random_state=42)\n",
        "\n",
        "pipeline = Pipeline([\n",
        "    (\"scaler\", StandardScaler()),  # Step 1: Feature Scaling\n",
        "    (\"regressor\", LinearRegression())  # Step 2: Linear Regression\n",
        "])\n",
        "\n",
        "pipeline.fit(X_train, y_train)\n",
        "\n",
        "y_pred = pipeline.predict(X_test)\n",
        "\n",
        "print(X_test)\n",
        "print(\"Predictions:\", y_pred)\n",
        "print(\"Actual:\", y_test.values)\n"
      ]
    }
  ],
  "metadata": {
    "colab": {
      "provenance": [],
      "toc_visible": true
    },
    "kernelspec": {
      "display_name": "Python 3",
      "name": "python3"
    },
    "language_info": {
      "codemirror_mode": {
        "name": "ipython",
        "version": 3
      },
      "file_extension": ".py",
      "mimetype": "text/x-python",
      "name": "python",
      "nbconvert_exporter": "python",
      "pygments_lexer": "ipython3",
      "version": "3.10.11"
    }
  },
  "nbformat": 4,
  "nbformat_minor": 0
}
