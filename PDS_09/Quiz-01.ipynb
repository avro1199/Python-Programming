{
 "cells": [
  {
   "cell_type": "markdown",
   "metadata": {},
   "source": [
    "# PDS09 Quiz-01 #\n",
    "\n",
    "*Q1:* Write a Python program that takes an finteger as input and determines wheather the number is:\n",
    "* \"Odd\" if it is not diisible by 2\n",
    "* \"Even\" if int is divisible by 2\n",
    "\n",
    "*Example Input/Output:*\n",
    "* Input: 7 -> Output: Odd\n",
    "* Input: 10 -> Output: Even\n",
    "\n",
    "*Q2:* Write a Python program to check if a given year is a leap year or not. A year is a leap year if it is:\n",
    "divisible by 4 but not divisible by 100, except if it is divisible by 400.\n",
    "*Example Input/Output:*\n",
    "* Input: 2020 -> Output: Leap Year\n",
    "* Input: 1900 -> Output: Not a Leap Year\n",
    "\n",
    "*Q3:* Write a Python program hat takes a score (0-100) as input and prints the grade:\n",
    "* \"A\" for scores 90 and above.\n",
    "* \"B\" for scores 80-89\n",
    "* \"C\" for scores 70-79\n",
    "* \"D\" for scores 60-69\n",
    "* \"F\" for scores below 60-0\n",
    "If the input is invalid (not int the range 0-100), print \"Invalid Score\".\n",
    "*Example Input/Output:*\n",
    "* Input: 85 -> Output:B\n",
    "* Input: 150 -> Output: Invalid Score\n",
    "\n",
    "*Q4:* Write a Python program tha takes three numbers as input and prints the largest one.\n",
    "*Example Input/Output:*\n",
    "* Input: 4, 9, 7 -> Output: 9\n",
    "* Inpuot: 3, 3, 3 -> Output: 3"
   ]
  },
  {
   "cell_type": "code",
   "execution_count": 4,
   "metadata": {},
   "outputs": [
    {
     "name": "stdout",
     "output_type": "stream",
     "text": [
      "The number is odd\n"
     ]
    }
   ],
   "source": [
    "#Questioin 01\n",
    "num = int(input(\"Enter a number: \"))\n",
    "\n",
    "if num % 2 == 0:\n",
    "    print(\"The number is even\")\n",
    "else:\n",
    "    print(\"The number is odd\")"
   ]
  },
  {
   "cell_type": "code",
   "execution_count": 11,
   "metadata": {},
   "outputs": [
    {
     "name": "stdout",
     "output_type": "stream",
     "text": [
      "Not Even or Odd\n"
     ]
    }
   ],
   "source": [
    "#Questioin 01.1\n",
    "num_str = input(\"Enter a number: \")\n",
    "\n",
    "num_f = float(num_str)\n",
    "num = int(num_f)\n",
    "\n",
    "if(num_f != num):\n",
    "    print(\"Not Even or Odd\")\n",
    "elif num % 2 == 0:\n",
    "    print(\"Even\")\n",
    "else:\n",
    "    print(\"Odd\")"
   ]
  },
  {
   "cell_type": "code",
   "execution_count": 7,
   "metadata": {},
   "outputs": [
    {
     "name": "stdout",
     "output_type": "stream",
     "text": [
      "Please enter a valid number\n",
      "The number is even\n"
     ]
    }
   ],
   "source": [
    "#Question 01.2\n",
    "while True:\n",
    "    try:\n",
    "        num = int(input(\"Enter a number: \"))\n",
    "        if num % 2 == 0:\n",
    "            print(\"Even\")\n",
    "        else:\n",
    "            print(\"Odd\")\n",
    "    except ValueError:\n",
    "        print(\"Not Even or Odd\")\n",
    "        continue\n",
    "    else:\n",
    "        break"
   ]
  },
  {
   "cell_type": "code",
   "execution_count": 12,
   "metadata": {},
   "outputs": [
    {
     "name": "stdout",
     "output_type": "stream",
     "text": [
      "Leap Year\n"
     ]
    }
   ],
   "source": [
    "#Question 02\n",
    "num = int(input(\"Enter a Year: \"))\n",
    "\n",
    "if ((num % 400 == 0) or ((num % 4 == 0) and (num % 100 != 0))):\n",
    "    print(\"Leap Year\")\n",
    "else:\n",
    "    print(\"Not a Leap Year\")"
   ]
  },
  {
   "cell_type": "code",
   "execution_count": 17,
   "metadata": {},
   "outputs": [
    {
     "name": "stdout",
     "output_type": "stream",
     "text": [
      "Invalid Score\n"
     ]
    }
   ],
   "source": [
    "#Question 03\n",
    "num = int(input(\"Enter the score: \"))\n",
    "\n",
    "if num > 100 or num < 0:\n",
    "    print(\"Invalid Score\")\n",
    "elif num >= 90:\n",
    "    print(\"A\")\n",
    "elif num >= 80:\n",
    "    print(\"B\")\n",
    "elif num >= 70:\n",
    "    print(\"C\")\n",
    "elif num >= 60:\n",
    "    print(\"D\")\n",
    "else:\n",
    "    print(\"F\")"
   ]
  },
  {
   "cell_type": "code",
   "execution_count": 26,
   "metadata": {},
   "outputs": [
    {
     "name": "stdout",
     "output_type": "stream",
     "text": [
      "3\n"
     ]
    }
   ],
   "source": [
    "#Question 04\n",
    "\n",
    "num1 = int(input(\"Enter the first number: \"))\n",
    "num2 = int(input(\"Enter the second number: \"))\n",
    "num3 = int(input(\"Enter the third number: \"))\n",
    "\n",
    "if num1 > num2 and num1 > num3:\n",
    "    print(num1)\n",
    "elif num2 > num1 and num2 > num3:\n",
    "    print(num2)\n",
    "else:\n",
    "    print(num3)"
   ]
  }
 ],
 "metadata": {
  "kernelspec": {
   "display_name": "Python 3",
   "language": "python",
   "name": "python3"
  },
  "language_info": {
   "codemirror_mode": {
    "name": "ipython",
    "version": 3
   },
   "file_extension": ".py",
   "mimetype": "text/x-python",
   "name": "python",
   "nbconvert_exporter": "python",
   "pygments_lexer": "ipython3",
   "version": "3.10.11"
  }
 },
 "nbformat": 4,
 "nbformat_minor": 2
}
