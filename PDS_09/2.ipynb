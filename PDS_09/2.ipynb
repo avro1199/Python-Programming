{
 "cells": [
  {
   "cell_type": "markdown",
   "metadata": {},
   "source": [
    "# PDS-09 Second Class #\n",
    "* String Operations\n",
    "* Python List"
   ]
  },
  {
   "cell_type": "code",
   "execution_count": null,
   "metadata": {},
   "outputs": [
    {
     "name": "stdout",
     "output_type": "stream",
     "text": [
      "First number is 5\n",
      "Second number is  7\n",
      "Third number is  13\n",
      "The sum of the numbers is 25\n"
     ]
    }
   ],
   "source": [
    "# spliting input into multiple variables\n",
    "x, y, z = input(\"Enter three numbers separated by commas: \").split(\",\")\n",
    "\n",
    "print(f\"First number is {x}\")\n",
    "print(f\"Second number is {y}\")\n",
    "print(f\"Third number is {z}\")\n",
    "print(f\"The sum of the numbers is {int(x) + int(y) + int(z)}\")"
   ]
  },
  {
   "cell_type": "code",
   "execution_count": 4,
   "metadata": {},
   "outputs": [
    {
     "name": "stdout",
     "output_type": "stream",
     "text": [
      "Python-:*:-is-:*:-fun\n",
      "Python is fun***Python is fun!\n"
     ]
    }
   ],
   "source": [
    "#seperator in print function\n",
    "print(\"Python\", \"is\", \"fun\", sep=\"-:*:-\")\n",
    "\n",
    "#end in print function\n",
    "print(\"Python\", \"is\", \"fun\", end=\"***\")\n",
    "print(\"Python\", \"is\", \"fun\", end=\"!\\n\")\n"
   ]
  },
  {
   "cell_type": "code",
   "execution_count": 6,
   "metadata": {},
   "outputs": [
    {
     "name": "stdout",
     "output_type": "stream",
     "text": [
      "Hello Rj Avro! You are 24 years old.\n",
      "Name: Rj Avro\n",
      " Age: 24\n"
     ]
    }
   ],
   "source": [
    "#f-string\n",
    "\n",
    "name = input(\"Enter your name: \")\n",
    "age = input(\"Enter your age: \")\n",
    "\n",
    "print(f\"Hello {name}! You are {age} years old.\")\n",
    "print(\"Name: {}\\n Age: {}\".format(name, age))"
   ]
  },
  {
   "cell_type": "code",
   "execution_count": 25,
   "metadata": {},
   "outputs": [
    {
     "name": "stdout",
     "output_type": "stream",
     "text": [
      "Hello, Alice!\n",
      "HaHaHa\n",
      "6\n",
      "Hello \n",
      "Progarmming\n"
     ]
    }
   ],
   "source": [
    "#Practice Problem\n",
    "great = \"Hello\"\n",
    "name = \"Alice\"\n",
    "print(great + \", \" + name + \"!\")\n",
    "\n",
    "laugh = 3 * \"Ha\"\n",
    "print(laugh)\n",
    "print(len(laugh))\n",
    "\n",
    "print(\"Hello World\"[0:7])\n",
    "\n",
    "text = \"Pyhton Progarmming\"\n",
    "print(text[7:])"
   ]
  },
  {
   "cell_type": "code",
   "execution_count": 39,
   "metadata": {},
   "outputs": [
    {
     "name": "stdout",
     "output_type": "stream",
     "text": [
      "Index: 0 =>  1\n",
      "Index: 1 =>  two\n",
      "Index: 2 =>  3.0\n",
      "Index: 3 =>  [4, 'four']\n",
      "Index: 4 =>  5\n",
      "['two', 3.0]\n",
      "['two', 3.0, 6]\n",
      "[1, 2, 'two and half', 3, 4, 5]\n",
      "[1, 2, 3, 4, 5]\n"
     ]
    },
    {
     "ename": "ValueError",
     "evalue": "list.remove(x): x not in list",
     "output_type": "error",
     "traceback": [
      "\u001b[1;31m---------------------------------------------------------------------------\u001b[0m",
      "\u001b[1;31mValueError\u001b[0m                                Traceback (most recent call last)",
      "Cell \u001b[1;32mIn[39], line 21\u001b[0m\n\u001b[0;32m     18\u001b[0m lst\u001b[38;5;241m.\u001b[39mremove(\u001b[38;5;124m\"\u001b[39m\u001b[38;5;124mtwo and half\u001b[39m\u001b[38;5;124m\"\u001b[39m)\n\u001b[0;32m     19\u001b[0m \u001b[38;5;28mprint\u001b[39m(lst)\n\u001b[1;32m---> 21\u001b[0m \u001b[43mlst\u001b[49m\u001b[38;5;241;43m.\u001b[39;49m\u001b[43mremove\u001b[49m\u001b[43m(\u001b[49m\u001b[38;5;241;43m100\u001b[39;49m\u001b[43m)\u001b[49m\n\u001b[0;32m     22\u001b[0m \u001b[38;5;28mprint\u001b[39m(lst)\n",
      "\u001b[1;31mValueError\u001b[0m: list.remove(x): x not in list"
     ]
    }
   ],
   "source": [
    "#List and List Methods\n",
    "lst = [1, 2, 3, 4, 5]\n",
    "mx_lst = [1, \"two\", 3.0, [4, \"four\"], 5]\n",
    "\n",
    "for i in range(5):\n",
    "    print(f\"Index: {i} =>  {mx_lst[i]}\")\n",
    "\n",
    "\n",
    "slc_lst = mx_lst[1:3]\n",
    "print(slc_lst)\n",
    "\n",
    "slc_lst.append(6)\n",
    "print(slc_lst)\n",
    "\n",
    "lst.insert(2,\"two and half\")\n",
    "print(lst)\n",
    "\n",
    "lst.remove(\"two and half\")\n",
    "print(lst)\n",
    "\n",
    "lst.remove(100)\n",
    "print(lst)"
   ]
  },
  {
   "cell_type": "code",
   "execution_count": 40,
   "metadata": {},
   "outputs": [
    {
     "name": "stdout",
     "output_type": "stream",
     "text": [
      "('two', 3.0)\n"
     ]
    }
   ],
   "source": [
    "#Tuples and Tuple Methods\n",
    "\n",
    "tpl = (1, 2, 3, 4, 5)\n",
    "mx_tpl = (1, \"two\", 3.0, [4, \"four\"], 5)\n",
    "\n",
    "print(mx_tpl[1:3])"
   ]
  },
  {
   "cell_type": "code",
   "execution_count": 42,
   "metadata": {},
   "outputs": [
    {
     "name": "stdout",
     "output_type": "stream",
     "text": [
      "{1, 2, 3, 4, 5}\n",
      "3 is in the set\n"
     ]
    }
   ],
   "source": [
    "#set\n",
    "s_lst = [1, 2, 3, 4, 5, 1, 2, 3, 4, 5]\n",
    "st = {1, 2, 3, 4, 5}\n",
    "\n",
    "s_set = set(s_lst)\n",
    "print(s_set)\n",
    "\n",
    "if 3 in st:\n",
    "    print(\"3 is in the set\")"
   ]
  }
 ],
 "metadata": {
  "kernelspec": {
   "display_name": "Python 3",
   "language": "python",
   "name": "python3"
  },
  "language_info": {
   "codemirror_mode": {
    "name": "ipython",
    "version": 3
   },
   "file_extension": ".py",
   "mimetype": "text/x-python",
   "name": "python",
   "nbconvert_exporter": "python",
   "pygments_lexer": "ipython3",
   "version": "3.10.11"
  }
 },
 "nbformat": 4,
 "nbformat_minor": 2
}
