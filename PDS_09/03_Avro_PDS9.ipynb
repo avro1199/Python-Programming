{
 "cells": [
  {
   "cell_type": "markdown",
   "metadata": {},
   "source": [
    "# Exercise 01 #\n",
    "* Python Sets\n",
    "* Set Methods\n",
    "* Python Dictionaries\n",
    "* Dictionary Methods\n",
    "* Nested Dictionaries\n",
    "* Python Arrays(Using List)\n",
    "* Array Operations"
   ]
  },
  {
   "cell_type": "code",
   "execution_count": 5,
   "metadata": {},
   "outputs": [
    {
     "name": "stdout",
     "output_type": "stream",
     "text": [
      "Union =>  {1, 2, 3, 4, 5, 6, 7, 8}\n",
      "Intersection =>  {4, 5}\n",
      "Difference =>  {1, 2, 3}\n",
      "Symmetric Difference =>  {1, 2, 3, 6, 7, 8}\n"
     ]
    }
   ],
   "source": [
    "# 1.1\n",
    "# Set Operaions\n",
    "set_a = {1, 2, 3, 4, 5}\n",
    "set_b = {4, 5, 6, 7, 8}\n",
    "\n",
    "Un = set_a.union(set_b)\n",
    "print(\"Union => \", Un)\n",
    "\n",
    "In = set_a.intersection(set_b)\n",
    "print(\"Intersection => \", In)\n",
    "\n",
    "diff = set_a.difference(set_b)\n",
    "print(\"Difference => \", diff)\n",
    "\n",
    "sym_diff = set_a.symmetric_difference(set_b)\n",
    "print(\"Symmetric Difference => \", sym_diff)"
   ]
  },
  {
   "cell_type": "code",
   "execution_count": 11,
   "metadata": {},
   "outputs": [
    {
     "name": "stdout",
     "output_type": "stream",
     "text": [
      "{'cherry', 'banana', 'apple', 'date'}\n",
      "{'cherry', 'apple', 'date'}\n",
      "'date' is present in the set:  True\n",
      "\n",
      "Final Set =>  {'cherry', 'apple', 'date'}\n"
     ]
    }
   ],
   "source": [
    "# 1.2\n",
    "# Set Operations\n",
    "\n",
    "unique_words = set()\n",
    "\n",
    "fruits = [\"apple\", \"banana\", \"apple\", \"cherry\", \"banana\", \"date\"]\n",
    "\n",
    "for fruit in fruits:\n",
    "    unique_words.add(fruit)\n",
    "\n",
    "print(unique_words)\n",
    "\n",
    "unique_words.remove(\"banana\")\n",
    "print(unique_words)\n",
    "\n",
    "print(\"\\'date\\' is present in the set: \", \"date\" in unique_words)\n",
    "\n",
    "print(\"\\nFinal Set => \", unique_words)"
   ]
  },
  {
   "cell_type": "code",
   "execution_count": 13,
   "metadata": {},
   "outputs": [
    {
     "name": "stdout",
     "output_type": "stream",
     "text": [
      "{64, 1, 4, 36, 100, 9, 16, 49, 81, 25}\n"
     ]
    }
   ],
   "source": [
    "# 1.3\n",
    "# Set Comprehension\n",
    "\n",
    "set_sqr = {x*x for x in range(1, 11)}\n",
    "\n",
    "print(set_sqr)"
   ]
  },
  {
   "cell_type": "code",
   "execution_count": 25,
   "metadata": {},
   "outputs": [
    {
     "name": "stdout",
     "output_type": "stream",
     "text": [
      "{'Alice': 85, 'Bob': 92, 'Charlie': 78, 'Diana': 88}\n",
      "{'Alice': 85, 'Bob': 92, 'Charlie': 78, 'Diana': 88, 'Eve': 95}\n",
      "{'Alice': 85, 'Bob': 95, 'Charlie': 78, 'Diana': 88, 'Eve': 95}\n",
      "The Grade of Charlie =>  78\n",
      "{'Alice': 85, 'Bob': 95, 'Charlie': 78, 'Eve': 95} \n",
      "\n",
      "Name: Alice => Grade: 85\n",
      "Name: Bob => Grade: 95\n",
      "Name: Charlie => Grade: 78\n",
      "Name: Eve => Grade: 95\n"
     ]
    }
   ],
   "source": [
    "# 2.4\n",
    "# Dictionay Creation and Access\n",
    "\n",
    "student_grades = {'Alice': 85, 'Bob': 92, 'Charlie': 78, 'Diana': 88}\n",
    "print(student_grades)\n",
    "\n",
    "student_grades['Eve'] = 95\n",
    "print(student_grades)\n",
    "\n",
    "student_grades['Bob'] = 95\n",
    "print(student_grades)\n",
    "\n",
    "print(\"The Grade of Charlie => \", student_grades['Charlie'])\n",
    "\n",
    "del student_grades['Diana']\n",
    "print(student_grades, \"\\n\")\n",
    "\n",
    "for name in student_grades.keys():\n",
    "    print(\"Name: \", name, \" => \", \"Grade: \", student_grades[name], sep=\"\")"
   ]
  },
  {
   "cell_type": "code",
   "execution_count": 31,
   "metadata": {},
   "outputs": [
    {
     "name": "stdout",
     "output_type": "stream",
     "text": [
      "{'apple': 10, 'banana': 5, 'orange': 8}\n",
      "{'apple': 15, 'banana': 5, 'orange': 8}\n",
      "'grape' is in the inventory => False\n",
      "{'apple': 15, 'banana': 5, 'orange': 8, 'grape': 15}\n",
      "\n",
      "All Items and Quantities => {'apple': 15, 'banana': 5, 'orange': 8, 'grape': 15}\n"
     ]
    }
   ],
   "source": [
    "# 2.5\n",
    "# Dictionary Methods\n",
    "\n",
    "inventory = {'apple': 10, 'banana': 5, 'orange': 8}\n",
    "print(inventory)\n",
    "\n",
    "inventory['apple'] += 5\n",
    "print(inventory)\n",
    "\n",
    "print(\"\\'grape\\' is in the inventory =>\", 'grape' in inventory)\n",
    "if 'grape' not in inventory:\n",
    "    inventory['grape'] = 15\n",
    "print(inventory)\n",
    "\n",
    "print(\"\\nAll Items and Quantities =>\", inventory)"
   ]
  },
  {
   "cell_type": "code",
   "execution_count": 37,
   "metadata": {},
   "outputs": [
    {
     "name": "stdout",
     "output_type": "stream",
     "text": [
      "{'emp1': {'name': 'John', 'age': 28, 'department': 'HR'}, 'emp2': {'name': 'Marie', 'age': 22, 'department': 'Finance'}, 'emp3': {'name': 'Liam', 'age': 35, 'department': 'IT'}}\n",
      "{'emp1': {'name': 'John', 'age': 28, 'department': 'HR'}, 'emp2': {'name': 'Marie', 'age': 22, 'department': 'Finance'}, 'emp3': {'name': 'Liam', 'age': 35, 'department': 'IT'}, 'emp4': {'name': 'Emma', 'age': 30, 'department': 'Marketing'}}\n",
      "{'emp1': {'name': 'John', 'age': 28, 'department': 'HR'}, 'emp2': {'name': 'Marie', 'age': 22, 'department': 'Finance'}, 'emp3': {'name': 'Liam', 'age': 36, 'department': 'IT'}, 'emp4': {'name': 'Emma', 'age': 30, 'department': 'Marketing'}}\n",
      "\n",
      "Department of Marie => Finance \n",
      "\n",
      "{'emp2': {'name': 'Marie', 'age': 22, 'department': 'Finance'}, 'emp3': {'name': 'Liam', 'age': 36, 'department': 'IT'}, 'emp4': {'name': 'Emma', 'age': 30, 'department': 'Marketing'}}\n"
     ]
    }
   ],
   "source": [
    "# 2.6\n",
    "# Nested Dictionaries\n",
    "\n",
    "employees = {'emp1': {'name': 'John', 'age': 28, 'department': 'HR'},\n",
    "             'emp2': {'name': 'Marie', 'age': 22, 'department': 'Finance'},\n",
    "             'emp3': {'name': 'Liam', 'age': 35, 'department': 'IT'}}\n",
    "print(employees)\n",
    "\n",
    "employees['emp4'] = {'name': 'Emma', 'age': 30, 'department': 'Marketing'}\n",
    "print(employees)\n",
    "\n",
    "employees['emp3']['age'] = 36\n",
    "print(employees)\n",
    "\n",
    "print(\"\\nDepartment of Marie =>\", employees['emp2']['department'], \"\\n\")\n",
    "\n",
    "del employees['emp1']\n",
    "print(employees)"
   ]
  },
  {
   "cell_type": "code",
   "execution_count": 42,
   "metadata": {},
   "outputs": [
    {
     "name": "stdout",
     "output_type": "stream",
     "text": [
      "[10, 20, 30, 40, 50]\n",
      "[10, 20, 30, 40, 50, 60]\n",
      "[10, 30, 40, 50, 60]\n",
      "[10, 25, 30, 40, 50, 60]\n",
      "\n",
      "Final Array => [10, 25, 30, 40, 50, 60]\n"
     ]
    }
   ],
   "source": [
    "# 3.7\n",
    "# Array Basics\n",
    "\n",
    "numbers = [10, 20, 30, 40, 50]\n",
    "print(numbers)\n",
    "\n",
    "numbers.append(60)\n",
    "print(numbers)\n",
    "\n",
    "numbers.remove(20)\n",
    "print(numbers)\n",
    "\n",
    "numbers.insert(1, 25)\n",
    "print(numbers)\n",
    "\n",
    "print(\"\\nFinal Array =>\", numbers)"
   ]
  },
  {
   "cell_type": "code",
   "execution_count": 51,
   "metadata": {},
   "outputs": [
    {
     "name": "stdout",
     "output_type": "stream",
     "text": [
      "[23, 19, 22, 18, 24, 20, 21] \n",
      "\n",
      "Average Temperature = 21.0\n",
      "Maximum Temperature = 24\n",
      "Minimum Temperature = 18\n"
     ]
    }
   ],
   "source": [
    "# 3.8\n",
    "# Array Operations\n",
    "\n",
    "temperatures = [23, 19, 22, 18, 24, 20, 21]\n",
    "print(temperatures, \"\\n\")\n",
    "\n",
    "sum = 0\n",
    "for t in temperatures:\n",
    "    sum += t\n",
    "\n",
    "avg = sum / len(temperatures)\n",
    "print(\"Average Temperature =\", avg)\n",
    "\n",
    "print(\"Maximum Temperature =\", max(temperatures))\n",
    "print(\"Minimum Temperature =\", min(temperatures))"
   ]
  },
  {
   "cell_type": "code",
   "execution_count": 56,
   "metadata": {},
   "outputs": [
    {
     "name": "stdout",
     "output_type": "stream",
     "text": [
      "[[1, 2, 3], [4, 5, 6], [7, 8, 9]]\n",
      "Element @ (2,3) => 6\n",
      "\n",
      "Printing the matrix row by row:\n",
      "[1, 20, 3]\n",
      "[4, 5, 6]\n",
      "[7, 8, 9]\n"
     ]
    }
   ],
   "source": [
    "# 3.9\n",
    "# Multidimentional Arrays\n",
    "\n",
    "matrix = [[1, 2, 3], [4, 5, 6], [7, 8, 9]]\n",
    "print(matrix)\n",
    "\n",
    "print(\"Element @ (2,3) =>\", matrix[1][2])\n",
    "\n",
    "matrix[0][1] = 20\n",
    "\n",
    "print(\"\\nPrinting the matrix row by row:\")\n",
    "for r in matrix:\n",
    "    print(r)"
   ]
  }
 ],
 "metadata": {
  "kernelspec": {
   "display_name": "Python 3",
   "language": "python",
   "name": "python3"
  },
  "language_info": {
   "codemirror_mode": {
    "name": "ipython",
    "version": 3
   },
   "file_extension": ".py",
   "mimetype": "text/x-python",
   "name": "python",
   "nbconvert_exporter": "python",
   "pygments_lexer": "ipython3",
   "version": "3.10.11"
  }
 },
 "nbformat": 4,
 "nbformat_minor": 2
}
