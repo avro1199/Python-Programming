{
 "cells": [
  {
   "cell_type": "code",
   "execution_count": 6,
   "metadata": {},
   "outputs": [
    {
     "name": "stdout",
     "output_type": "stream",
     "text": [
      "{'Apple': {'price': 1.2, 'stock': 50}, 'Banana': {'price': 0.5, 'stock': 120}, 'Orange': {'price': 0.8, 'stock': 80}, 'Grapes': {'price': 2, 'stock': 40}}\n"
     ]
    }
   ],
   "source": [
    "inventory = {\n",
    "    'Apple':{'price':1.2, 'stock':50},\n",
    "    'Banana':{'price':0.5, 'stock':100},\n",
    "    'Orange':{'price':0.8, 'stock':80}\n",
    "}\n",
    "\n",
    "#add Grapes\n",
    "inventory['Grapes'] = {'price':2, 'stock':40}\n",
    "\n",
    "#update Banana\n",
    "inventory['Banana']['stock'] = 120\n",
    "\n",
    "print(inventory)"
   ]
  },
  {
   "cell_type": "code",
   "execution_count": 20,
   "metadata": {},
   "outputs": [
    {
     "name": "stdout",
     "output_type": "stream",
     "text": [
      "153.9384\n",
      "[10 20 30 40 50]\n",
      "Sum =  150\n",
      "Mean =  30.0 \n",
      "\n",
      "Less than 20 =>  [ 7 18 11]\n",
      "Largest 4 numbers:  [18 25 36 42]\n"
     ]
    }
   ],
   "source": [
    "#function for calculate area\n",
    "\n",
    "def calculate_area(radius):\n",
    "    return 3.1416*(radius**2)\n",
    "\n",
    "area = calculate_area(7)\n",
    "print(area)\n",
    "\n",
    "\n",
    "#NumPy Arrays & Computations\n",
    "import numpy as np\n",
    "\n",
    "arr = np.array([5, 15, 25, 35, 45])\n",
    "\n",
    "#add 5 by NumPy's universal function\n",
    "arr = np.add(arr, 5)\n",
    "print(arr)\n",
    "\n",
    "#Sum and mean\n",
    "sum = arr.sum()\n",
    "print('Sum = ', sum)\n",
    "\n",
    "mean = arr.mean()\n",
    "print('Mean = ', mean, '\\n')\n",
    "\n",
    "\n",
    "#Boolean Logic & Sorting\n",
    "\n",
    "arr2 = np.array([25, 7, 18, 42, 11, 36])\n",
    "\n",
    "idx = arr2 < 20\n",
    "less_than_20 = arr2[idx]\n",
    "print('Less than 20 => ',less_than_20)\n",
    "\n",
    "arr2.sort()\n",
    "print('Largest 4 numbers: ',arr2[-4:])"
   ]
  },
  {
   "cell_type": "code",
   "execution_count": 34,
   "metadata": {},
   "outputs": [
    {
     "name": "stdout",
     "output_type": "stream",
     "text": [
      "      Name  History  Geography  Literature\n",
      "0    Alice       78         85          92\n",
      "1      Bob       80         88          85\n",
      "2  Charlie       92         75          87\n",
      "\n",
      "       Name  History  Geography  Literature      Total\n",
      "0    Alice       78         85          92  85.000000\n",
      "1      Bob       80         88          85  84.333333\n",
      "2  Charlie       92         75          87  84.666667 \n",
      "\n",
      "0    85\n",
      "1    88\n",
      "2    75\n",
      "Name: Geography, dtype: int64\n",
      "    Name  History  Geography  Literature  Total\n",
      "0  Alice       78         85          92   85.0\n"
     ]
    }
   ],
   "source": [
    "import pandas as pd\n",
    "\n",
    "df = pd.DataFrame(\n",
    "    {\n",
    "        'Name':['Alice', 'Bob', 'Charlie'],\n",
    "        'History':[78, 80, 92],\n",
    "        'Geography':[85, 88, 75],\n",
    "        'Literature':[92, 85, 87]\n",
    "    }\n",
    ")\n",
    "\n",
    "print(df)\n",
    "\n",
    "#add Total\n",
    "df['Total'] = (df['History'] + df['Geography'] + df['Literature']) / 3\n",
    "\n",
    "print('\\n', df, '\\n')\n",
    "\n",
    "#Only Geography Column\n",
    "print(df['Geography'])\n",
    "\n",
    "#row with highest total marks\n",
    "\n",
    "highest = df['Total'].max()\n",
    "highest\n",
    "print(df[df['Total'] == highest])"
   ]
  }
 ],
 "metadata": {
  "kernelspec": {
   "display_name": "Python 3",
   "language": "python",
   "name": "python3"
  },
  "language_info": {
   "codemirror_mode": {
    "name": "ipython",
    "version": 3
   },
   "file_extension": ".py",
   "mimetype": "text/x-python",
   "name": "python",
   "nbconvert_exporter": "python",
   "pygments_lexer": "ipython3",
   "version": "3.10.11"
  }
 },
 "nbformat": 4,
 "nbformat_minor": 2
}
