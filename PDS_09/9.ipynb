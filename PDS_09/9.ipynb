{
 "cells": [
  {
   "cell_type": "markdown",
   "metadata": {},
   "source": [
    "# PDS09 9th Class #\n",
    "* Class & Object"
   ]
  },
  {
   "cell_type": "code",
   "execution_count": 3,
   "metadata": {},
   "outputs": [
    {
     "name": "stdout",
     "output_type": "stream",
     "text": [
      "Config is  i5 16\n"
     ]
    }
   ],
   "source": [
    "# Class exampel\n",
    "class computer:\n",
    "    def __init__(self,cpu,ram):\n",
    "        self.cpu = cpu\n",
    "        self.ram = ram\n",
    "    def config(self):\n",
    "        print(\"Config is \",self.cpu,self.ram)\n",
    "\n",
    "com1 = computer('i5',16)\n",
    "com2 = computer('i7',8)\n",
    "\n",
    "\n",
    "com1.config()"
   ]
  },
  {
   "cell_type": "code",
   "execution_count": 22,
   "metadata": {},
   "outputs": [
    {
     "name": "stdout",
     "output_type": "stream",
     "text": [
      "3.6875\n",
      "2.6041666666666665\n",
      "4.0\n"
     ]
    }
   ],
   "source": [
    "def get_gpa(num):\n",
    "        if num > 100 and num < 0:\n",
    "            return \"Invalid number\"\n",
    "        elif num >= 80:\n",
    "            return 4.0\n",
    "        elif num >= 75:\n",
    "            return 3.75\n",
    "        elif num >= 70:\n",
    "            return 3.5\n",
    "        elif num >= 65:\n",
    "            return 3.25\n",
    "        elif num >= 60:\n",
    "            return 3.0\n",
    "        elif num >= 55:\n",
    "            return 2.75\n",
    "        elif num >= 50:\n",
    "            return 2.5\n",
    "        elif num >= 45:\n",
    "            return 2.25\n",
    "        elif num >= 40:\n",
    "            return 2.0\n",
    "        else:\n",
    "            return 0.0\n",
    "        \n",
    "class Student:\n",
    "    def __init__(self, ban, eng, phy, math):\n",
    "\n",
    "        self.marks = [ban, eng, phy, math]\n",
    "        self.credit = [3, 3, 2, 4]\n",
    "        self.gpa = [get_gpa(mark) for mark in self.marks]\n",
    "\n",
    "        total_credit = 0\n",
    "        total_point = 0\n",
    "        for i in range(4):\n",
    "            if self.gpa[i] >= 2:\n",
    "                total_credit += self.credit[i]\n",
    "                total_point += self.credit[i] * self.gpa[i]\n",
    "\n",
    "        self.cgpa = total_point / total_credit\n",
    "\n",
    "\n",
    "############################################################################\n",
    "st1 = Student(80, 75, 80, 65)\n",
    "st2 = Student(60, 55, 50, 45)\n",
    "st3 = Student(80, 35, 30, 25)\n",
    "\n",
    "# print(st1.gpa)\n",
    "# print(format(st1.cgpa, '.2f'))\n",
    "print(st1.cgpa)\n",
    "print(st2.cgpa)\n",
    "print(st3.cgpa)\n"
   ]
  }
 ],
 "metadata": {
  "kernelspec": {
   "display_name": "Python 3",
   "language": "python",
   "name": "python3"
  },
  "language_info": {
   "codemirror_mode": {
    "name": "ipython",
    "version": 3
   },
   "file_extension": ".py",
   "mimetype": "text/x-python",
   "name": "python",
   "nbconvert_exporter": "python",
   "pygments_lexer": "ipython3",
   "version": "3.10.11"
  }
 },
 "nbformat": 4,
 "nbformat_minor": 2
}
