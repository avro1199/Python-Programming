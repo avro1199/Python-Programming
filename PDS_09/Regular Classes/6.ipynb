{
 "cells": [
  {
   "cell_type": "markdown",
   "metadata": {},
   "source": [
    "# PDS09 6th Class #\n",
    "* Function Parameter\n",
    "* Function Call"
   ]
  },
  {
   "cell_type": "code",
   "execution_count": 7,
   "metadata": {},
   "outputs": [
    {
     "name": "stdout",
     "output_type": "stream",
     "text": [
      "ID: 2\n",
      "Name: Rj Avro\n",
      "CGPA: 3.7\n"
     ]
    }
   ],
   "source": [
    "def student(id, name, cgpa):\n",
    "    print(f\"ID: {id}\\nName: {name}\\nCGPA: {cgpa}\")\n",
    "\n",
    "student(2, 'Rj Avro', 3.7)"
   ]
  },
  {
   "cell_type": "code",
   "execution_count": 4,
   "metadata": {},
   "outputs": [
    {
     "name": "stdout",
     "output_type": "stream",
     "text": [
      "(100, 'Rj Avro', 3.7)\n"
     ]
    }
   ],
   "source": [
    "def stdnt(*details):\n",
    "    print(details)\n",
    "\n",
    "stdnt(100, 'Rj Avro', 3.7)"
   ]
  },
  {
   "cell_type": "code",
   "execution_count": 11,
   "metadata": {},
   "outputs": [
    {
     "name": "stdout",
     "output_type": "stream",
     "text": [
      "25\n"
     ]
    }
   ],
   "source": [
    "#sum of multiple numbers\n",
    "\n",
    "def sum(*numbers):\n",
    "    result = 0\n",
    "    for num in numbers:\n",
    "        result += num\n",
    "    return result\n",
    "\n",
    "print(sum(1, 2, 3, 4, 6, 9))"
   ]
  }
 ],
 "metadata": {
  "kernelspec": {
   "display_name": "Python 3",
   "language": "python",
   "name": "python3"
  },
  "language_info": {
   "codemirror_mode": {
    "name": "ipython",
    "version": 3
   },
   "file_extension": ".py",
   "mimetype": "text/x-python",
   "name": "python",
   "nbconvert_exporter": "python",
   "pygments_lexer": "ipython3",
   "version": "3.10.11"
  }
 },
 "nbformat": 4,
 "nbformat_minor": 2
}
