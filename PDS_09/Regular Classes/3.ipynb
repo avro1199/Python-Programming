{
 "cells": [
  {
   "cell_type": "markdown",
   "metadata": {},
   "source": [
    "# PDS 3rd Class #\n",
    "* Dictionary"
   ]
  },
  {
   "cell_type": "code",
   "execution_count": 12,
   "metadata": {},
   "outputs": [
    {
     "name": "stdout",
     "output_type": "stream",
     "text": [
      "Alice\n",
      "{'name': 'Alice', 'age': 28, 'city': 'New York'}\n",
      "dict_keys(['name', 'age', 'city'])\n",
      "\n",
      "All Kye Value Pair =>  dict_items([('name', 'Alice'), ('age', 28), ('city', 'New York')])\n",
      "{'age': 28, 'city': 'New York'}\n",
      "28\n",
      "{'city': 'New York'}\n"
     ]
    }
   ],
   "source": [
    "# dictionary\n",
    "\n",
    "my_dict = {\"name\": \"Alice\", \"age\": 28}\n",
    "otr_dict = dict(name=\"Bob\", age=30)\n",
    "\n",
    "name = my_dict[\"name\"]\n",
    "print(name)\n",
    "\n",
    "my_dict[\"city\"] = \"New York\"\n",
    "print(my_dict)\n",
    "print(my_dict.keys())\n",
    "print(\"\\nAll Kye Value Pair => \", my_dict.items())\n",
    "\n",
    "del my_dict[\"name\"]\n",
    "print(my_dict)\n",
    "\n",
    "\n",
    "age = my_dict.pop(\"age\")\n",
    "print(age)\n",
    "print(my_dict)"
   ]
  },
  {
   "cell_type": "code",
   "execution_count": 36,
   "metadata": {},
   "outputs": [
    {
     "name": "stdout",
     "output_type": "stream",
     "text": [
      "{'name': 'Avro Biswas', 'age': 24, 'city': 'Sylhet'} \n",
      "\n",
      "{'name1': 'Rj', 'age1': 24, 'city1': 'Sylhet', 'name2': 'Avro', 'age2': 30, 'city2': 'Dhaka', 'name3': 'Biswas', 'age3': 55, 'city3': 'Khulna'} \n",
      "\n",
      "Khulna \n",
      "\n",
      "{'name1': 'Rj', 'age1': 24, 'city1': 'Sylhet', 'name2': 'Avro', 'age2': 30, 'city2': 'Dhaka', 'name3': 'Majin', 'age3': 25, 'city3': 'Sylhet'}\n",
      "{'names': ['Rj', 'Avro', 'Biswas'], 'ages': [22, 25, 40], 'cities': ['Dhaka', 'Khulna', 'Sylhet']} \n",
      "\n",
      "Rj, 22, Dhaka, \n",
      "Avro, 25, Khulna, \n",
      "Biswas, 40, Sylhet, \n",
      "{'names': ['Rj', 'Avro', 'Mahin'], 'ages': [22, 25, '100'], 'cities': ['Dhaka', 'Khulna', 'North Carolina']}\n"
     ]
    }
   ],
   "source": [
    "# task 1\n",
    "rj_dict = {\"name\": \"Avro Biswas\", \"age\": 24, \"city\": \"Sylhet\"}\n",
    "print(rj_dict, \"\\n\")\n",
    "\n",
    "new_dict = {\"name1\": \"Rj\", \"age1\": 24, \"city1\": \"Sylhet\",\n",
    "            \"name2\": \"Avro\", \"age2\": 30, \"city2\": \"Dhaka\",\n",
    "            \"name3\": \"Biswas\", \"age3\": 55, \"city3\": \"Khulna\"}\n",
    "print(new_dict, \"\\n\")\n",
    "\n",
    "city = new_dict.pop(\"city3\")\n",
    "print(city, \"\\n\")\n",
    "\n",
    "new_dict[\"name3\"] = \"Majin\"\n",
    "new_dict[\"age3\"] = 25\n",
    "new_dict[\"city3\"] = \"Sylhet\"\n",
    "print(new_dict)\n",
    "\n",
    "\n",
    "# process 2\n",
    "p_dict = {\"names\": [\"Rj\", \"Avro\", \"Biswas\"], \"ages\": [\n",
    "    22, 25, 40], \"cities\": [\"Dhaka\", \"Khulna\", \"Sylhet\"]}\n",
    "print(p_dict, \"\\n\")\n",
    "\n",
    "for i in range(len(p_dict)):\n",
    "    for key in p_dict.keys():\n",
    "        print(p_dict[key][i], end=\", \")\n",
    "    print()\n",
    "\n",
    "# update\n",
    "p_dict[\"names\"][2] = \"Mahin\"\n",
    "p_dict[\"ages\"][2] = \"100\"\n",
    "p_dict[\"cities\"][2] = \"North Carolina\"\n",
    "\n",
    "print(p_dict)"
   ]
  },
  {
   "cell_type": "code",
   "execution_count": null,
   "metadata": {},
   "outputs": [],
   "source": []
  }
 ],
 "metadata": {
  "kernelspec": {
   "display_name": "Python 3",
   "language": "python",
   "name": "python3"
  },
  "language_info": {
   "codemirror_mode": {
    "name": "ipython",
    "version": 3
   },
   "file_extension": ".py",
   "mimetype": "text/x-python",
   "name": "python",
   "nbconvert_exporter": "python",
   "pygments_lexer": "ipython3",
   "version": "3.10.11"
  }
 },
 "nbformat": 4,
 "nbformat_minor": 2
}
