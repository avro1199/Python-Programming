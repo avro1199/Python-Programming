{
 "cells": [
  {
   "cell_type": "markdown",
   "metadata": {},
   "source": [
    "# PDS9 5th Class #\n",
    "* Search in List\n",
    "* Zip"
   ]
  },
  {
   "cell_type": "code",
   "execution_count": 4,
   "metadata": {},
   "outputs": [
    {
     "name": "stdout",
     "output_type": "stream",
     "text": [
      "3 found at position:2\n"
     ]
    }
   ],
   "source": [
    "my_list = [1, 2, 3, 4]\n",
    "\n",
    "if 3 in my_list:\n",
    "    print(f\"{3} found at position:{my_list.index(3)}\")"
   ]
  },
  {
   "cell_type": "code",
   "execution_count": 3,
   "metadata": {},
   "outputs": [
    {
     "name": "stdout",
     "output_type": "stream",
     "text": [
      "3 present in list => 2 times\n",
      "4 present in list => 2 times\n",
      "9 not present in List\n"
     ]
    }
   ],
   "source": [
    "def get_occurance(lst, num):\n",
    "    if num not in lst:\n",
    "        return 0\n",
    "    return lst.count(num)\n",
    "\n",
    "c_list = [1, 2, 3, 4, 7, 8, 10, 12, 3, 4]\n",
    "\n",
    "input_num = (input(\"Enter numbers seperated by space: \")).split()\n",
    "\n",
    "for num in input_num:\n",
    "    occr = get_occurance(c_list, int(num))\n",
    "    if occr:\n",
    "        print(f\"{num} present in list => {occr} times\")\n",
    "    else:\n",
    "        print(f\"{num} not present in List\")"
   ]
  },
  {
   "cell_type": "code",
   "execution_count": 27,
   "metadata": {},
   "outputs": [
    {
     "name": "stdout",
     "output_type": "stream",
     "text": [
      "[('Alice', 85, 22), ('Bob', 92, 24), ('Charlie', 78, 35)]\n",
      "('avro', 'Rj', 'Biswas')\n",
      "(88, 90, 100)\n",
      "(24, 18, 35)\n"
     ]
    }
   ],
   "source": [
    "# Zip method\n",
    "names = ['Alice', 'Bob', 'Charlie']\n",
    "scores = [85, 92, 78]\n",
    "ages = [22, 24, 35]\n",
    "\n",
    "zipped = zip(names, scores, ages)\n",
    "\n",
    "zip_lst = list(zipped)\n",
    "\n",
    "print(zip_lst)\n",
    "\n",
    "nms, scrs, ags = zip(*[('avro', 88, 24), ('Rj', 90, 18), ('Biswas', 100, 35)])\n",
    "print(nms)\n",
    "print(scrs)\n",
    "print(ags)\n",
    "\n"
   ]
  },
  {
   "cell_type": "code",
   "execution_count": 31,
   "metadata": {},
   "outputs": [
    {
     "name": "stdout",
     "output_type": "stream",
     "text": [
      "{'name': 'Alice', 'age': 25, 'country': 'USA'}\n",
      "{'name': 'Alice', 'age': 25}\n",
      "25\n",
      "{'name': 'Alice'}\n"
     ]
    }
   ],
   "source": [
    "keys = ['name', 'age', 'country']\n",
    "values = ['Alice', 25, 'USA']\n",
    "\n",
    "my_dict = dict(zip(keys, values))\n",
    "\n",
    "print(my_dict)\n",
    "\n",
    "del my_dict['country']\n",
    "print(my_dict)\n",
    "\n",
    "print(my_dict.pop('age'))\n",
    "print(my_dict)"
   ]
  },
  {
   "cell_type": "code",
   "execution_count": 35,
   "metadata": {},
   "outputs": [
    {
     "name": "stdout",
     "output_type": "stream",
     "text": [
      "{'Alice': 85, 'Bob': 90, 'Charlie': 78}\n"
     ]
    }
   ],
   "source": [
    "#increase_scores\n",
    "# increase_scores = lambda scores, increase: {name: score + increase for name, score in scores.items()}\n",
    "\n",
    "def increase_scores(scrs, inc):\n",
    "    for name in scrs.keys():\n",
    "        scrs[name] += inc\n",
    "\n",
    "scores = {'Alice': 85, 'Bob': 90, 'Charlie': 78}\n",
    "increase_scores(scores, 5)\n",
    "print(scores)"
   ]
  },
  {
   "cell_type": "code",
   "execution_count": 1,
   "metadata": {},
   "outputs": [
    {
     "name": "stdout",
     "output_type": "stream",
     "text": [
      "90-SDP\n"
     ]
    }
   ],
   "source": [
    "#String Reverseal\n",
    "\n",
    "batch = 'PDS-09'\n",
    "\n",
    "rev = batch[::-1]\n",
    "print(rev)"
   ]
  }
 ],
 "metadata": {
  "kernelspec": {
   "display_name": "Python 3",
   "language": "python",
   "name": "python3"
  },
  "language_info": {
   "codemirror_mode": {
    "name": "ipython",
    "version": 3
   },
   "file_extension": ".py",
   "mimetype": "text/x-python",
   "name": "python",
   "nbconvert_exporter": "python",
   "pygments_lexer": "ipython3",
   "version": "3.10.11"
  }
 },
 "nbformat": 4,
 "nbformat_minor": 2
}
