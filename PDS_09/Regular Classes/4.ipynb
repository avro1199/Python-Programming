{
 "cells": [
  {
   "cell_type": "markdown",
   "metadata": {},
   "source": [
    "# PDS9 4th Class #\n",
    "* Search Algorithms\n",
    "* Loop Search (generic)\n",
    "* Binary Search\n",
    "* Python Function"
   ]
  },
  {
   "cell_type": "code",
   "execution_count": null,
   "metadata": {},
   "outputs": [
    {
     "name": "stdout",
     "output_type": "stream",
     "text": [
      "12 found at index -> 11\n"
     ]
    }
   ],
   "source": [
    "# Loop Search\n",
    "\n",
    "numbers = [1, 2, 3, 4, 5, 6, 7, 8, 9, 10, 11, 12, 13, 14, 16, 21, 25, 29]\n",
    "\n",
    "\n",
    "item = int(input(\"Enter a number: \"))\n",
    "\n",
    "\n",
    "found = False\n",
    "\n",
    "for num in numbers:\n",
    "\n",
    "    if num == item:\n",
    "\n",
    "        found = True\n",
    "\n",
    "        print(f\"{item} found at index -> {numbers.index(item)}\")\n",
    "\n",
    "        break\n",
    "\n",
    "\n",
    "if not found:\n",
    "\n",
    "    print(\"Number not found\")"
   ]
  },
  {
   "cell_type": "code",
   "execution_count": 4,
   "metadata": {},
   "outputs": [
    {
     "name": "stdout",
     "output_type": "stream",
     "text": [
      "12 found at index -> 11\n"
     ]
    }
   ],
   "source": [
    "# Binary Search\n",
    "\n",
    "numbers = [1, 2, 3, 4, 5, 6, 7, 8, 9, 10, 11, 12, 13, 14, 16, 21, 25, 29]\n",
    "\n",
    "item = int(input(\"Enter a number: \"))\n",
    "\n",
    "found = False\n",
    "lower = 0\n",
    "upper = len(numbers)\n",
    "\n",
    "while (upper >= lower):\n",
    "    mid = (upper+lower)//2\n",
    "\n",
    "    if item == numbers[mid]:\n",
    "        found = True\n",
    "        print(f\"{item} found at index -> {mid}\")\n",
    "        break\n",
    "    elif (item < numbers[mid]):\n",
    "        upper = mid - 1\n",
    "    else:\n",
    "        lower = mid + 1\n",
    "\n",
    "if not found:\n",
    "    print(\"Number not found\")"
   ]
  },
  {
   "cell_type": "code",
   "execution_count": null,
   "metadata": {},
   "outputs": [
    {
     "name": "stdout",
     "output_type": "stream",
     "text": [
      "1 \n",
      "2 2 \n",
      "3 3 3 \n",
      "4 4 4 4 \n",
      "5 5 5 5 5 \n",
      "6 6 6 6 6 6 \n",
      "7 7 7 7 7 7 7 \n",
      "8 8 8 8 8 8 8 8 \n",
      "9 9 9 9 9 9 9 9 9 \n"
     ]
    }
   ],
   "source": [
    "# Nested for loop\n",
    "\n",
    "n = int(input(\"Enter a Number :\"))\n",
    "\n",
    "for i in range(1, n+1):\n",
    "    for j in range(i):\n",
    "        print(i, end=\" \")\n",
    "    print()"
   ]
  },
  {
   "cell_type": "code",
   "execution_count": 10,
   "metadata": {},
   "outputs": [
    {
     "name": "stdout",
     "output_type": "stream",
     "text": [
      "Sum of all the Even Numbers is => 72\n"
     ]
    }
   ],
   "source": [
    "#Task 1\n",
    "numbers = [1, 2, 3, 4, 5, 6, 7, 8, 9, 10, 11, 12, 13, 14, 16, 21, 25, 29]\n",
    "\n",
    "sum_even = 0\n",
    "\n",
    "for num in numbers:\n",
    "    if num % 2 == 0:\n",
    "        sum_even += num\n",
    "\n",
    "print(f\"Sum of all the Even Numbers is => {sum_even}\")"
   ]
  },
  {
   "cell_type": "code",
   "execution_count": 11,
   "metadata": {},
   "outputs": [
    {
     "name": "stdout",
     "output_type": "stream",
     "text": [
      "Hello, Avro!\n"
     ]
    }
   ],
   "source": [
    "# Python Function\n",
    "\n",
    "# def fnc_name(parameters):\n",
    "#   statement 1\n",
    "#   statement 2\n",
    "\n",
    "#   return values\n",
    "\n",
    "def great(name):\n",
    "    return f\"Hello, {name}!\"\n",
    "\n",
    "print(great(\"Avro\"))"
   ]
  },
  {
   "cell_type": "code",
   "execution_count": 12,
   "metadata": {},
   "outputs": [
    {
     "name": "stdout",
     "output_type": "stream",
     "text": [
      "34\n"
     ]
    }
   ],
   "source": [
    "def add(x, y):\n",
    "    return x+y\n",
    "\n",
    "a = 11\n",
    "b = 23\n",
    "\n",
    "print(add(a, b))"
   ]
  },
  {
   "cell_type": "code",
   "execution_count": 2,
   "metadata": {},
   "outputs": [
    {
     "name": "stdout",
     "output_type": "stream",
     "text": [
      "\n",
      "Enter two numbers(Enter 0 0 to exit): \n",
      "\t5.0 + 7.0 = 12.0\n",
      "\n",
      "Enter two numbers(Enter 0 0 to exit): \n"
     ]
    }
   ],
   "source": [
    "# Calculator Using Funciton\n",
    "\n",
    "ops = ['+', '-', '*', '/']\n",
    "\n",
    "\n",
    "def add(x, y):\n",
    "    return x+y\n",
    "\n",
    "def sub(x, y):\n",
    "    return x-y\n",
    "\n",
    "def mult(x, y):\n",
    "    return x*y\n",
    "\n",
    "def div(x, y):\n",
    "    return x/y\n",
    "\n",
    "def default():\n",
    "    print(\"Invalid operator\")\n",
    "\n",
    "\n",
    "while (True):\n",
    "    # taking input from the user\n",
    "    print(\"\\nEnter two numbers(Enter 0 0 to exit): \")\n",
    "    num1 = float(input(\"Enter First number: \"))\n",
    "    num2 = float(input(\"Enter Second number: \"))\n",
    "\n",
    "    if (num1 == 0 and num2 == 0):\n",
    "        print(\"\\n...Exit...\")\n",
    "        break\n",
    "\n",
    "    # performing the operation\n",
    "    operator = input(\"Enter an operator: \")\n",
    "    if operator == \"+\":\n",
    "        print(f\"\\t{num1} + {num2} = {add(num1, num2)}\")\n",
    "    elif operator == \"-\":\n",
    "        print(f\"\\t{num1} - {num2} = {sub(num1, num2)}\")\n",
    "    elif operator == \"*\":\n",
    "        print(f\"\\t{num1} * {num2} = {mult(num1, num2)}\")\n",
    "    elif operator == \"/\":\n",
    "        if num2 == 0:\n",
    "            print(\"Division by zero is not allowed\")\n",
    "            continue\n",
    "        print(f\"\\t{num1} / {num2} = {div(num1, num2)}\")\n",
    "    else:\n",
    "        default()"
   ]
  },
  {
   "cell_type": "code",
   "execution_count": 13,
   "metadata": {},
   "outputs": [
    {
     "name": "stdout",
     "output_type": "stream",
     "text": [
      "olleH\n"
     ]
    }
   ],
   "source": [
    "#string reverse\n",
    "def reverse_string(string):\n",
    "    return string[::-1]\n",
    "\n",
    "print(reverse_string(\"Hello\"))"
   ]
  }
 ],
 "metadata": {
  "kernelspec": {
   "display_name": "Python 3",
   "language": "python",
   "name": "python3"
  },
  "language_info": {
   "codemirror_mode": {
    "name": "ipython",
    "version": 3
   },
   "file_extension": ".py",
   "mimetype": "text/x-python",
   "name": "python",
   "nbconvert_exporter": "python",
   "pygments_lexer": "ipython3",
   "version": "3.10.11"
  }
 },
 "nbformat": 4,
 "nbformat_minor": 2
}
