{
 "cells": [
  {
   "cell_type": "markdown",
   "metadata": {},
   "source": [
    "# PDS09 8th Class #\n",
    "* Regular Expression"
   ]
  },
  {
   "cell_type": "code",
   "execution_count": null,
   "metadata": {},
   "outputs": [],
   "source": [
    "import re\n",
    "\n",
    "txt = \"The rain in Spain\"\n",
    "x = re.search(\"^The.*Spain$\", txt)\n",
    "\n",
    "if x:\n",
    "    print(\"YES! We have a match!\")\n",
    "else:\n",
    "    print(\"No match\")\n",
    "\n",
    "s = re.findall(r\"Sp..n\", txt)\n",
    "print(s)"
   ]
  },
  {
   "cell_type": "code",
   "execution_count": null,
   "metadata": {},
   "outputs": [],
   "source": [
    "txt = \"The The The rain in Spain\"\n",
    "\n",
    "starts_with_The = re.findall(r\"The\", txt)\n",
    "\n",
    "print(starts_with_The)"
   ]
  },
  {
   "cell_type": "code",
   "execution_count": null,
   "metadata": {},
   "outputs": [],
   "source": [
    "x = \"Mississippi\"\n",
    "y = 'Belive you can and you are halfway there'\n",
    "z = 'Belive you can and you are halfway there and you are the best'\n",
    "\n",
    "all_i = re.findall(r\"i\", x)\n",
    "print(all_i)\n",
    "\n",
    "#replace and with because\n",
    "new = re.sub(\"and\", \"because\", y)\n",
    "print(new)\n",
    "\n",
    "another = re.subn(\"and\", \"because\", z)\n",
    "print(another)"
   ]
  },
  {
   "cell_type": "code",
   "execution_count": null,
   "metadata": {},
   "outputs": [],
   "source": [
    "#Mam Code\n",
    "\n",
    "class St:\n",
    "\n",
    "    clss_var = 5\n",
    "\n",
    "    def __init__(self):\n",
    "        self.rol = ''\n",
    "        self.gp = ''\n",
    "\n",
    "m = St()\n",
    "rj = St()\n",
    "\n",
    "m.rol = '1'\n",
    "m.gp = 'A'\n",
    "St.clss_var = 10\n",
    "print(f\"Roll No: {m.rol} and GPA: {m.gp} and Class Variable: {m.clss_var}\")\n",
    "\n",
    "rj.rol = '2'\n",
    "rj.gp = 'B'\n",
    "St.clss_var = 20\n",
    "\n",
    "print(f\"Roll No: {rj.rol} and GPA: {rj.gp} and Class Variable: {rj.clss_var}\")\n",
    "print(f\"Roll No: {m.rol} and GPA: {m.gp} and Class Variable: {m.clss_var}\")"
   ]
  },
  {
   "cell_type": "code",
   "execution_count": null,
   "metadata": {},
   "outputs": [],
   "source": [
    "class Student:\n",
    "\n",
    "    def __init__(self,name, roll, gpa):\n",
    "        self.name = name\n",
    "        self.roll = roll\n",
    "        self.gpa = gpa\n",
    "\n",
    "    def show_details(self):\n",
    "        print(f\"\\nName: {self.name}, Roll: {self.roll}, GPA: {self.gpa}\")\n",
    "\n",
    "Mahia = Student('Mah', 2003129, 3.78)\n",
    "avro = Student('Rj Avro', 2020338038, 3.55)\n",
    "\n",
    "Mahia.show_details()\n",
    "avro.show_details()"
   ]
  },
  {
   "cell_type": "code",
   "execution_count": null,
   "metadata": {},
   "outputs": [],
   "source": [
    "class stdnt:\n",
    "\n",
    "    def __init__(self, roll, ban, eng, math, phy):\n",
    "        self.roll = roll\n",
    "        self.ban = ban\n",
    "        self.eng = eng\n",
    "        self.math = math\n",
    "        self.phy = phy\n",
    "\n",
    "        self.avg = 0\n",
    "\n",
    "    def calculate_avg(self):\n",
    "        self.avg = (self.ban + self.eng + self.math + self.phy) / 4\n",
    "\n",
    "    def show_details(self):\n",
    "        self.calculate_avg()\n",
    "        print(f\"Roll: {self.roll}, GPA: {self.avg}\")\n",
    "\n",
    "avro = stdnt(10, 3.5, 3.8, 3.25, 4)\n",
    "\n",
    "avro.show_details()\n"
   ]
  },
  {
   "cell_type": "code",
   "execution_count": null,
   "metadata": {},
   "outputs": [],
   "source": [
    "#without constructor\n",
    "class Student:\n",
    "\n",
    "    def set_value(self, roll, bangla, english, math, phy):\n",
    "        self.roll = roll\n",
    "        self.gpa = (bangla + english + math + phy) / 4\n",
    "\n",
    "    def show_details(self):\n",
    "        print(f\"\\nRoll: {self.roll}, GPA: {self.gpa}\")\n",
    "        \n",
    "\n",
    "Mahia = Student()\n",
    "Mahia.set_value(2003129, 3.5, 3.8, 3.25, 4)\n",
    "Mahia.show_details()\n"
   ]
  },
  {
   "cell_type": "code",
   "execution_count": 1,
   "metadata": {},
   "outputs": [
    {
     "name": "stdout",
     "output_type": "stream",
     "text": [
      "Total Cats: 3\n",
      "British eating done\n"
     ]
    }
   ],
   "source": [
    "class Cat:\n",
    "    total_cats = 0\n",
    "\n",
    "    def __init__(self, sp, color, size, weitht, age):\n",
    "        Cat.total_cats += 1\n",
    "        self.sp = sp\n",
    "        self.color = color\n",
    "        self.size = size\n",
    "        self.weight = weitht\n",
    "        self.age = age\n",
    "\n",
    "    def eat(set):\n",
    "        print(f\"{set.sp} eating done\")\n",
    "\n",
    "    def __del__(self):\n",
    "        Cat.total_cats -= 1\n",
    "\n",
    "cat1 = Cat('Persian', 'White', 'Medium', 5, 2)\n",
    "cat2 = Cat('American', 'Black', 'Small', 3, 1)\n",
    "cat3 = Cat('British', 'Gray', 'Large', 7, 3)\n",
    "\n",
    "print(f\"Total Cats: {Cat.total_cats}\")\n",
    "cat3.eat()"
   ]
  },
  {
   "cell_type": "code",
   "execution_count": 3,
   "metadata": {},
   "outputs": [
    {
     "name": "stdout",
     "output_type": "stream",
     "text": [
      "\n",
      "Species: British, Color: Black, Size: Large, Weight: 7, Age: 3, Eyes: brown\n"
     ]
    }
   ],
   "source": [
    "#inheritance example\n",
    "class Black_Cat(Cat):\n",
    "\n",
    "    def __init__(self, sp, color, size, weitht, age, eyes):\n",
    "        super().__init__(sp, color, size, weitht, age)\n",
    "        self.eyes = eyes\n",
    "\n",
    "    def eat(self):\n",
    "        print(f\"{self.sp} eating done\")\n",
    "\n",
    "    def show_details(self):\n",
    "        print(f\"\\nSpecies: {self.sp}, Color: {self.color}, Size: {self.size}, Weight: {self.weight}, Age: {self.age}, Eyes: {self.eyes}\")\n",
    "\n",
    "my_cat = Black_Cat('British', 'Black', 'Large', 7, 3, 'brown')\n",
    "my_cat.show_details()"
   ]
  }
 ],
 "metadata": {
  "kernelspec": {
   "display_name": "Python 3",
   "language": "python",
   "name": "python3"
  },
  "language_info": {
   "codemirror_mode": {
    "name": "ipython",
    "version": 3
   },
   "file_extension": ".py",
   "mimetype": "text/x-python",
   "name": "python",
   "nbconvert_exporter": "python",
   "pygments_lexer": "ipython3",
   "version": "3.10.11"
  }
 },
 "nbformat": 4,
 "nbformat_minor": 2
}
