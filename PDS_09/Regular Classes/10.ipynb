{
 "cells": [
  {
   "cell_type": "markdown",
   "metadata": {},
   "source": [
    "# PDS09 10th Class #\n",
    "* File Handling\n",
    "* Numpy"
   ]
  },
  {
   "cell_type": "code",
   "execution_count": 2,
   "metadata": {},
   "outputs": [],
   "source": [
    "#file handling\n",
    "\n",
    "#create a file\n",
    "f = open(\"file.txt\", \"w\")\n",
    "for i in range(10):\n",
    "    f.write(f\"This is line {(i+1)}\\n\")\n",
    "f.close()"
   ]
  },
  {
   "cell_type": "code",
   "execution_count": 3,
   "metadata": {},
   "outputs": [
    {
     "name": "stdout",
     "output_type": "stream",
     "text": [
      "This is line 1\n",
      "This is line 2\n",
      "This is line 3\n",
      "This is line 4\n",
      "This is line 5\n",
      "This is line 6\n",
      "This is line 7\n",
      "This is line 8\n",
      "This is line 9\n",
      "This is line 10\n",
      "\n"
     ]
    }
   ],
   "source": [
    "#read a file\n",
    "f = open(\"file.txt\", \"r\")\n",
    "print(f.read())\n",
    "f.close()"
   ]
  },
  {
   "cell_type": "code",
   "execution_count": 4,
   "metadata": {},
   "outputs": [
    {
     "name": "stdout",
     "output_type": "stream",
     "text": [
      "The file does not exist\n"
     ]
    }
   ],
   "source": [
    "import os\n",
    "os.remove(\"file.txt\")\n",
    "\n",
    "#check if file exists\n",
    "if os.path.exists(\"file.txt\"):\n",
    "    os.remove(\"file.txt\")\n",
    "else:\n",
    "    print(\"The file does not exist\")"
   ]
  },
  {
   "cell_type": "code",
   "execution_count": 5,
   "metadata": {},
   "outputs": [
    {
     "name": "stdout",
     "output_type": "stream",
     "text": [
      "Listen, smile, agree, and then do whatever you were gonna do anyway \n",
      "\n",
      "Gonna remove it soon\n",
      "The file exists\n"
     ]
    }
   ],
   "source": [
    "#Practice problem\n",
    "\n",
    "#1 Create a file named contents\n",
    "file = open('contents.txt', 'w')\n",
    "\n",
    "#2 Append the following line: 'Listen, smile, agree, and then do whatever you were gonna do anyway'\n",
    "message = 'Listen, smile, agree, and then do whatever you were gonna do anyway'\n",
    "file.write(message)\n",
    "file.close()\n",
    "\n",
    "#3 Read the flie and print it\n",
    "file = open('contents.txt', 'r')\n",
    "print(file.read(), '\\n')\n",
    "file.close()\n",
    "\n",
    "#4 Append another line\n",
    "file = open('contents.txt', 'a')\n",
    "message = '\\n\\t - Quote by Robert Downey Jr'\n",
    "file.write(message)\n",
    "file.close()\n",
    "\n",
    "#5 Overwrite the entire file with custom quote\n",
    "file = open('contents.txt', 'w')\n",
    "message = 'Good can come out of even the darkest acts'\n",
    "file.write(message)\n",
    "file.close()\n",
    "\n",
    "#6 Create another file named extra.txt\n",
    "new_file = open('extra.txt', 'w+')\n",
    "new_file.write('Gonna remove it soon')\n",
    "new_file.close()\n",
    "\n",
    "#7 Read the file\n",
    "new_file = open('extra.txt', 'r')\n",
    "print(new_file.read())\n",
    "new_file.close()\n",
    "\n",
    "#8 Delete the file\n",
    "import os\n",
    "# os.remove('extra.txt')\n",
    "\n",
    "if os.path.exists('extra.txt'):\n",
    "    print('The file exists')\n",
    "else:\n",
    "    print('The file does not exist')"
   ]
  },
  {
   "cell_type": "code",
   "execution_count": 6,
   "metadata": {},
   "outputs": [
    {
     "name": "stdout",
     "output_type": "stream",
     "text": [
      "1\n",
      "[1 2 3 4 5 6 7]\n",
      "<class 'numpy.ndarray'>\n",
      "[6 7 8]\n",
      "[5 6]\n",
      "[5]\n"
     ]
    }
   ],
   "source": [
    "#Numpy\n",
    "import numpy as np\n",
    "\n",
    "#1 Create a numpy array of 5 zeros\n",
    "arr = np.array([1, 2, 3, 4, 5, 6, 7])\n",
    "\n",
    "print(arr[0])\n",
    "print(arr)\n",
    "print(type(arr))\n",
    "\n",
    "print(arr[0:3] + 5)\n",
    "\n",
    "print(arr[-3:-1])\n",
    "print(arr[-3:-2])"
   ]
  },
  {
   "cell_type": "code",
   "execution_count": 7,
   "metadata": {},
   "outputs": [
    {
     "name": "stdout",
     "output_type": "stream",
     "text": [
      "2nd element on 1st row:  2\n",
      "2nd row 5th column:  10\n"
     ]
    }
   ],
   "source": [
    "#2D array\n",
    "arr2 = np.array([[1, 2, 3, 4, 5],\n",
    "                 [6, 7, 8, 9, 10]])\n",
    "\n",
    "print('2nd element on 1st row: ', arr2[0, 1])\n",
    "print('2nd row 5th column: ', arr2[1, 4])"
   ]
  },
  {
   "cell_type": "code",
   "execution_count": 8,
   "metadata": {},
   "outputs": [
    {
     "name": "stdout",
     "output_type": "stream",
     "text": [
      "[[[1 2 3]\n",
      "  [4 5 6]]\n",
      "\n",
      " [[7 8 9]\n",
      "  [1 3 5]]]\n",
      "Element at position  6\n",
      "3\n",
      "[1 2 3 4 5 6 7 8 9 1 3 5]\n",
      "4.5\n"
     ]
    }
   ],
   "source": [
    "#3D array\n",
    "arr3 = np.array([[[1, 2, 3],\n",
    "                  [4, 5, 6]],\n",
    "                 [[7, 8, 9],\n",
    "                  [1, 3, 5]]])\n",
    "\n",
    "print(arr3)\n",
    "print('Element at position ',arr3[0, 1, 2])\n",
    "\n",
    "print(arr3.ndim)\n",
    "\n",
    "print(arr3.flatten())\n",
    "\n",
    "print(arr3.mean())"
   ]
  },
  {
   "cell_type": "code",
   "execution_count": 9,
   "metadata": {},
   "outputs": [
    {
     "name": "stdout",
     "output_type": "stream",
     "text": [
      "[[[1 2 3]\n",
      "  [4 5 6]]\n",
      "\n",
      " [[7 8 9]\n",
      "  [1 3 5]]] \n",
      "\n",
      "[[[  1   2   3]\n",
      "  [100 100 100]]\n",
      "\n",
      " [[  7   8   9]\n",
      "  [  1   3   5]]]\n"
     ]
    }
   ],
   "source": [
    "#copy array\n",
    "arr4 = arr3.copy()\n",
    "arr4[0, 1, :] = 100\n",
    "print(arr3, '\\n')\n",
    "print(arr4)\n"
   ]
  },
  {
   "cell_type": "code",
   "execution_count": 10,
   "metadata": {},
   "outputs": [
    {
     "name": "stdout",
     "output_type": "stream",
     "text": [
      "None\n",
      "None\n",
      "[1 2 3 4 5 6 7 8 9]\n"
     ]
    }
   ],
   "source": [
    "#onws and views\n",
    "\n",
    "arr5 = np.array([1, 2, 3, 4, 5, 6, 7, 8, 9])\n",
    "# print(arr5)\n",
    "\n",
    "arr6 = arr5.copy()\n",
    "\n",
    "arr7 = arr5.view()\n",
    "\n",
    "print(arr5.base)\n",
    "print(arr6.base)\n",
    "print(arr7.base)"
   ]
  },
  {
   "cell_type": "code",
   "execution_count": 12,
   "metadata": {},
   "outputs": [
    {
     "name": "stdout",
     "output_type": "stream",
     "text": [
      "[ 1  2  3  4  5  6  7  8  9 10 11 12 13 14 15 16 17 18]\n",
      "[[[ 1  2]\n",
      "  [ 3  4]\n",
      "  [ 5  6]]\n",
      "\n",
      " [[ 7  8]\n",
      "  [ 9 10]\n",
      "  [11 12]]\n",
      "\n",
      " [[13 14]\n",
      "  [15 16]\n",
      "  [17 18]]]\n"
     ]
    }
   ],
   "source": [
    "#Reshape\n",
    "\n",
    "arr8 = np.array([1, 2, 3, 4, 5, 6, 7, 8, 9, 10, 11, 12, 13, 14, 15, 16, 17, 18])\n",
    "\n",
    "arr9 =  arr8.reshape(3, 3, 2)\n",
    "\n",
    "print(arr8)\n",
    "print(arr9)"
   ]
  }
 ],
 "metadata": {
  "kernelspec": {
   "display_name": "Python 3",
   "language": "python",
   "name": "python3"
  },
  "language_info": {
   "codemirror_mode": {
    "name": "ipython",
    "version": 3
   },
   "file_extension": ".py",
   "mimetype": "text/x-python",
   "name": "python",
   "nbconvert_exporter": "python",
   "pygments_lexer": "ipython3",
   "version": "3.10.11"
  }
 },
 "nbformat": 4,
 "nbformat_minor": 2
}
