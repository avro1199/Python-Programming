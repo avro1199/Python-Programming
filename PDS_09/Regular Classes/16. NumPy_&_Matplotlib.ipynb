{
  "cells": [
    {
      "cell_type": "markdown",
      "metadata": {
        "id": "_WFWurIS66v_"
      },
      "source": [
        "Notebook Link: https://tinyurl.com/pds-visualization"
      ]
    },
    {
      "cell_type": "markdown",
      "metadata": {
        "id": "35KAqe02K_KS"
      },
      "source": [
        "#### Python Numpy\n",
        "\n",
        "What is NumPy\n",
        "* NumPy (Numerical Python) is a powerful Python library for numerical computing.\n",
        "*   Outperforms Python lists in speed and memory usage.\n",
        "*   Unlike Python lists, NumPy arrays store elements of a single data type.\n",
        "* Core data structure: ndarray\n"
      ]
    },
    {
      "cell_type": "code",
      "execution_count": 18,
      "metadata": {
        "id": "kwNalQRVzSSv"
      },
      "outputs": [
        {
          "name": "stdout",
          "output_type": "stream",
          "text": [
            "[1 2 3 4]\n",
            "[0. 0. 0. 0. 0.]\n",
            "[1 3 5]\n"
          ]
        }
      ],
      "source": [
        "# Creating numpy arrays\n",
        "\n",
        "import numpy as np\n",
        "\n",
        "arr0 = np.array([1, 2, 3, 4])\n",
        "print(arr0)\n",
        "\n",
        "arr1 = np.zeros(5)\n",
        "print(arr1)\n",
        "\n",
        "arr2 = np.arange(1, 6, 2)\n",
        "print(arr2)"
      ]
    },
    {
      "cell_type": "code",
      "execution_count": 19,
      "metadata": {
        "collapsed": true,
        "id": "BfTS8QDo6rJe"
      },
      "outputs": [
        {
          "name": "stdout",
          "output_type": "stream",
          "text": [
            "Shape: (2, 3)\n",
            "Size: 6\n",
            "Data type: int64\n"
          ]
        }
      ],
      "source": [
        "arr2D = np.array(\n",
        "    [\n",
        "        [1, 2, 3],\n",
        "        [4, 5, 6]\n",
        "    ]\n",
        ")\n",
        "\n",
        "print(\"Shape:\", arr2D.shape)\n",
        "print(\"Size:\", arr2D.size)\n",
        "print(\"Data type:\", arr2D.dtype)"
      ]
    },
    {
      "cell_type": "code",
      "execution_count": 20,
      "metadata": {
        "colab": {
          "base_uri": "https://localhost:8080/"
        },
        "id": "sMxq02FrgJX3",
        "outputId": "1538483c-23dc-448f-ec63-3647c65e0689"
      },
      "outputs": [
        {
          "name": "stdout",
          "output_type": "stream",
          "text": [
            "(5,)\n"
          ]
        }
      ],
      "source": [
        "arr1D = np.array([1, 2, 3, 4, 5])\n",
        "print(arr1D.shape)"
      ]
    },
    {
      "cell_type": "code",
      "execution_count": 21,
      "metadata": {
        "colab": {
          "base_uri": "https://localhost:8080/"
        },
        "id": "RHJufAWd-q9Q",
        "outputId": "36d408d2-fc54-41b4-8a17-b29e46b246a2"
      },
      "outputs": [
        {
          "name": "stdout",
          "output_type": "stream",
          "text": [
            "(5, 1)\n"
          ]
        }
      ],
      "source": [
        "ex_arr = np.array([[1, 2, 3, 4, 5]])\n",
        "\n",
        "ex_2 = np.array(\n",
        "    [\n",
        "     [1], [2], [3], [4], [5]\n",
        "    ]\n",
        ")\n",
        "\n",
        "print(ex_2.shape)"
      ]
    },
    {
      "cell_type": "code",
      "execution_count": 22,
      "metadata": {
        "colab": {
          "base_uri": "https://localhost:8080/"
        },
        "id": "z7SC-JoV_z28",
        "outputId": "3a5fd5f2-e4b1-4918-9f6b-575b3449ef6b"
      },
      "outputs": [
        {
          "name": "stdout",
          "output_type": "stream",
          "text": [
            "Python list sum: 499999500000, Time taken: 0.02500 seconds\n",
            "NumPy array sum: 499999500000, Time taken: 0.00101 seconds\n"
          ]
        }
      ],
      "source": [
        "# proof of numpy being faster than python list\n",
        "\n",
        "import time\n",
        "\n",
        "size = 10**6\n",
        "py_list = list(range(size))\n",
        "np_array = np.array(py_list)\n",
        "\n",
        "start_time = time.time()\n",
        "py_sum = sum(py_list)\n",
        "end_time = time.time()\n",
        "print(f\"Python list sum: {py_sum}, Time taken: {end_time - start_time:.5f} seconds\")\n",
        "\n",
        "start_time = time.time()\n",
        "np_sum = np_array.sum()\n",
        "end_time = time.time()\n",
        "print(f\"NumPy array sum: {np_sum}, Time taken: {end_time - start_time:.5f} seconds\")"
      ]
    },
    {
      "cell_type": "code",
      "execution_count": 23,
      "metadata": {
        "colab": {
          "base_uri": "https://localhost:8080/"
        },
        "id": "f3Byo0YmAjYe",
        "outputId": "4d0e7e16-584f-47da-8478-c5fcc6a29ee6"
      },
      "outputs": [
        {
          "name": "stdout",
          "output_type": "stream",
          "text": [
            "Addition: [5 7 9]\n",
            "Multiplication by 2: [2 4 6]\n",
            "[2.  2.5 3. ]\n",
            "float64\n",
            "int64\n"
          ]
        }
      ],
      "source": [
        "# Basic Operations\n",
        "\n",
        "arr1 = np.array([1, 2, 3])\n",
        "arr2 = np.array([4, 5, 6])\n",
        "\n",
        "arr3 = arr1 + arr2\n",
        "\n",
        "print(\"Addition:\", arr3)\n",
        "\n",
        "print(\"Multiplication by 2:\", arr1 * 2)\n",
        "\n",
        "div_arr = arr2 / 2;\n",
        "print(div_arr)\n",
        "\n",
        "print(div_arr.dtype)\n",
        "\n",
        "print(arr2.dtype)"
      ]
    },
    {
      "cell_type": "code",
      "execution_count": 24,
      "metadata": {
        "colab": {
          "base_uri": "https://localhost:8080/"
        },
        "id": "u7cUeObhLsin",
        "outputId": "0ca88d14-1692-47be-9f95-320212f2eaa6"
      },
      "outputs": [
        {
          "name": "stdout",
          "output_type": "stream",
          "text": [
            "Sum along axis 0: [2. 3.]\n",
            "Sum along axis 1: [1.5 3.5]\n",
            "Sum along axis 0: [4 6]\n",
            "Sum along axis 1: [3 7]\n"
          ]
        }
      ],
      "source": [
        "# Basic Math Function\n",
        "\n",
        "# arr = np.array([10, 20, 30, 40])\n",
        "# print(\"Sum:\", arr.sum())\n",
        "# print(\"Mean:\", arr.mean())\n",
        "# print(\"Min:\", arr.min())\n",
        "\n",
        "arr2d = np.array(\n",
        "    [\n",
        "        [1, 2],\n",
        "         [3, 4]\n",
        "    ]\n",
        ")\n",
        "\n",
        "\n",
        "print(\"Sum along axis 0:\", arr2d.mean(axis=0))\n",
        "print(\"Sum along axis 1:\", arr2d.mean(axis=1))\n",
        "\n",
        "print(\"Sum along axis 0:\", arr2d.sum(axis=0))\n",
        "print(\"Sum along axis 1:\", arr2d.sum(axis=1))"
      ]
    },
    {
      "cell_type": "code",
      "execution_count": 25,
      "metadata": {
        "colab": {
          "base_uri": "https://localhost:8080/"
        },
        "id": "e6iHNF3jL58X",
        "outputId": "3d1e389d-8940-4488-fc57-3da444cff944"
      },
      "outputs": [
        {
          "name": "stdout",
          "output_type": "stream",
          "text": [
            "[20 30 40]\n",
            "[10 20 30 40 50]\n",
            "[10 40]\n"
          ]
        }
      ],
      "source": [
        "# Slicing and Indexing of 1D array\n",
        "\n",
        "arr = np.array([10, 20, 30, 40, 50])\n",
        "\n",
        "sliced_array = arr[1: 4]\n",
        "\n",
        "print(sliced_array)\n",
        "\n",
        "jump_two_arr = arr[::1]\n",
        "\n",
        "print(jump_two_arr)\n",
        "\n",
        "jump_3_arr = arr[::3]\n",
        "\n",
        "print(jump_3_arr)"
      ]
    },
    {
      "cell_type": "code",
      "execution_count": 26,
      "metadata": {
        "colab": {
          "base_uri": "https://localhost:8080/"
        },
        "id": "ELPlgVUUDtXo",
        "outputId": "4742b6d2-c750-47fd-f323-f7d49833906d"
      },
      "outputs": [
        {
          "data": {
            "text/plain": [
              "array([20, 30, 40, 50])"
            ]
          },
          "execution_count": 26,
          "metadata": {},
          "output_type": "execute_result"
        }
      ],
      "source": [
        "arr[-4:]"
      ]
    },
    {
      "cell_type": "code",
      "execution_count": 27,
      "metadata": {
        "id": "Lj6bAhQbEA9A"
      },
      "outputs": [],
      "source": [
        "arr = np.array([100, 20, 8, 45, 35])\n",
        "\n",
        "arr = np.sort(arr)"
      ]
    },
    {
      "cell_type": "code",
      "execution_count": 28,
      "metadata": {
        "colab": {
          "base_uri": "https://localhost:8080/"
        },
        "id": "ollvDKi_EL6e",
        "outputId": "20e54fb1-86bb-41b3-ae7d-31d3afff2f83"
      },
      "outputs": [
        {
          "data": {
            "text/plain": [
              "array([  8,  20,  35,  45, 100])"
            ]
          },
          "execution_count": 28,
          "metadata": {},
          "output_type": "execute_result"
        }
      ],
      "source": [
        "arr"
      ]
    },
    {
      "cell_type": "code",
      "execution_count": 29,
      "metadata": {
        "colab": {
          "base_uri": "https://localhost:8080/"
        },
        "id": "_OX6a27PEaFd",
        "outputId": "73b43728-f9c7-4418-cd39-4595636ff72c"
      },
      "outputs": [
        {
          "data": {
            "text/plain": [
              "array([ 20,  35,  45, 100])"
            ]
          },
          "execution_count": 29,
          "metadata": {},
          "output_type": "execute_result"
        }
      ],
      "source": [
        "arr[-4:]"
      ]
    },
    {
      "cell_type": "code",
      "execution_count": 30,
      "metadata": {
        "colab": {
          "base_uri": "https://localhost:8080/"
        },
        "id": "m5GsfEWEMd0i",
        "outputId": "ee4ec0c2-7a48-4f77-b3ec-3689285c2dc4"
      },
      "outputs": [
        {
          "name": "stdout",
          "output_type": "stream",
          "text": [
            "[[ 4  5  6]\n",
            " [ 8  9 10]] \n",
            "\n",
            "[[ 1  2]\n",
            " [ 5  6]\n",
            " [ 9 10]\n",
            " [13 14]] \n",
            "\n",
            "10 \n",
            "\n"
          ]
        }
      ],
      "source": [
        "# Slicing and Indexing of 2d array\n",
        "\n",
        "arr_2d = np.array([\n",
        "    [0, 1, 2, 3],\n",
        "    [4, 5, 6, 7],\n",
        "    [8, 9, 10, 11],\n",
        "    [12, 13, 14, 15]\n",
        "])\n",
        "\n",
        "subarray = arr_2d[1:3, 0:3]\n",
        "\n",
        "print(subarray, '\\n')\n",
        "\n",
        "sub_array2 = arr_2d[:, 1:3]\n",
        "print(sub_array2, '\\n')\n",
        "\n",
        "print(arr_2d[2][2], '\\n')"
      ]
    },
    {
      "cell_type": "code",
      "execution_count": 31,
      "metadata": {
        "colab": {
          "base_uri": "https://localhost:8080/"
        },
        "id": "7prX7SSkFn0-",
        "outputId": "82ea0cc9-afa7-4081-af46-5ebe5c0b5b66"
      },
      "outputs": [
        {
          "data": {
            "text/plain": [
              "array([[ 0,  1,  2,  3],\n",
              "       [ 4,  5,  6,  7],\n",
              "       [ 8,  9, 15, 11],\n",
              "       [12, 13, 14, 15]])"
            ]
          },
          "execution_count": 31,
          "metadata": {},
          "output_type": "execute_result"
        }
      ],
      "source": [
        "arr_2d[2][2] = 15\n",
        "arr_2d"
      ]
    },
    {
      "cell_type": "code",
      "execution_count": 32,
      "metadata": {
        "colab": {
          "base_uri": "https://localhost:8080/"
        },
        "id": "HPQEcD6zMnjk",
        "outputId": "596b33f7-541e-4078-b39d-6b06b56fcf23"
      },
      "outputs": [
        {
          "data": {
            "text/plain": [
              "array([[ 6,  7,  8,  9, 10],\n",
              "       [11, 12, 13, 14, 15]])"
            ]
          },
          "execution_count": 32,
          "metadata": {},
          "output_type": "execute_result"
        }
      ],
      "source": [
        "arr_2d = np.array([\n",
        "    [0, 1, 2, 3],\n",
        "    [4, 5, 6, 7],\n",
        "    [8, 9, 10, 11],\n",
        "    [12, 13, 14, 15]\n",
        "])\n",
        "\n",
        "condition_array = arr_2d > 5\n",
        "\n",
        "filtered_array = arr_2d[condition_array]\n",
        "filtered_array\n",
        "\n",
        "filtered_array.reshape(2, 5)"
      ]
    },
    {
      "cell_type": "code",
      "execution_count": 33,
      "metadata": {
        "colab": {
          "base_uri": "https://localhost:8080/"
        },
        "id": "vItyRIb0NEf1",
        "outputId": "16a82d78-a651-4ae0-dbd6-1299051fb32b"
      },
      "outputs": [
        {
          "data": {
            "text/plain": [
              "array([[ 10,   1, 100,   3],\n",
              "       [ -4,  50,   6,   7],\n",
              "       [  8,   9,  10,  11],\n",
              "       [ 12,  13, -14,  15]])"
            ]
          },
          "execution_count": 33,
          "metadata": {},
          "output_type": "execute_result"
        }
      ],
      "source": [
        "# Sorting, searching, counting\n",
        "\n",
        "arr = np.array([3, 1, 2, 1, 3])\n",
        "# print(np.sort(arr))\n",
        "\n",
        "\n",
        "np.unique(arr, return_counts=True)\n",
        "\n",
        "arr_2d = np.array([\n",
        "    [10, 1, 100, 3],\n",
        "    [-4, 50, 6, 7],\n",
        "    [8, 9, 10, 11],\n",
        "    [12, 13, -14, 15]\n",
        "])\n",
        "\n",
        "arr_2d\n",
        "\n",
        "# print()\n",
        "\n",
        "# flattened_array = arr_2d.flatten()\n",
        "# print(\"faltten array: \", flattened_array)\n",
        "# print(np.sort(flattened_array))\n",
        "\n",
        "# print(np.unique(arr_2d, return_counts=True))"
      ]
    },
    {
      "cell_type": "code",
      "execution_count": 34,
      "metadata": {
        "colab": {
          "base_uri": "https://localhost:8080/"
        },
        "id": "sahwWNf2HrBL",
        "outputId": "e17b382b-3eb1-4935-b847-24635a47d69b"
      },
      "outputs": [
        {
          "data": {
            "text/plain": [
              "array([[  1,   3,  10, 100],\n",
              "       [ -4,   6,   7,  50],\n",
              "       [  8,   9,  10,  11],\n",
              "       [-14,  12,  13,  15]])"
            ]
          },
          "execution_count": 34,
          "metadata": {},
          "output_type": "execute_result"
        }
      ],
      "source": [
        "np.sort(arr_2d, axis=1)"
      ]
    },
    {
      "cell_type": "markdown",
      "metadata": {
        "id": "Hr6b-v6dQdb4"
      },
      "source": [
        "#### General Matplotlib Tips, Plotting, Visualization"
      ]
    },
    {
      "cell_type": "markdown",
      "metadata": {
        "id": "dRk474MpQ9tI"
      },
      "source": [
        "Which one to choose?\n",
        "\n",
        "\n",
        "*   **Matplotlib**: For basic plotting -- bars, pies, lines, scatter plots, etc.\n",
        "*   **Seaborn**: Built on Matplotlib; easier and more aesthetic.\n",
        "    * Used for exploratory data analysis\n",
        "Example: Heatmaps, pair plots, categorical plots"
      ]
    },
    {
      "cell_type": "code",
      "execution_count": 35,
      "metadata": {
        "colab": {
          "base_uri": "https://localhost:8080/",
          "height": 472
        },
        "id": "6-PWK3XqQnqt",
        "outputId": "7432b790-075a-4d13-d386-e8e97045c0a7"
      },
      "outputs": [
        {
          "data": {
            "image/png": "[encoded data removed]",
            "text/plain": [
              "<Figure size 640x480 with 1 Axes>"
            ]
          },
          "metadata": {},
          "output_type": "display_data"
        }
      ],
      "source": [
        "# Example Matplotlib\n",
        "\n",
        "import matplotlib.pyplot as plt\n",
        "\n",
        "# Data\n",
        "x = [1, 2, 3, 4, 5]\n",
        "y = [2, 4, 6, 8, 20]\n",
        "\n",
        "# Line plot\n",
        "plt.plot(x, y, label='Line')\n",
        "plt.title(\"General Plot - Matplotlib\")\n",
        "plt.xlabel(\"X-axis\")\n",
        "plt.ylabel(\"Y-axis\")\n",
        "plt.legend()\n",
        "plt.show()"
      ]
    },
    {
      "cell_type": "code",
      "execution_count": 36,
      "metadata": {
        "colab": {
          "base_uri": "https://localhost:8080/",
          "height": 423
        },
        "id": "EN6Jg_LNRYwq",
        "outputId": "9a51183d-4713-49fd-cb67-0431649e9ceb"
      },
      "outputs": [
        {
          "data": {
            "text/html": [
              "<div>\n",
              "<style scoped>\n",
              "    .dataframe tbody tr th:only-of-type {\n",
              "        vertical-align: middle;\n",
              "    }\n",
              "\n",
              "    .dataframe tbody tr th {\n",
              "        vertical-align: top;\n",
              "    }\n",
              "\n",
              "    .dataframe thead th {\n",
              "        text-align: right;\n",
              "    }\n",
              "</style>\n",
              "<table border=\"1\" class=\"dataframe\">\n",
              "  <thead>\n",
              "    <tr style=\"text-align: right;\">\n",
              "      <th></th>\n",
              "      <th>total_bill</th>\n",
              "      <th>tip</th>\n",
              "      <th>sex</th>\n",
              "      <th>smoker</th>\n",
              "      <th>day</th>\n",
              "      <th>time</th>\n",
              "      <th>size</th>\n",
              "    </tr>\n",
              "  </thead>\n",
              "  <tbody>\n",
              "    <tr>\n",
              "      <th>0</th>\n",
              "      <td>16.99</td>\n",
              "      <td>1.01</td>\n",
              "      <td>Female</td>\n",
              "      <td>No</td>\n",
              "      <td>Sun</td>\n",
              "      <td>Dinner</td>\n",
              "      <td>2</td>\n",
              "    </tr>\n",
              "    <tr>\n",
              "      <th>1</th>\n",
              "      <td>10.34</td>\n",
              "      <td>1.66</td>\n",
              "      <td>Male</td>\n",
              "      <td>No</td>\n",
              "      <td>Sun</td>\n",
              "      <td>Dinner</td>\n",
              "      <td>3</td>\n",
              "    </tr>\n",
              "    <tr>\n",
              "      <th>2</th>\n",
              "      <td>21.01</td>\n",
              "      <td>3.50</td>\n",
              "      <td>Male</td>\n",
              "      <td>No</td>\n",
              "      <td>Sun</td>\n",
              "      <td>Dinner</td>\n",
              "      <td>3</td>\n",
              "    </tr>\n",
              "    <tr>\n",
              "      <th>3</th>\n",
              "      <td>23.68</td>\n",
              "      <td>3.31</td>\n",
              "      <td>Male</td>\n",
              "      <td>No</td>\n",
              "      <td>Sun</td>\n",
              "      <td>Dinner</td>\n",
              "      <td>2</td>\n",
              "    </tr>\n",
              "    <tr>\n",
              "      <th>4</th>\n",
              "      <td>24.59</td>\n",
              "      <td>3.61</td>\n",
              "      <td>Female</td>\n",
              "      <td>No</td>\n",
              "      <td>Sun</td>\n",
              "      <td>Dinner</td>\n",
              "      <td>4</td>\n",
              "    </tr>\n",
              "    <tr>\n",
              "      <th>...</th>\n",
              "      <td>...</td>\n",
              "      <td>...</td>\n",
              "      <td>...</td>\n",
              "      <td>...</td>\n",
              "      <td>...</td>\n",
              "      <td>...</td>\n",
              "      <td>...</td>\n",
              "    </tr>\n",
              "    <tr>\n",
              "      <th>239</th>\n",
              "      <td>29.03</td>\n",
              "      <td>5.92</td>\n",
              "      <td>Male</td>\n",
              "      <td>No</td>\n",
              "      <td>Sat</td>\n",
              "      <td>Dinner</td>\n",
              "      <td>3</td>\n",
              "    </tr>\n",
              "    <tr>\n",
              "      <th>240</th>\n",
              "      <td>27.18</td>\n",
              "      <td>2.00</td>\n",
              "      <td>Female</td>\n",
              "      <td>Yes</td>\n",
              "      <td>Sat</td>\n",
              "      <td>Dinner</td>\n",
              "      <td>2</td>\n",
              "    </tr>\n",
              "    <tr>\n",
              "      <th>241</th>\n",
              "      <td>22.67</td>\n",
              "      <td>2.00</td>\n",
              "      <td>Male</td>\n",
              "      <td>Yes</td>\n",
              "      <td>Sat</td>\n",
              "      <td>Dinner</td>\n",
              "      <td>2</td>\n",
              "    </tr>\n",
              "    <tr>\n",
              "      <th>242</th>\n",
              "      <td>17.82</td>\n",
              "      <td>1.75</td>\n",
              "      <td>Male</td>\n",
              "      <td>No</td>\n",
              "      <td>Sat</td>\n",
              "      <td>Dinner</td>\n",
              "      <td>2</td>\n",
              "    </tr>\n",
              "    <tr>\n",
              "      <th>243</th>\n",
              "      <td>18.78</td>\n",
              "      <td>3.00</td>\n",
              "      <td>Female</td>\n",
              "      <td>No</td>\n",
              "      <td>Thur</td>\n",
              "      <td>Dinner</td>\n",
              "      <td>2</td>\n",
              "    </tr>\n",
              "  </tbody>\n",
              "</table>\n",
              "<p>244 rows × 7 columns</p>\n",
              "</div>"
            ],
            "text/plain": [
              "     total_bill   tip     sex smoker   day    time  size\n",
              "0         16.99  1.01  Female     No   Sun  Dinner     2\n",
              "1         10.34  1.66    Male     No   Sun  Dinner     3\n",
              "2         21.01  3.50    Male     No   Sun  Dinner     3\n",
              "3         23.68  3.31    Male     No   Sun  Dinner     2\n",
              "4         24.59  3.61  Female     No   Sun  Dinner     4\n",
              "..          ...   ...     ...    ...   ...     ...   ...\n",
              "239       29.03  5.92    Male     No   Sat  Dinner     3\n",
              "240       27.18  2.00  Female    Yes   Sat  Dinner     2\n",
              "241       22.67  2.00    Male    Yes   Sat  Dinner     2\n",
              "242       17.82  1.75    Male     No   Sat  Dinner     2\n",
              "243       18.78  3.00  Female     No  Thur  Dinner     2\n",
              "\n",
              "[244 rows x 7 columns]"
            ]
          },
          "execution_count": 36,
          "metadata": {},
          "output_type": "execute_result"
        }
      ],
      "source": [
        "import seaborn as sns\n",
        "import matplotlib.pyplot as plt\n",
        "\n",
        "# Sample DataFrame\n",
        "data = sns.load_dataset('tips')\n",
        "\n",
        "data"
      ]
    },
    {
      "cell_type": "code",
      "execution_count": 37,
      "metadata": {
        "colab": {
          "base_uri": "https://localhost:8080/",
          "height": 559
        },
        "id": "fQljZyMcR3kL",
        "outputId": "9e2a718e-9d76-4d2e-cc32-f92c53c1eef8"
      },
      "outputs": [
        {
          "name": "stderr",
          "output_type": "stream",
          "text": [
            "C:\\Users\\Rj Avro Biswas\\AppData\\Local\\Temp\\ipykernel_11632\\248029164.py:2: FutureWarning: \n",
            "\n",
            "Passing `palette` without assigning `hue` is deprecated and will be removed in v0.14.0. Assign the `x` variable to `hue` and set `legend=False` for the same effect.\n",
            "\n",
            "  sns.boxplot(x='day', y='total_bill', data=data, palette='coolwarm')\n"
          ]
        },
        {
          "data": {
            "image/png": "[encoded data removed]",
            "text/plain": [
              "<Figure size 640x480 with 1 Axes>"
            ]
          },
          "metadata": {},
          "output_type": "display_data"
        }
      ],
      "source": [
        "# Boxplot\n",
        "sns.boxplot(x='day', y='total_bill', data=data, palette='coolwarm')\n",
        "plt.title(\"Statistical Plot - Seaborn\")\n",
        "plt.show()"
      ]
    },
    {
      "cell_type": "markdown",
      "metadata": {
        "id": "gCKuCt6zUY4P"
      },
      "source": [
        "What is Matplotlib?\n",
        "- Matplotlib is a Python library for creating visualizations.\n",
        "- Created by John D. Hunter.\n",
        "- Common types of plots:\n",
        "  - Line plots\n",
        "  - Scatter plots\n",
        "  - Bar charts\n",
        "  - Histograms\n",
        "- Key Features:\n",
        "  - Highly customizable.\n",
        "  - Integrates with Pandas and NumPy for data visualization.\n",
        "  - Supports gridlines, annotations, and legends."
      ]
    },
    {
      "cell_type": "code",
      "execution_count": 38,
      "metadata": {
        "colab": {
          "base_uri": "https://localhost:8080/",
          "height": 430
        },
        "id": "Y0wRBW_GUYZE",
        "outputId": "1f9ec834-1feb-4093-edd4-fd4e798707fe"
      },
      "outputs": [
        {
          "data": {
            "image/png": "[encoded data removed]",
            "text/plain": [
              "<Figure size 640x480 with 1 Axes>"
            ]
          },
          "metadata": {},
          "output_type": "display_data"
        }
      ],
      "source": [
        "import matplotlib.pyplot as plt\n",
        "import numpy as np\n",
        "\n",
        "xpoints = np.array([0, 6, 8])\n",
        "ypoints = np.array([0, 250, 500])\n",
        "\n",
        "plt.plot(xpoints, ypoints, marker='o')\n",
        "plt.show()"
      ]
    },
    {
      "cell_type": "code",
      "execution_count": 39,
      "metadata": {
        "colab": {
          "base_uri": "https://localhost:8080/",
          "height": 430
        },
        "id": "FL7ipZqWRv2A",
        "outputId": "de162b9f-1cb8-4e6f-c754-bf373f6fe2b0"
      },
      "outputs": [
        {
          "data": {
            "image/png": "[encoded data removed]",
            "text/plain": [
              "<Figure size 640x480 with 1 Axes>"
            ]
          },
          "metadata": {},
          "output_type": "display_data"
        }
      ],
      "source": [
        "# draw a line graph for the 3 subjects [Bangla,English,Math] and marks [50,60,70]\n",
        "\n",
        "subjects = np.array([\"Bangla\",\"English\",\"Math\"])\n",
        "marks = np.array([50, 60, 70])\n",
        "\n",
        "plt.plot(subjects, marks, marker='o')\n",
        "plt.show()"
      ]
    },
    {
      "cell_type": "code",
      "execution_count": 40,
      "metadata": {
        "colab": {
          "base_uri": "https://localhost:8080/",
          "height": 430
        },
        "id": "DS1kJ3ETUxHL",
        "outputId": "8dfce549-fe74-40f8-ec14-c90cae7e741b"
      },
      "outputs": [
        {
          "data": {
            "image/png": "[encoded data removed]",
            "text/plain": [
              "<Figure size 640x480 with 1 Axes>"
            ]
          },
          "metadata": {},
          "output_type": "display_data"
        }
      ],
      "source": [
        "# Use 'o' notation to plot as scattered points\n",
        "# 'o' means rings\n",
        "\n",
        "xpoints = np.array([1, 2, 5, 8])\n",
        "ypoints = np.array([80, 20, 50, 10])\n",
        "\n",
        "plt.plot(xpoints, ypoints, 'o')\n",
        "plt.show()"
      ]
    },
    {
      "cell_type": "code",
      "execution_count": 41,
      "metadata": {
        "colab": {
          "base_uri": "https://localhost:8080/",
          "height": 430
        },
        "id": "N2Scs3JLU2vS",
        "outputId": "97ee782d-96a3-4868-ea13-dbfa33e8ba64"
      },
      "outputs": [
        {
          "data": {
            "image/png": "[encoded data removed]",
            "text/plain": [
              "<Figure size 640x480 with 1 Axes>"
            ]
          },
          "metadata": {},
          "output_type": "display_data"
        }
      ],
      "source": [
        "# Use of marker\n",
        "\n",
        "plt.scatter(xpoints, ypoints, marker = 'o')\n",
        "plt.show()"
      ]
    },
    {
      "cell_type": "code",
      "execution_count": 42,
      "metadata": {
        "colab": {
          "base_uri": "https://localhost:8080/",
          "height": 430
        },
        "id": "kRwpOc9pVArJ",
        "outputId": "350c9f10-f694-4bd4-bcdf-e50d2151f09c"
      },
      "outputs": [
        {
          "data": {
            "image/png": "[encoded data removed]",
            "text/plain": [
              "<Figure size 640x480 with 1 Axes>"
            ]
          },
          "metadata": {},
          "output_type": "display_data"
        }
      ],
      "source": [
        "# Use of fmt (format) string\n",
        "# marker|line|color\n",
        "\n",
        "plt.plot(xpoints, ypoints, 'o--b')\n",
        "plt.show()"
      ]
    },
    {
      "cell_type": "code",
      "execution_count": 43,
      "metadata": {
        "colab": {
          "base_uri": "https://localhost:8080/",
          "height": 430
        },
        "id": "6l8NyfkpVC7j",
        "outputId": "6745f39a-41b0-4d65-8ec6-58fcef4c98f9"
      },
      "outputs": [
        {
          "data": {
            "image/png": "[encoded data removed]",
            "text/plain": [
              "<Figure size 640x480 with 1 Axes>"
            ]
          },
          "metadata": {},
          "output_type": "display_data"
        }
      ],
      "source": [
        "# linestyle shorthand\n",
        "\n",
        "plt.plot(xpoints, ypoints, ls = ':', color='b', marker='o')\n",
        "plt.show()"
      ]
    },
    {
      "cell_type": "code",
      "execution_count": 44,
      "metadata": {
        "colab": {
          "base_uri": "https://localhost:8080/",
          "height": 472
        },
        "id": "fW-VXldnVTyj",
        "outputId": "2d1082da-0c4d-4209-a931-1127c793c8c3"
      },
      "outputs": [
        {
          "data": {
            "image/png": "[encoded data removed]",
            "text/plain": [
              "<Figure size 640x480 with 1 Axes>"
            ]
          },
          "metadata": {},
          "output_type": "display_data"
        }
      ],
      "source": [
        "# Use of Grid and Labels\n",
        "\n",
        "x = np.array([80, 85, 90, 95, 100, 105, 110, 115, 120, 125])\n",
        "y = np.array([240, 250, 260, 270, 280, 290, 300, 310, 320, 330])\n",
        "\n",
        "plt.title(\"Sports Watch Data\")\n",
        "plt.xlabel(\"Average Pulse\")\n",
        "plt.ylabel(\"Calorie Burnage\")\n",
        "\n",
        "plt.plot(x, y, marker='o')\n",
        "\n",
        "plt.grid()\n",
        "\n",
        "plt.show()"
      ]
    },
    {
      "cell_type": "code",
      "execution_count": 45,
      "metadata": {
        "colab": {
          "base_uri": "https://localhost:8080/",
          "height": 452
        },
        "id": "BJT-XzNfVXEx",
        "outputId": "ecf32add-f725-4334-c58a-07774ffe16b7"
      },
      "outputs": [
        {
          "data": {
            "image/png": "[encoded data removed]",
            "text/plain": [
              "<Figure size 640x480 with 2 Axes>"
            ]
          },
          "metadata": {},
          "output_type": "display_data"
        }
      ],
      "source": [
        "# subplot(a, b, c): a = row, b = column, c = index\n",
        "\n",
        "#plot 1:\n",
        "x = np.array([0, 1, 2, 3])\n",
        "y = np.array([3, 8, 1, 10])\n",
        "\n",
        "plt.subplot(1, 2, 1)\n",
        "plt.plot(x,y)\n",
        "plt.title(\"Plot 1\")\n",
        "\n",
        "\n",
        "#plot 2:\n",
        "x = np.array([0, 1, 2, 3])\n",
        "y = np.array([10, 20, 30, 40])\n",
        "\n",
        "plt.subplot(1, 2, 2)\n",
        "plt.plot(x,y)\n",
        "plt.title(\"Plot 2\")\n",
        "\n",
        "plt.show()"
      ]
    },
    {
      "cell_type": "code",
      "execution_count": 46,
      "metadata": {
        "colab": {
          "base_uri": "https://localhost:8080/",
          "height": 430
        },
        "id": "b5Bl7xa_VydP",
        "outputId": "139d138b-65e1-400f-a033-2aed62c26e40"
      },
      "outputs": [
        {
          "data": {
            "image/png": "[encoded data removed]",
            "text/plain": [
              "<Figure size 640x480 with 1 Axes>"
            ]
          },
          "metadata": {},
          "output_type": "display_data"
        }
      ],
      "source": [
        "#day one, the age and speed of 13 cars:\n",
        "x = np.array([5,7,8,7,2,17,2,9,4,11,12,9,6])\n",
        "y = np.array([99,86,87,88,111,86,103,87,94,78,77,85,86])\n",
        "plt.scatter(x, y, color='r')\n",
        "\n",
        "#day two, the age and speed of 15 cars:\n",
        "x = np.array([2,2,8,1,15,8,12,9,7,3,11,4,7,14,12])\n",
        "y = np.array([100,105,84,105,90,99,90,95,94,100,79,112,91,80,85])\n",
        "plt.scatter(x, y, color='g')\n",
        "\n",
        "plt.show()"
      ]
    },
    {
      "cell_type": "code",
      "execution_count": 47,
      "metadata": {
        "colab": {
          "base_uri": "https://localhost:8080/",
          "height": 430
        },
        "id": "MGwhfEpbWEKE",
        "outputId": "b9460163-6517-4029-8694-c456c77e7d8d"
      },
      "outputs": [
        {
          "data": {
            "image/png": "[encoded data removed]",
            "text/plain": [
              "<Figure size 640x480 with 1 Axes>"
            ]
          },
          "metadata": {},
          "output_type": "display_data"
        }
      ],
      "source": [
        "x = np.array([\"A\", \"B\", \"C\", \"D\"])\n",
        "y = np.array([3, 8, 1, 10])\n",
        "\n",
        "plt.bar(x, y, color = \"red\")\n",
        "plt.show()"
      ]
    },
    {
      "cell_type": "code",
      "execution_count": 48,
      "metadata": {
        "colab": {
          "base_uri": "https://localhost:8080/"
        },
        "id": "mOrMBDEnWZzB",
        "outputId": "1f0537de-4c7b-4dbc-81ed-00d22190f649"
      },
      "outputs": [
        {
          "data": {
            "text/plain": [
              "array([157.30786761, 174.4257158 , 165.75085499, 174.77835761,\n",
              "       183.04064156, 163.68144375, 165.9195335 , 163.4867716 ,\n",
              "       165.89660899, 180.66573017, 162.1754357 , 172.36481633,\n",
              "       151.72341369, 160.38183315, 153.37463578, 173.56513291,\n",
              "       186.70524002, 179.99557444, 179.96599626, 143.95227049,\n",
              "       165.21307327, 167.33481827, 172.48599153, 167.63929754,\n",
              "       165.31281243, 165.76887768, 167.04201159, 154.36344225,\n",
              "       176.73661317, 174.24411276, 173.91193369, 144.07572646,\n",
              "       164.48987953, 160.88140608, 161.76469283, 184.87716151,\n",
              "       184.52539819, 168.44974493, 161.68715307, 167.11766009,\n",
              "       146.78044758, 178.85723377, 181.61133913, 170.50515188,\n",
              "       178.67582405, 171.86054058, 174.03089687, 164.80892196,\n",
              "       158.20434103, 165.59020447, 162.50892215, 162.45716038,\n",
              "       174.2803314 , 153.48883687, 160.98233049, 169.18844184,\n",
              "       171.39713237, 164.5279501 , 181.22386967, 186.02634535,\n",
              "       173.47110677, 178.91987965, 151.6950943 , 169.18573041,\n",
              "       154.25589147, 173.4718656 , 170.30221845, 180.09086357,\n",
              "       160.9483273 , 168.73717213, 165.7643252 , 176.24860889,\n",
              "       173.58043377, 151.99031494, 165.61257997, 168.51136056,\n",
              "       167.12790476, 198.01206669, 171.85599248, 169.95211025,\n",
              "       172.62843245, 189.67295307, 161.60091453, 162.01032568,\n",
              "       174.07040824, 168.33971903, 184.93666656, 159.5075642 ,\n",
              "       171.44137365, 174.79700157, 188.7904783 , 165.8574631 ,\n",
              "       152.49255303, 171.69068255, 162.04382348, 178.51770768,\n",
              "       163.01801932, 160.00857615, 167.52402447, 163.63696731,\n",
              "       165.30402972, 176.24000556, 162.48889414, 163.98579231,\n",
              "       165.97914068, 173.04856667, 164.41705051, 179.73533727,\n",
              "       173.29729386, 170.06299128, 166.12037467, 159.03073666,\n",
              "       153.50749038, 175.77371655, 170.02963323, 167.44465592,\n",
              "       186.07914019, 176.5505967 , 170.62765887, 166.53967579,\n",
              "       158.984659  , 179.65994383, 177.27668868, 181.4564175 ,\n",
              "       168.37273488, 159.03977909, 176.21359638, 159.11124697,\n",
              "       185.09090273, 181.50542288, 171.50421856, 155.13761608,\n",
              "       177.29603925, 173.63379906, 175.16501267, 188.20668567,\n",
              "       189.48545816, 180.98424205, 161.60632857, 170.04902465,\n",
              "       164.20031166, 175.73699478, 178.35989081, 163.13253351,\n",
              "       158.95762651, 162.26385408, 184.30437333, 167.57483178,\n",
              "       164.65678958, 172.85159051, 162.69895012, 165.09998626,\n",
              "       173.07170496, 154.43224517, 179.88421737, 173.43749094,\n",
              "       178.15956266, 157.57133429, 177.04667939, 175.59853861,\n",
              "       166.5895346 , 168.42828985, 174.21190395, 145.9040598 ,\n",
              "       158.21898274, 183.9211498 , 162.34539556, 165.38503118,\n",
              "       161.66641665, 180.2528877 , 176.17850222, 163.77676799,\n",
              "       165.01483692, 154.77922751, 156.98386658, 191.91258042,\n",
              "       178.92635839, 178.96160492, 163.31288073, 163.91884912,\n",
              "       162.49748462, 166.05599162, 173.59916984, 170.63415727,\n",
              "       183.03696677, 171.54883152, 183.35866091, 179.61685421,\n",
              "       154.46189986, 170.55852672, 165.65792799, 154.63208982,\n",
              "       174.34098655, 169.27590489, 174.24190056, 173.69509064,\n",
              "       165.70158689, 178.94807002, 164.78707704, 182.25199611,\n",
              "       171.30999158, 177.87046218, 178.14849599, 183.06489086,\n",
              "       151.7584679 , 171.35039964, 175.88526047, 175.37577315,\n",
              "       172.73633783, 173.37815571, 160.00846475, 149.56676786,\n",
              "       164.84827582, 189.05749116, 168.67465158, 166.46682623,\n",
              "       166.91224969, 176.33549793, 153.39393929, 163.05093108,\n",
              "       157.86211873, 172.72691791, 165.30980898, 170.60599889,\n",
              "       176.35525672, 166.49966894, 172.04966865, 166.66535768,\n",
              "       175.81966632, 172.40451   , 179.59684025, 152.51815476,\n",
              "       171.38988114, 178.12117348, 149.81988064, 161.61786475,\n",
              "       171.2429926 , 172.39656686, 182.09521472, 161.46098583,\n",
              "       154.53520507, 155.91573676, 179.53692525, 176.18452358,\n",
              "       174.66711523, 159.18103206, 159.95789542, 168.50844781,\n",
              "       177.12813333, 158.6307596 ])"
            ]
          },
          "execution_count": 48,
          "metadata": {},
          "output_type": "execute_result"
        }
      ],
      "source": [
        "# Histogram\n",
        "\n",
        "x = np.random.normal(170, 10, 250)\n",
        "\n",
        "x"
      ]
    },
    {
      "cell_type": "code",
      "execution_count": 49,
      "metadata": {
        "colab": {
          "base_uri": "https://localhost:8080/",
          "height": 430
        },
        "id": "Tv2fi55_dMlN",
        "outputId": "0e89b569-f0cf-4569-8784-1c398a166ab0"
      },
      "outputs": [
        {
          "data": {
            "image/png": "[encoded data removed]",
            "text/plain": [
              "<Figure size 640x480 with 1 Axes>"
            ]
          },
          "metadata": {},
          "output_type": "display_data"
        }
      ],
      "source": [
        "plt.hist(x, color='r')\n",
        "plt.show()"
      ]
    },
    {
      "cell_type": "markdown",
      "metadata": {
        "id": "-FPCsCHNYovP"
      },
      "source": [
        "#### Plotting with real dataset"
      ]
    },
    {
      "cell_type": "code",
      "execution_count": 50,
      "metadata": {
        "colab": {
          "base_uri": "https://localhost:8080/",
          "height": 423
        },
        "id": "M7FCNCusYuIa",
        "outputId": "84c07f57-afdd-41b1-a76c-bc362f57b10b"
      },
      "outputs": [
        {
          "data": {
            "text/html": [
              "<div>\n",
              "<style scoped>\n",
              "    .dataframe tbody tr th:only-of-type {\n",
              "        vertical-align: middle;\n",
              "    }\n",
              "\n",
              "    .dataframe tbody tr th {\n",
              "        vertical-align: top;\n",
              "    }\n",
              "\n",
              "    .dataframe thead th {\n",
              "        text-align: right;\n",
              "    }\n",
              "</style>\n",
              "<table border=\"1\" class=\"dataframe\">\n",
              "  <thead>\n",
              "    <tr style=\"text-align: right;\">\n",
              "      <th></th>\n",
              "      <th>sepal_length</th>\n",
              "      <th>sepal_width</th>\n",
              "      <th>petal_length</th>\n",
              "      <th>petal_width</th>\n",
              "      <th>species</th>\n",
              "    </tr>\n",
              "  </thead>\n",
              "  <tbody>\n",
              "    <tr>\n",
              "      <th>0</th>\n",
              "      <td>5.1</td>\n",
              "      <td>3.5</td>\n",
              "      <td>1.4</td>\n",
              "      <td>0.2</td>\n",
              "      <td>setosa</td>\n",
              "    </tr>\n",
              "    <tr>\n",
              "      <th>1</th>\n",
              "      <td>4.9</td>\n",
              "      <td>3.0</td>\n",
              "      <td>1.4</td>\n",
              "      <td>0.2</td>\n",
              "      <td>setosa</td>\n",
              "    </tr>\n",
              "    <tr>\n",
              "      <th>2</th>\n",
              "      <td>4.7</td>\n",
              "      <td>3.2</td>\n",
              "      <td>1.3</td>\n",
              "      <td>0.2</td>\n",
              "      <td>setosa</td>\n",
              "    </tr>\n",
              "    <tr>\n",
              "      <th>3</th>\n",
              "      <td>4.6</td>\n",
              "      <td>3.1</td>\n",
              "      <td>1.5</td>\n",
              "      <td>0.2</td>\n",
              "      <td>setosa</td>\n",
              "    </tr>\n",
              "    <tr>\n",
              "      <th>4</th>\n",
              "      <td>5.0</td>\n",
              "      <td>3.6</td>\n",
              "      <td>1.4</td>\n",
              "      <td>0.2</td>\n",
              "      <td>setosa</td>\n",
              "    </tr>\n",
              "    <tr>\n",
              "      <th>...</th>\n",
              "      <td>...</td>\n",
              "      <td>...</td>\n",
              "      <td>...</td>\n",
              "      <td>...</td>\n",
              "      <td>...</td>\n",
              "    </tr>\n",
              "    <tr>\n",
              "      <th>145</th>\n",
              "      <td>6.7</td>\n",
              "      <td>3.0</td>\n",
              "      <td>5.2</td>\n",
              "      <td>2.3</td>\n",
              "      <td>virginica</td>\n",
              "    </tr>\n",
              "    <tr>\n",
              "      <th>146</th>\n",
              "      <td>6.3</td>\n",
              "      <td>2.5</td>\n",
              "      <td>5.0</td>\n",
              "      <td>1.9</td>\n",
              "      <td>virginica</td>\n",
              "    </tr>\n",
              "    <tr>\n",
              "      <th>147</th>\n",
              "      <td>6.5</td>\n",
              "      <td>3.0</td>\n",
              "      <td>5.2</td>\n",
              "      <td>2.0</td>\n",
              "      <td>virginica</td>\n",
              "    </tr>\n",
              "    <tr>\n",
              "      <th>148</th>\n",
              "      <td>6.2</td>\n",
              "      <td>3.4</td>\n",
              "      <td>5.4</td>\n",
              "      <td>2.3</td>\n",
              "      <td>virginica</td>\n",
              "    </tr>\n",
              "    <tr>\n",
              "      <th>149</th>\n",
              "      <td>5.9</td>\n",
              "      <td>3.0</td>\n",
              "      <td>5.1</td>\n",
              "      <td>1.8</td>\n",
              "      <td>virginica</td>\n",
              "    </tr>\n",
              "  </tbody>\n",
              "</table>\n",
              "<p>150 rows × 5 columns</p>\n",
              "</div>"
            ],
            "text/plain": [
              "     sepal_length  sepal_width  petal_length  petal_width    species\n",
              "0             5.1          3.5           1.4          0.2     setosa\n",
              "1             4.9          3.0           1.4          0.2     setosa\n",
              "2             4.7          3.2           1.3          0.2     setosa\n",
              "3             4.6          3.1           1.5          0.2     setosa\n",
              "4             5.0          3.6           1.4          0.2     setosa\n",
              "..            ...          ...           ...          ...        ...\n",
              "145           6.7          3.0           5.2          2.3  virginica\n",
              "146           6.3          2.5           5.0          1.9  virginica\n",
              "147           6.5          3.0           5.2          2.0  virginica\n",
              "148           6.2          3.4           5.4          2.3  virginica\n",
              "149           5.9          3.0           5.1          1.8  virginica\n",
              "\n",
              "[150 rows x 5 columns]"
            ]
          },
          "execution_count": 50,
          "metadata": {},
          "output_type": "execute_result"
        }
      ],
      "source": [
        "iris = sns.load_dataset('iris')\n",
        "iris"
      ]
    },
    {
      "cell_type": "code",
      "execution_count": 51,
      "metadata": {
        "colab": {
          "base_uri": "https://localhost:8080/",
          "height": 209
        },
        "id": "C0uNInpkYwhG",
        "outputId": "e31238a7-ae0e-4271-a5b6-9fc2c637a7b5"
      },
      "outputs": [
        {
          "data": {
            "text/plain": [
              "species\n",
              "setosa        50\n",
              "versicolor    50\n",
              "virginica     50\n",
              "Name: count, dtype: int64"
            ]
          },
          "execution_count": 51,
          "metadata": {},
          "output_type": "execute_result"
        }
      ],
      "source": [
        "iris['species'].value_counts()"
      ]
    },
    {
      "cell_type": "code",
      "execution_count": 52,
      "metadata": {
        "colab": {
          "base_uri": "https://localhost:8080/",
          "height": 423
        },
        "id": "fzXjBnlUY4xQ",
        "outputId": "14417222-db4b-48b5-d8d2-6312b4e57812"
      },
      "outputs": [
        {
          "data": {
            "text/html": [
              "<div>\n",
              "<style scoped>\n",
              "    .dataframe tbody tr th:only-of-type {\n",
              "        vertical-align: middle;\n",
              "    }\n",
              "\n",
              "    .dataframe tbody tr th {\n",
              "        vertical-align: top;\n",
              "    }\n",
              "\n",
              "    .dataframe thead th {\n",
              "        text-align: right;\n",
              "    }\n",
              "</style>\n",
              "<table border=\"1\" class=\"dataframe\">\n",
              "  <thead>\n",
              "    <tr style=\"text-align: right;\">\n",
              "      <th></th>\n",
              "      <th>sepal_length</th>\n",
              "      <th>sepal_width</th>\n",
              "      <th>petal_length</th>\n",
              "      <th>petal_width</th>\n",
              "      <th>species</th>\n",
              "      <th>is_local</th>\n",
              "    </tr>\n",
              "  </thead>\n",
              "  <tbody>\n",
              "    <tr>\n",
              "      <th>0</th>\n",
              "      <td>5.1</td>\n",
              "      <td>3.5</td>\n",
              "      <td>1.4</td>\n",
              "      <td>0.2</td>\n",
              "      <td>setosa</td>\n",
              "      <td>1</td>\n",
              "    </tr>\n",
              "    <tr>\n",
              "      <th>1</th>\n",
              "      <td>4.9</td>\n",
              "      <td>3.0</td>\n",
              "      <td>1.4</td>\n",
              "      <td>0.2</td>\n",
              "      <td>setosa</td>\n",
              "      <td>1</td>\n",
              "    </tr>\n",
              "    <tr>\n",
              "      <th>2</th>\n",
              "      <td>4.7</td>\n",
              "      <td>3.2</td>\n",
              "      <td>1.3</td>\n",
              "      <td>0.2</td>\n",
              "      <td>setosa</td>\n",
              "      <td>1</td>\n",
              "    </tr>\n",
              "    <tr>\n",
              "      <th>3</th>\n",
              "      <td>4.6</td>\n",
              "      <td>3.1</td>\n",
              "      <td>1.5</td>\n",
              "      <td>0.2</td>\n",
              "      <td>setosa</td>\n",
              "      <td>1</td>\n",
              "    </tr>\n",
              "    <tr>\n",
              "      <th>4</th>\n",
              "      <td>5.0</td>\n",
              "      <td>3.6</td>\n",
              "      <td>1.4</td>\n",
              "      <td>0.2</td>\n",
              "      <td>setosa</td>\n",
              "      <td>1</td>\n",
              "    </tr>\n",
              "    <tr>\n",
              "      <th>...</th>\n",
              "      <td>...</td>\n",
              "      <td>...</td>\n",
              "      <td>...</td>\n",
              "      <td>...</td>\n",
              "      <td>...</td>\n",
              "      <td>...</td>\n",
              "    </tr>\n",
              "    <tr>\n",
              "      <th>145</th>\n",
              "      <td>6.7</td>\n",
              "      <td>3.0</td>\n",
              "      <td>5.2</td>\n",
              "      <td>2.3</td>\n",
              "      <td>virginica</td>\n",
              "      <td>0</td>\n",
              "    </tr>\n",
              "    <tr>\n",
              "      <th>146</th>\n",
              "      <td>6.3</td>\n",
              "      <td>2.5</td>\n",
              "      <td>5.0</td>\n",
              "      <td>1.9</td>\n",
              "      <td>virginica</td>\n",
              "      <td>0</td>\n",
              "    </tr>\n",
              "    <tr>\n",
              "      <th>147</th>\n",
              "      <td>6.5</td>\n",
              "      <td>3.0</td>\n",
              "      <td>5.2</td>\n",
              "      <td>2.0</td>\n",
              "      <td>virginica</td>\n",
              "      <td>0</td>\n",
              "    </tr>\n",
              "    <tr>\n",
              "      <th>148</th>\n",
              "      <td>6.2</td>\n",
              "      <td>3.4</td>\n",
              "      <td>5.4</td>\n",
              "      <td>2.3</td>\n",
              "      <td>virginica</td>\n",
              "      <td>0</td>\n",
              "    </tr>\n",
              "    <tr>\n",
              "      <th>149</th>\n",
              "      <td>5.9</td>\n",
              "      <td>3.0</td>\n",
              "      <td>5.1</td>\n",
              "      <td>1.8</td>\n",
              "      <td>virginica</td>\n",
              "      <td>0</td>\n",
              "    </tr>\n",
              "  </tbody>\n",
              "</table>\n",
              "<p>150 rows × 6 columns</p>\n",
              "</div>"
            ],
            "text/plain": [
              "     sepal_length  sepal_width  petal_length  petal_width    species  is_local\n",
              "0             5.1          3.5           1.4          0.2     setosa         1\n",
              "1             4.9          3.0           1.4          0.2     setosa         1\n",
              "2             4.7          3.2           1.3          0.2     setosa         1\n",
              "3             4.6          3.1           1.5          0.2     setosa         1\n",
              "4             5.0          3.6           1.4          0.2     setosa         1\n",
              "..            ...          ...           ...          ...        ...       ...\n",
              "145           6.7          3.0           5.2          2.3  virginica         0\n",
              "146           6.3          2.5           5.0          1.9  virginica         0\n",
              "147           6.5          3.0           5.2          2.0  virginica         0\n",
              "148           6.2          3.4           5.4          2.3  virginica         0\n",
              "149           5.9          3.0           5.1          1.8  virginica         0\n",
              "\n",
              "[150 rows x 6 columns]"
            ]
          },
          "execution_count": 52,
          "metadata": {},
          "output_type": "execute_result"
        }
      ],
      "source": [
        "iris['is_local'] = iris['petal_width'].apply(lambda x: 1 if x < 1.5 else 0)\n",
        "iris"
      ]
    },
    {
      "cell_type": "code",
      "execution_count": null,
      "metadata": {
        "colab": {
          "base_uri": "https://localhost:8080/",
          "height": 500
        },
        "id": "xYupw27Kacd_",
        "outputId": "c061a075-c12e-46aa-e69f-c5b29861e96d"
      },
      "outputs": [
        {
          "data": {
            "image/png": "[encoded data removed]",
            "text/plain": [
              "<Figure size 1000x500 with 1 Axes>"
            ]
          },
          "metadata": {},
          "output_type": "display_data"
        }
      ],
      "source": [
        "import pandas as pd\n",
        "\n",
        "def bar_chart_on_locality(feature):\n",
        "  local = iris[iris['is_local'] == 1][feature].value_counts()\n",
        "  non_local = iris[iris['is_local'] == 0][feature].value_counts()\n",
        "\n",
        "  df = pd.DataFrame([local, non_local])\n",
        "  df.index = ['Local', 'Non-Local']\n",
        "  df.plot(kind='bar',stacked=True, figsize=(10,5))\n",
        "\n",
        "bar_chart_on_locality('species')"
      ]
    },
    {
      "cell_type": "code",
      "execution_count": 77,
      "metadata": {
        "colab": {
          "base_uri": "https://localhost:8080/",
          "height": 178
        },
        "id": "6lQkESs5eZq9",
        "outputId": "560a0052-b14b-4a26-d659-a52635671a64"
      },
      "outputs": [
        {
          "name": "stdout",
          "output_type": "stream",
          "text": [
            "<class 'pandas.core.series.Series'>\n"
          ]
        },
        {
          "data": {
            "image/png": "[encoded data removed]",
            "text/plain": [
              "<Figure size 500x400 with 1 Axes>"
            ]
          },
          "metadata": {},
          "output_type": "display_data"
        }
      ],
      "source": [
        "local = iris[iris['is_local'] == 1]['species'].value_counts()\n",
        "local\n",
        "\n",
        "non_local = iris[iris['is_local'] == 0]['species'].value_counts()\n",
        "non_local\n",
        "\n",
        "df = pd.DataFrame([local, non_local])\n",
        "df.index = ['Local', 'Non-Local']\n",
        "df.plot(kind='bar',stacked=True, figsize=(5,4))\n",
        "\n",
        "t = df.loc['Local']\n",
        "print(type(t))"
      ]
    }
  ],
  "metadata": {
    "colab": {
      "provenance": []
    },
    "kernelspec": {
      "display_name": "Python 3",
      "name": "python3"
    },
    "language_info": {
      "codemirror_mode": {
        "name": "ipython",
        "version": 3
      },
      "file_extension": ".py",
      "mimetype": "text/x-python",
      "name": "python",
      "nbconvert_exporter": "python",
      "pygments_lexer": "ipython3",
      "version": "3.10.11"
    }
  },
  "nbformat": 4,
  "nbformat_minor": 0
}
