{
 "cells": [
  {
   "cell_type": "code",
   "execution_count": 6,
   "metadata": {},
   "outputs": [],
   "source": [
    "from faker import Faker\n",
    "import random\n",
    "\n",
    "fake = Faker()\n",
    "\n",
    "file1 = open('..\\\\Project\\\\term-test-1-result.csv', 'w')\n",
    "file2 = open('..\\\\Project\\\\term-test-2-result.csv', 'w')\n",
    "file_term_final = open('..\\\\Project\\\\termfinal-and-attendance.csv', 'w')\n",
    "\n",
    "file1.write('Registration Number,Name,TT-1 Marks\\n')\n",
    "file2.write('Registration Number,Name,TT-2 Marks\\n')\n",
    "file_term_final.write('Registration Number,Name,Attendance Marks,Term-Final Marks\\n')\n",
    "\n",
    "for i in range(50):\n",
    "\n",
    "    reg = f'2020338{i+1:03d}'\n",
    "    file1.write(reg+',')\n",
    "    file2.write(reg+',')\n",
    "    file_term_final.write(reg+',')\n",
    "\n",
    "    name = fake.name()\n",
    "    file1.write(name+',')\n",
    "    file2.write(name+',')\n",
    "    file_term_final.write(name+',')\n",
    "\n",
    "    file1.write(str(random.randint(8, 20))+'\\n')\n",
    "    file2.write(str(random.randint(8, 20))+'\\n')\n",
    "    file_term_final.write(str(random.randint(0, 10))+',')\n",
    "    file_term_final.write(str(random.randint(20, 100))+'\\n')\n",
    "\n",
    "file1.close()\n",
    "file2.close()\n",
    "file_term_final.close()\n"
   ]
  }
 ],
 "metadata": {
  "kernelspec": {
   "display_name": "Python 3",
   "language": "python",
   "name": "python3"
  },
  "language_info": {
   "codemirror_mode": {
    "name": "ipython",
    "version": 3
   },
   "file_extension": ".py",
   "mimetype": "text/x-python",
   "name": "python",
   "nbconvert_exporter": "python",
   "pygments_lexer": "ipython3",
   "version": "3.10.11"
  }
 },
 "nbformat": 4,
 "nbformat_minor": 2
}
