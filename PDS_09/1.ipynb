{
 "cells": [
  {
   "cell_type": "markdown",
   "metadata": {},
   "source": [
    "## My First Class of PDS 09 ##\n",
    "\n",
    "* Lecture 03\n",
    "* If...else, String, fstring, rstring, ...\n",
    "\n",
    "*Good Luck*\n"
   ]
  },
  {
   "cell_type": "code",
   "execution_count": 5,
   "metadata": {},
   "outputs": [
    {
     "name": "stdout",
     "output_type": "stream",
     "text": [
      "The sum of the two numbers is:  7\n",
      "The difference of the two numbers is:  1\n",
      "The product of the two numbers is:  12\n",
      "The division of the two numbers is:  1.3333333333333333\n",
      "The floor division of the two numbers is:  1\n",
      "The remainder of the two numbers is:  1\n",
      "The average of the two numbers is:  3.5\n",
      "The exponential of the two numbers is:  64\n",
      "\n",
      "HeHeHe\n",
      "He He He \n"
     ]
    }
   ],
   "source": [
    "def main():\n",
    "    # task 01\n",
    "    x = int(input(\"Enter a number: \"))\n",
    "    y = int(input(\"Enter another number: \"))\n",
    "\n",
    "    print(\"The sum of the two numbers is: \", x + y)\n",
    "    print(\"The difference of the two numbers is: \", x - y)\n",
    "    print(\"The product of the two numbers is: \", x * y)\n",
    "    print(\"The division of the two numbers is: \", x / y)\n",
    "    print(\"The floor division of the two numbers is: \", x//y)\n",
    "    print(\"The remainder of the two numbers is: \", x % y)\n",
    "    print(\"The average of the two numbers is: \", (x + y) / 2)\n",
    "    print(\"The exponential of the two numbers is: \", x ** y, end=\"\\n\\n\")\n",
    "\n",
    "    # task 02\n",
    "    string = \"He\"\n",
    "    print(string * 3)\n",
    "    print((string + \" \") * 3)\n",
    "\n",
    "\n",
    "if __name__ == \"__main__\":\n",
    "    main()"
   ]
  },
  {
   "cell_type": "markdown",
   "metadata": {},
   "source": [
    "*Class Start*"
   ]
  },
  {
   "cell_type": "code",
   "execution_count": 6,
   "metadata": {},
   "outputs": [
    {
     "name": "stdout",
     "output_type": "stream",
     "text": [
      "False\n",
      "True\n",
      "True\n",
      "True\n",
      "False\n",
      "False\n"
     ]
    }
   ],
   "source": [
    "a = int(input(\"Enter a number: \"))\n",
    "b = int(input(\"Enter another number: \"))\n",
    "\n",
    "print(a == b)\n",
    "print(a < b)\n",
    "print(a <= b)\n",
    "print(a != b)\n",
    "print(a > b)\n",
    "print(a >= b)"
   ]
  },
  {
   "cell_type": "code",
   "execution_count": null,
   "metadata": {},
   "outputs": [],
   "source": [
    "num_1 = 5\n",
    "num_2 = 10\n",
    "\n",
    "if num_1 < num_2:\n",
    "    print(\"The first number is less than the second number.\")\n",
    "elif num_1 > num_2:\n",
    "    print(\"The first number is greater than the second number.\")\n",
    "else:\n",
    "    print(\"The first number is equal to the second number.\")"
   ]
  },
  {
   "cell_type": "code",
   "execution_count": 2,
   "metadata": {},
   "outputs": [
    {
     "name": "stdout",
     "output_type": "stream",
     "text": [
      "The sum of a and b is equal to 11.\n"
     ]
    }
   ],
   "source": [
    "a = 5\n",
    "b = 6\n",
    "\n",
    "c = 11\n",
    "\n",
    "if a+b > c:\n",
    "    print(\"The sum of a and b is greater than c.\")\n",
    "elif a+b < c:\n",
    "    print(\"The sum of a and b is less than 11.\")\n",
    "else:\n",
    "    print(\"The sum of a and b is equal to 11.\")"
   ]
  },
  {
   "cell_type": "code",
   "execution_count": 3,
   "metadata": {},
   "outputs": [
    {
     "name": "stdout",
     "output_type": "stream",
     "text": [
      "The number is even.\n"
     ]
    }
   ],
   "source": [
    "num = int(input(\"Enter a number: \"))\n",
    "\n",
    "if num % 2 == 0:\n",
    "    print(\"The number is even.\")\n",
    "else:\n",
    "    print(\"The number is odd.\")"
   ]
  },
  {
   "cell_type": "markdown",
   "metadata": {},
   "source": [
    "# Basic Calculator #"
   ]
  },
  {
   "cell_type": "code",
   "execution_count": 5,
   "metadata": {},
   "outputs": [
    {
     "name": "stdout",
     "output_type": "stream",
     "text": [
      "Enter two numbers(Enter 0 0 to exit): \n",
      "10.0 + 25.0 = 35.0\n",
      "Enter two numbers(Enter 0 0 to exit): \n"
     ]
    }
   ],
   "source": [
    "# Basic Calculator\n",
    "while (True):\n",
    "    # taking input from the user\n",
    "    print(\"Enter two numbers(Enter 0 0 to exit): \")\n",
    "    num1 = float(input(\"Enter First number: \"))\n",
    "    num2 = float(input(\"Enter Second number: \"))\n",
    "\n",
    "    if (num1 == 0 and num2 == 0):\n",
    "        print(\"\\n...Exit...\")\n",
    "        break\n",
    "\n",
    "    # performing the operation\n",
    "    operator = input(\"Enter an operator: \")\n",
    "    if operator == \"+\":\n",
    "        print(f\"{num1} + {num2} = {num1 + num2}\")\n",
    "    elif operator == \"-\":\n",
    "        f\"{num1} - {num2} = {num1 - num2}\"\n",
    "    elif operator == \"*\":\n",
    "        f\"{num1} * {num2} = {num1 * num2}\"\n",
    "    elif operator == \"/\":\n",
    "        if num2 == 0:\n",
    "            print(\"Division by zero is not allowed\")\n",
    "            continue\n",
    "        f\"{num1} / {num2} = {num1 / num2}\"\n",
    "    else:\n",
    "        print(\"Invalid operator\")"
   ]
  }
 ],
 "metadata": {
  "kernelspec": {
   "display_name": "Python 3",
   "language": "python",
   "name": "python3"
  },
  "language_info": {
   "codemirror_mode": {
    "name": "ipython",
    "version": 3
   },
   "file_extension": ".py",
   "mimetype": "text/x-python",
   "name": "python",
   "nbconvert_exporter": "python",
   "pygments_lexer": "ipython3",
   "version": "3.10.11"
  }
 },
 "nbformat": 4,
 "nbformat_minor": 2
}
