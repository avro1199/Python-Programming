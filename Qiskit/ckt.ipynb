{
 "cells": [
  {
   "cell_type": "code",
   "execution_count": 1,
   "metadata": {},
   "outputs": [
    {
     "data": {
      "text/html": [
       "<pre style=\"word-wrap: normal;white-space: pre;background: #fff0;line-height: 1.1;font-family: &quot;Courier New&quot;,Courier,monospace\">             ┌───┐      ░ ┌─┐   \n",
       "  Rj's Qbit: ┤ H ├──■───░─┤M├───\n",
       "             └───┘┌─┴─┐ ░ └╥┘┌─┐\n",
       "Taut's Qbit: ─────┤ X ├─░──╫─┤M├\n",
       "                  └───┘ ░  ║ └╥┘\n",
       "     meas: 2/══════════════╩══╩═\n",
       "                           0  1 </pre>"
      ],
      "text/plain": [
       "             ┌───┐      ░ ┌─┐   \n",
       "  Rj's Qbit: ┤ H ├──■───░─┤M├───\n",
       "             └───┘┌─┴─┐ ░ └╥┘┌─┐\n",
       "Taut's Qbit: ─────┤ X ├─░──╫─┤M├\n",
       "                  └───┘ ░  ║ └╥┘\n",
       "     meas: 2/══════════════╩══╩═\n",
       "                           0  1 "
      ]
     },
     "execution_count": 1,
     "metadata": {},
     "output_type": "execute_result"
    }
   ],
   "source": [
    "from qiskit import QuantumCircuit, QuantumRegister, ClassicalRegister\n",
    "from qiskit.circuit import Parameter\n",
    "\n",
    "rj_qbit = QuantumRegister(1, 'Rj\\'s Qbit')\n",
    "taut_qbit = QuantumRegister(1, 'Taut\\'s Qbit')\n",
    "\n",
    "\n",
    "ckt = QuantumCircuit(rj_qbit, taut_qbit)\n",
    "ckt.h(rj_qbit)\n",
    "ckt.cx(rj_qbit, taut_qbit)\n",
    "\n",
    "ckt.measure_all()\n",
    "\n",
    "ckt.draw()"
   ]
  }
 ],
 "metadata": {
  "kernelspec": {
   "display_name": "Python 3",
   "language": "python",
   "name": "python3"
  },
  "language_info": {
   "codemirror_mode": {
    "name": "ipython",
    "version": 3
   },
   "file_extension": ".py",
   "mimetype": "text/x-python",
   "name": "python",
   "nbconvert_exporter": "python",
   "pygments_lexer": "ipython3",
   "version": "3.12.0"
  }
 },
 "nbformat": 4,
 "nbformat_minor": 2
}
