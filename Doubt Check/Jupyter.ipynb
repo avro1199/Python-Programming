{
 "cells": [
  {
   "cell_type": "code",
   "execution_count": 2,
   "id": "9ead3fd4",
   "metadata": {},
   "outputs": [
    {
     "name": "stdout",
     "output_type": "stream",
     "text": [
      "hello\n"
     ]
    }
   ],
   "source": [
    "print(\"hello\")"
   ]
  },
  {
   "cell_type": "code",
   "execution_count": 3,
   "id": "575c1ad6",
   "metadata": {},
   "outputs": [],
   "source": [
    "a = 5\n",
    "b = 10\n"
   ]
  },
  {
   "cell_type": "code",
   "execution_count": 4,
   "id": "cbc7fea3",
   "metadata": {},
   "outputs": [],
   "source": [
    "def add(x, y):\n",
    "    \"\"\"Returns the sum of x and y.\"\"\"\n",
    "    return (x + y)"
   ]
  },
  {
   "cell_type": "code",
   "execution_count": 5,
   "id": "5dc274e2",
   "metadata": {},
   "outputs": [
    {
     "name": "stdout",
     "output_type": "stream",
     "text": [
      "5\n"
     ]
    }
   ],
   "source": [
    "print(a)"
   ]
  },
  {
   "cell_type": "code",
   "execution_count": 6,
   "id": "fb04ff83",
   "metadata": {},
   "outputs": [
    {
     "name": "stdout",
     "output_type": "stream",
     "text": [
      "15\n"
     ]
    }
   ],
   "source": [
    "c = add(a, b)\n",
    "print(c)"
   ]
  },
  {
   "cell_type": "markdown",
   "id": "b397cd3f",
   "metadata": {},
   "source": [
    "## Basic Topics ##\n",
    "* Variables\n",
    "* Arithmatic Operations\n",
    "* "
   ]
  },
  {
   "cell_type": "code",
   "execution_count": null,
   "id": "ba063835",
   "metadata": {},
   "outputs": [],
   "source": [
    "# arithmetic operations\n",
    "a = 5\n",
    "b = 10\n",
    "\n",
    "# +-*/  _> **, //, %\n",
    "\n",
    "&# bitwise operations\n",
    "a = 5 \n",
    "b = 10\n",
    "# & | ^ ~ << >>\n",
    "\n",
    "\n",
    "if(a < 5)"
   ]
  }
 ],
 "metadata": {
  "kernelspec": {
   "display_name": "Python 3",
   "language": "python",
   "name": "python3"
  },
  "language_info": {
   "codemirror_mode": {
    "name": "ipython",
    "version": 3
   },
   "file_extension": ".py",
   "mimetype": "text/x-python",
   "name": "python",
   "nbconvert_exporter": "python",
   "pygments_lexer": "ipython3",
   "version": "3.10.11"
  }
 },
 "nbformat": 4,
 "nbformat_minor": 5
}
