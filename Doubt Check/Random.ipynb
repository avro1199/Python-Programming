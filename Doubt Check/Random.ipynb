{
 "cells": [
  {
   "cell_type": "code",
   "execution_count": 34,
   "metadata": {},
   "outputs": [
    {
     "name": "stdout",
     "output_type": "stream",
     "text": [
      "<generator object rng at 0x0000022E452B7680>\n",
      "[5, 4.5, 4.0, 3.5, 3.0, 2.5, 2.0, 1.5]\n",
      "[1.5, 2.0, 2.5, 3.0, 3.5, 4.0, 4.5, 5]\n",
      "<class 'range'>\n"
     ]
    },
    {
     "data": {
      "text/plain": [
       "0"
      ]
     },
     "execution_count": 34,
     "metadata": {},
     "output_type": "execute_result"
    }
   ],
   "source": [
    "# parameter of functions\n",
    "\n",
    "import os\n",
    "\n",
    "\n",
    "def rng(stop, start = 0, step = 1):\n",
    "    var = start\n",
    "\n",
    "    if (step > 0):\n",
    "        while var < stop:\n",
    "            yield var\n",
    "            var = var + step\n",
    "    elif (step < 0):\n",
    "        while var > stop:\n",
    "            yield var\n",
    "            var = var + step\n",
    "\n",
    "print(rng(20, 10, 2))\n",
    "\n",
    "r = list(rng(1, 5, -0.5))\n",
    "print(r)\n",
    "print(sorted(r))\n",
    "\n",
    "\n",
    "x = range(10, 30, 2)\n",
    "print(type(x))\n",
    "\n",
    "os.system('cls')"
   ]
  },
  {
   "cell_type": "code",
   "execution_count": 34,
   "metadata": {},
   "outputs": [
    {
     "name": "stdout",
     "output_type": "stream",
     "text": [
      "<module 'matplotlib._docstring' from 'c:\\\\Users\\\\Rj Avro Biswas\\\\AppData\\\\Local\\\\Programs\\\\Python\\\\Python311\\\\Lib\\\\site-packages\\\\matplotlib\\\\_docstring.py'>\n"
     ]
    }
   ],
   "source": [
    "import matplotlib as plt\n",
    "\n",
    "x = [2, 3, 5, 6, 7, 8]\n",
    "y = [4, 9, 25, 36, 49, 64]\n",
    "\n",
    "print(plt._docstring)"
   ]
  },
  {
   "cell_type": "code",
   "execution_count": 35,
   "metadata": {},
   "outputs": [
    {
     "name": "stdout",
     "output_type": "stream",
     "text": [
      "['False', 'None', 'True', 'and', 'as', 'assert', 'async', 'await', 'break', 'class', 'continue', 'def', 'del', 'elif', 'else', 'except', 'finally', 'for', 'from', 'global', 'if', 'import', 'in', 'is', 'lambda', 'nonlocal', 'not', 'or', 'pass', 'raise', 'return', 'try', 'while', 'with', 'yield']\n"
     ]
    }
   ],
   "source": [
    "from keyword import kwlist\n",
    "\n",
    "print(kwlist)"
   ]
  },
  {
   "cell_type": "code",
   "execution_count": 80,
   "metadata": {},
   "outputs": [
    {
     "name": "stdout",
     "output_type": "stream",
     "text": [
      "(16, 64, 256, 1024)\n",
      "[(0, 0, 0, 0), (1, 1, 1, 1), (4, 8, 16, 32), (9, 27, 81, 243), (16, 64, 256, 1024), (25, 125, 625, 3125), (36, 216, 1296, 7776), (49, 343, 2401, 16807), (64, 512, 4096, 32768), (81, 729, 6561, 59049), (100, 1000, 10000, 100000)]\n",
      "[(0, 0, 0, 0), (4, 8, 16, 32), (16, 64, 256, 1024), (36, 216, 1296, 7776), (64, 512, 4096, 32768), (100, 1000, 10000, 100000)]\n",
      "<class 'filter'>\n"
     ]
    }
   ],
   "source": [
    "# special lambda\n",
    "\n",
    "a = lambda x:(x**2, x**3, x**4, x**5)\n",
    "\n",
    "ls = 4\n",
    "out = a(ls)\n",
    "\n",
    "print(out)\n",
    "\n",
    "# in C/C++ => []()\n",
    "\n",
    "ls2 = [0, 1, 2, 3, 4, 5, 6, 7, 8, 9, 10]\n",
    "\n",
    "lst_of_tpl = list(map(a, ls2))\n",
    "\n",
    "print(lst_of_tpl)\n",
    "\n",
    "out2 = filter(lambda x: x[0]%4 == 0, lst_of_tpl)\n",
    "\n",
    "print(list(out2))\n",
    "\n",
    "print(type(out2))"
   ]
  },
  {
   "cell_type": "code",
   "execution_count": 84,
   "metadata": {},
   "outputs": [
    {
     "name": "stdout",
     "output_type": "stream",
     "text": [
      "Exexuting the main function!\n"
     ]
    }
   ],
   "source": [
    "# main function calling\n",
    "\n",
    "def main():\n",
    "    print('Exexuting the main function!')\n",
    "    \n",
    "if __name__ == main():\n",
    "    main()"
   ]
  }
 ],
 "metadata": {
  "kernelspec": {
   "display_name": "Python 3",
   "language": "python",
   "name": "python3"
  },
  "language_info": {
   "codemirror_mode": {
    "name": "ipython",
    "version": 3
   },
   "file_extension": ".py",
   "mimetype": "text/x-python",
   "name": "python",
   "nbconvert_exporter": "python",
   "pygments_lexer": "ipython3",
   "version": "3.11.3"
  },
  "orig_nbformat": 4
 },
 "nbformat": 4,
 "nbformat_minor": 2
}
