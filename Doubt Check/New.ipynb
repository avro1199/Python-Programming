{
 "cells": [
  {
   "cell_type": "code",
   "execution_count": 2,
   "metadata": {},
   "outputs": [
    {
     "name": "stdout",
     "output_type": "stream",
     "text": [
      "Hello Mr Avro, whats up ?\n",
      "What do you wanna have ?\n",
      "('Tea', 'Coffee', 'Coke', '7UP', 'Pepsi')\n"
     ]
    }
   ],
   "source": [
    "def main():\n",
    "    say_hi('Avro')\n",
    "\n",
    "def say_hi(name):\n",
    "    print(f'Hello Mr {name}, whats up ?')\n",
    "    offer_drink('Tea', 'Coffee', 'Coke', '7UP', 'Pepsi')\n",
    "\n",
    "def offer_drink(*drinks):\n",
    "    '''This function tends to show a list of drinks and select from them'''\n",
    "    print('What do you wanna have ?')\n",
    "    print(str(drinks), sep=' ')\n",
    "\n",
    "if __name__ == main():\n",
    "    main()"
   ]
  },
  {
   "cell_type": "code",
   "execution_count": 3,
   "metadata": {},
   "outputs": [
    {
     "data": {
      "text/plain": [
       "'This function tends to show a list of drinks and select from them'"
      ]
     },
     "execution_count": 3,
     "metadata": {},
     "output_type": "execute_result"
    }
   ],
   "source": [
    "offer_drink.__doc__"
   ]
  }
 ],
 "metadata": {
  "kernelspec": {
   "display_name": "Python 3",
   "language": "python",
   "name": "python3"
  },
  "language_info": {
   "codemirror_mode": {
    "name": "ipython",
    "version": 3
   },
   "file_extension": ".py",
   "mimetype": "text/x-python",
   "name": "python",
   "nbconvert_exporter": "python",
   "pygments_lexer": "ipython3",
   "version": "3.11.4"
  },
  "orig_nbformat": 4
 },
 "nbformat": 4,
 "nbformat_minor": 2
}
