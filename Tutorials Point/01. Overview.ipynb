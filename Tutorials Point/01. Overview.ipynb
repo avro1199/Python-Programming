{
 "cells": [
  {
   "cell_type": "code",
   "execution_count": 1,
   "metadata": {},
   "outputs": [
    {
     "name": "stdout",
     "output_type": "stream",
     "text": [
      "True\n",
      "False\n"
     ]
    }
   ],
   "source": [
    "#True False\n",
    "print(3 == 3)\n",
    "print(3 == 4)"
   ]
  },
  {
   "cell_type": "code",
   "execution_count": 2,
   "metadata": {},
   "outputs": [
    {
     "name": "stdout",
     "output_type": "stream",
     "text": [
      "False\n",
      "False\n",
      "False\n",
      "True\n"
     ]
    }
   ],
   "source": [
    "#None\n",
    "from tkinter import NO\n",
    "\n",
    "\n",
    "print(None == 0)\n",
    "print(None == False)\n",
    "print(None == [])\n",
    "print(None == None)"
   ]
  },
  {
   "cell_type": "code",
   "execution_count": 3,
   "metadata": {},
   "outputs": [
    {
     "name": "stdout",
     "output_type": "stream",
     "text": [
      "Function Rj Exexuted\n",
      "None\n"
     ]
    }
   ],
   "source": [
    "def rj():\n",
    "    print('Function Rj Exexuted')\n",
    "x = rj()\n",
    "print(x)"
   ]
  },
  {
   "cell_type": "code",
   "execution_count": 4,
   "metadata": {},
   "outputs": [
    {
     "name": "stdout",
     "output_type": "stream",
     "text": [
      "True\n",
      "False\n",
      "True\n",
      "True\n",
      "False\n",
      "True\n",
      "False\n",
      "True\n",
      "140722830173064\n",
      "140722830173064\n",
      "140722830173064\n",
      "140722830173032\n",
      "140722830173000\n"
     ]
    }
   ],
   "source": [
    "#And Or Not\n",
    "print(True and True)\n",
    "print(True and False)\n",
    "print(True or True)\n",
    "print(True or False)\n",
    "print(not True)\n",
    "print(not False)\n",
    "t = 4\n",
    "x = 4\n",
    "print(True is False)\n",
    "print(t is x)\n",
    "print(id(t), id(x), id(4),  id(3), id(2),sep='\\n')"
   ]
  },
  {
   "cell_type": "code",
   "execution_count": 5,
   "metadata": {},
   "outputs": [
    {
     "name": "stdout",
     "output_type": "stream",
     "text": [
      "3.141592653589793\n"
     ]
    }
   ],
   "source": [
    "import math as m\n",
    "print(m.pi)"
   ]
  },
  {
   "cell_type": "code",
   "execution_count": 6,
   "metadata": {},
   "outputs": [],
   "source": [
    "assert 2 == 2\n",
    "assert True\n",
    "# assert False"
   ]
  },
  {
   "cell_type": "code",
   "execution_count": 7,
   "metadata": {},
   "outputs": [
    {
     "name": "stdout",
     "output_type": "stream",
     "text": [
      "0\n",
      "2\n",
      "4\n",
      "6\n",
      "8\n"
     ]
    }
   ],
   "source": [
    "#Break and Continue\n",
    "var = -1\n",
    "while(True):\n",
    "    var += 1\n",
    "    if not(var % 2 == 0):\n",
    "        continue\n",
    "    if (var >= 10):\n",
    "        break\n",
    "    print(var)\n",
    "    "
   ]
  },
  {
   "cell_type": "code",
   "execution_count": 8,
   "metadata": {},
   "outputs": [],
   "source": [
    "#Namta\n",
    "out = open('01.Namta.txt','w')\n",
    "ghar = 7,9,22\n",
    "for i in ghar:\n",
    "    print(i, \"er Namta\\n\",file=out)\n",
    "    for j in range(1,11):\n",
    "        print(\"{} x {} = {}\".format(i, j, i*j), file=out)\n",
    "    print('\\n', file=out)"
   ]
  },
  {
   "cell_type": "code",
   "execution_count": 6,
   "metadata": {},
   "outputs": [
    {
     "name": "stdout",
     "output_type": "stream",
     "text": [
      "Running in Forward Direction at a Speed of  <function speed at 0x000002F1A14DDA80>\n",
      "Running in Backward Direction at a Speed of  <function speed at 0x000002F1A14DDA80>\n",
      "32\n"
     ]
    }
   ],
   "source": [
    "#Class\n",
    "from turtle import left, speed\n",
    "\n",
    "\n",
    "class Rj_DCMotor:\n",
    "    speed = 32\n",
    "    def setSpeed(sp):\n",
    "         self: speed = sp\n",
    "    def run(dir):\n",
    "        if (dir == 'FORWARD'):\n",
    "            print('Running in Forward Direction at a Speed of ', speed)\n",
    "        elif (dir == 'BACKWARD'):\n",
    "            print('Running in Backward Direction at a Speed of ', speed)\n",
    "        elif (dir == 'RELEASE'):\n",
    "            print(\"Motor Released !\")\n",
    "            \n",
    "left = Rj_DCMotor\n",
    "right = Rj_DCMotor\n",
    "\n",
    "left.setSpeed(34)\n",
    "right.setSpeed(64)\n",
    "\n",
    "left.run('FORWARD')\n",
    "right.run('BACKWARD')\n",
    "print(left.speed)"
   ]
  },
  {
   "cell_type": "code",
   "execution_count": 10,
   "metadata": {},
   "outputs": [
    {
     "name": "stdout",
     "output_type": "stream",
     "text": [
      "d3\n"
     ]
    }
   ],
   "source": [
    "#Functions\n",
    "def add(num1,num2):\n",
    "    return num1+num2\n",
    "\n",
    "a = 'd'\n",
    "b = '3'\n",
    "\n",
    "c = add(a, b)\n",
    "\n",
    "print(c)\n",
    "\n",
    "del c\n",
    "# print(c)"
   ]
  },
  {
   "cell_type": "code",
   "execution_count": 11,
   "metadata": {},
   "outputs": [
    {
     "name": "stdout",
     "output_type": "stream",
     "text": [
      "Error Occured !\n"
     ]
    }
   ],
   "source": [
    "try:\n",
    "    print(9/0)\n",
    "except ZeroDivisionError:\n",
    "    print('Error Occured !')\n",
    "finally:\n",
    "    pass"
   ]
  },
  {
   "cell_type": "code",
   "execution_count": 12,
   "metadata": {},
   "outputs": [
    {
     "data": {
      "text/plain": [
       "['01. Overview.ipynb',\n",
       " '01.Namta.txt',\n",
       " 'Assert.py',\n",
       " 'Break and Continue.py',\n",
       " 'Import As.py',\n",
       " 'Namta.txt',\n",
       " 'None.py',\n",
       " 'True False.py']"
      ]
     },
     "execution_count": 12,
     "metadata": {},
     "output_type": "execute_result"
    }
   ],
   "source": [
    "import os\n",
    "os.listdir()"
   ]
  },
  {
   "cell_type": "code",
   "execution_count": 13,
   "metadata": {},
   "outputs": [
    {
     "name": "stdout",
     "output_type": "stream",
     "text": [
      "True\n",
      "True\n",
      "<class 'list'>\n",
      "True\n",
      "False\n",
      "<class 'int'>\n"
     ]
    }
   ],
   "source": [
    "#in/is\n",
    "a = [2,4,5,7]\n",
    "print(2 in a)\n",
    "print(3 not in a)\n",
    "print(type(a))\n",
    "\n",
    "a = b = 4\n",
    "c = 5\n",
    "print(a is b)\n",
    "print(b is c)\n",
    "print(type(a))"
   ]
  },
  {
   "cell_type": "code",
   "execution_count": 14,
   "metadata": {},
   "outputs": [
    {
     "name": "stdout",
     "output_type": "stream",
     "text": [
      "<class 'list'>\n",
      "<class 'tuple'>\n",
      "3 => 27\n",
      "4 => 64\n",
      "6 => 216\n",
      "7 => 343\n",
      "9 => 729\n",
      "2 => 8\n",
      "4 => 64\n",
      "6 => 216\n",
      "7 => 343\n",
      "8 => 512\n",
      "625\n"
     ]
    }
   ],
   "source": [
    "#Lamda Function\n",
    "y = lambda x:x**3\n",
    "k = lambda x:x**2**2\n",
    "\n",
    "x = [3,4,6,7,9]\n",
    "s = 2,4,6,7,8\n",
    "\n",
    "print(type(x))\n",
    "print(type(s))\n",
    "\n",
    "for i in x:\n",
    "    print(i, '=>', y(i))\n",
    "for i in s:\n",
    "    print(i, '=>', y(i))\n",
    "    \n",
    "print(k(5))"
   ]
  },
  {
   "cell_type": "code",
   "execution_count": 15,
   "metadata": {},
   "outputs": [
    {
     "name": "stdout",
     "output_type": "stream",
     "text": [
      "Inner => 22 => 45\n",
      "Outer => 10 => 45\n"
     ]
    }
   ],
   "source": [
    "#NonLocal\n",
    "\n",
    "def outer_fnc():\n",
    "    var1 = 10\n",
    "    var2 = 99\n",
    "    def inner_fnc():\n",
    "        var1 = 22 #Locar var1\n",
    "        nonlocal var2 #nonLocal var2\n",
    "        var2 = 45\n",
    "        print('Inner',var1, var2, sep=' => ')\n",
    "    inner_fnc()\n",
    "    print('Outer',var1, var2, sep=' => ')\n",
    "    \n",
    "outer_fnc()"
   ]
  },
  {
   "cell_type": "code",
   "execution_count": 16,
   "metadata": {},
   "outputs": [
    {
     "name": "stdout",
     "output_type": "stream",
     "text": [
      "19\n"
     ]
    }
   ],
   "source": [
    "#Pass\n",
    "\n",
    "for i in range(20):\n",
    "    pass #in C => for(int i = 0; i < 20; i++);\n",
    "print(i)"
   ]
  },
  {
   "cell_type": "code",
   "execution_count": 17,
   "metadata": {},
   "outputs": [
    {
     "name": "stdout",
     "output_type": "stream",
     "text": [
      "5.0\n"
     ]
    }
   ],
   "source": [
    "#return\n",
    "\n",
    "from math import sqrt\n",
    "\n",
    "\n",
    "def rj(x, y):\n",
    "    val = sqrt(x**2 + y**2)\n",
    "    return val\n",
    "print(rj(3,4))"
   ]
  },
  {
   "cell_type": "code",
   "execution_count": 18,
   "metadata": {},
   "outputs": [
    {
     "name": "stdout",
     "output_type": "stream",
     "text": [
      "256\n",
      "128\n",
      "64\n",
      "32\n",
      "16\n",
      "8\n",
      "4\n",
      "2\n",
      "1\n"
     ]
    }
   ],
   "source": [
    "#while loop\n",
    "\n",
    "i = 256\n",
    "\n",
    "while(True):\n",
    "    if i==0:\n",
    "        break\n",
    "    print(i)\n",
    "    i //= 2\n",
    "    "
   ]
  },
  {
   "cell_type": "code",
   "execution_count": 19,
   "metadata": {},
   "outputs": [
    {
     "name": "stdout",
     "output_type": "stream",
     "text": [
      "['Hi, I am Rj Avro Biswas\\n', 'This file is created by my Programs\\n']\n"
     ]
    }
   ],
   "source": [
    "#with\n",
    "\n",
    "with open('Rj.txt','w') as fp:\n",
    "    fp.write('Hi, I am Rj Avro Biswas\\n')\n",
    "    print('This file is created by my Programs', file=fp)\n",
    "    \n",
    "f = open('Rj.txt','r')\n",
    "x = f.readlines()\n",
    "print(x)\n"
   ]
  },
  {
   "cell_type": "code",
   "execution_count": 20,
   "metadata": {},
   "outputs": [
    {
     "name": "stdout",
     "output_type": "stream",
     "text": [
      "<class 'generator'>\n",
      "0\n",
      "1\n",
      "4\n",
      "9\n",
      "16\n",
      "<generator object mj at 0x00000255B6429970>\n",
      "0\n",
      "1\n",
      "4\n",
      "9\n",
      "16\n",
      "25\n",
      "36\n",
      "49\n",
      "64\n",
      "81\n",
      "100\n",
      "121\n",
      "144\n",
      "169\n",
      "196\n",
      "225\n",
      "256\n",
      "289\n",
      "324\n",
      "361\n",
      "400\n"
     ]
    }
   ],
   "source": [
    "#yield\n",
    "\n",
    "def mj(num):\n",
    "    for i in range(num):\n",
    "        yield i**2\n",
    "        \n",
    "g = mj(5)\n",
    "print(type(g))\n",
    "\n",
    "for i in g:\n",
    "    print(i)\n",
    "    \n",
    "print(g)\n",
    "\n",
    "for i in mj(21):\n",
    "    print(i)"
   ]
  }
 ],
 "metadata": {
  "kernelspec": {
   "display_name": "Python 3",
   "language": "python",
   "name": "python3"
  },
  "language_info": {
   "codemirror_mode": {
    "name": "ipython",
    "version": 3
   },
   "file_extension": ".py",
   "mimetype": "text/x-python",
   "name": "python",
   "nbconvert_exporter": "python",
   "pygments_lexer": "ipython3",
   "version": "3.11.3"
  },
  "orig_nbformat": 4
 },
 "nbformat": 4,
 "nbformat_minor": 2
}
