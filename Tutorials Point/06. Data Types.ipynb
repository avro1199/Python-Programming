{
 "cells": [
  {
   "attachments": {},
   "cell_type": "markdown",
   "metadata": {},
   "source": [
    "### Python Data Types\n",
    "* List\n",
    "* Tuple\n",
    "* Set\n",
    "* Dictionary"
   ]
  },
  {
   "cell_type": "code",
   "execution_count": 16,
   "metadata": {},
   "outputs": [
    {
     "name": "stdout",
     "output_type": "stream",
     "text": [
      "[]\n",
      "[2, 4, 5, 7]\n",
      "[2, 'c', 'I love you']\n",
      "I\n",
      "love\n",
      "[2, 'c', 'I love you', 'Do you love me?']\n",
      "[2, 'c', 'I love you', 'Do you love me?', 'If yes then say something', 'If no also say something']\n",
      "[2, 'c', 'I love you', 'Do you love me?', 'If yes then say something', 'If no also say something', 2, 4, 7, 8, 100, 1.222, 3.14159265]\n",
      "[2, 4, 7, 8, 100, 1.222, 3.14159265]\n",
      "[['Hi I am Rj'], 2, 4, 7, 8, 100, 1.222, 3.14159265]\n",
      "[['Hi I am Rj'], 2, 'Bruh!, What is your update?', 'Please let us know!', 4, 7, 8, 100, 1.222, 3.14159265]\n",
      "[['Hi I am Rj'], 2, 'Bruh!, What is your update?', 'Please let us know!', 7, 8, 100, 1.222, 3.14159265]\n",
      "[]\n"
     ]
    }
   ],
   "source": [
    "#list\n",
    "\n",
    "list1 = []\n",
    "print(list1)\n",
    "\n",
    "list2 = [2,4,5,7]\n",
    "print(list2)\n",
    "\n",
    "list3 = [2, 'c', \"I love you\"]\n",
    "print(list3)\n",
    "print(list3[2][0])\n",
    "print(list3[2][2:6])\n",
    "\n",
    "list3.append('Do you love me?')\n",
    "print(list3)\n",
    "\n",
    "list3.extend(['If yes then say something', 'If no also say something'])\n",
    "print(list3)\n",
    "\n",
    "list3.extend([2,4,7,8,100,1.222,3.14159265])\n",
    "print(list3)\n",
    "\n",
    "del list3[1:7]\n",
    "print(list3)\n",
    "\n",
    "list3.insert(0, ['Hi I am Rj'])\n",
    "print(list3)\n",
    "\n",
    "list3[2:2] = ['Bruh!, What is your update?', 'Please let us know!']\n",
    "print(list3)\n",
    "\n",
    "list3.remove(4)\n",
    "print(list3)\n",
    "\n",
    "list3.clear()\n",
    "print(list3)"
   ]
  },
  {
   "cell_type": "code",
   "execution_count": 5,
   "metadata": {},
   "outputs": [
    {
     "name": "stdout",
     "output_type": "stream",
     "text": [
      "[9, 25, 49, 1, 4, 81, 16, 49, 64]\n",
      "[1, 4, 9, 16, 25, 49, 49, 64, 81]\n",
      "[1, 4, 25, 49, 49, 64, 81]\n",
      "2\n",
      "3\n",
      "[81, 64, 49, 49, 25, 4, 1]\n",
      "273\n",
      "39.0\n",
      "81\n",
      "64\n",
      "49\n",
      "49\n",
      "25\n",
      "4\n",
      "1\n"
     ]
    }
   ],
   "source": [
    "from numpy import average\n",
    "\n",
    "\n",
    "feed = 3, 5, 7, 1, 2, 9, 4, 7, 8\n",
    "\n",
    "lst = [x**2 for x in feed]\n",
    "print(lst)\n",
    "\n",
    "lst.sort()\n",
    "print(lst)\n",
    "\n",
    "lst.pop(2)\n",
    "lst.pop(2)\n",
    "print(lst)\n",
    "\n",
    "print(lst.count(49))\n",
    "print(lst.index(49))\n",
    "\n",
    "lst.reverse()\n",
    "print(lst)\n",
    "print(sum(lst))\n",
    "print(average(lst))\n",
    "\n",
    "for i in lst:\n",
    "    print(i)"
   ]
  },
  {
   "cell_type": "code",
   "execution_count": 43,
   "metadata": {},
   "outputs": [
    {
     "name": "stdout",
     "output_type": "stream",
     "text": [
      "sat\n",
      "sun\n",
      "mon\n",
      "tue\n",
      "wed\n",
      "thu\n",
      "fri\n",
      "\n",
      " wed\n"
     ]
    }
   ],
   "source": [
    "day = ['sat', 'sun', 'mon', 'tue', 'wed', 'thu', 'fri']\n",
    "\n",
    "for j in day:\n",
    "    print(j)\n",
    "    \n",
    "print('\\n',max(day))"
   ]
  },
  {
   "cell_type": "code",
   "execution_count": 4,
   "metadata": {},
   "outputs": [
    {
     "name": "stdout",
     "output_type": "stream",
     "text": [
      "{2, 3.3, (4+5j)}\n",
      "{2: 4, 3.3: 10.889999999999999, (4+5j): (-9+40j)}\n",
      "(-9+40j)\n"
     ]
    }
   ],
   "source": [
    "#sets\n",
    "\n",
    "s = {2, 3.3, 4+5j}\n",
    "print(s)\n",
    "\n",
    "s2 = {x:x**2 for x in s}\n",
    "print(s2)\n",
    "\n",
    "print(s2.get(4+5j))"
   ]
  },
  {
   "cell_type": "code",
   "execution_count": 9,
   "metadata": {},
   "outputs": [
    {
     "name": "stdout",
     "output_type": "stream",
     "text": [
      "(3, 5, 7, 1, 2, 9, 4, 7, 8)\n",
      "[True, False, False, False, False, True, False, False, False]\n",
      "[3, 9]\n"
     ]
    }
   ],
   "source": [
    "feed = 3, 5, 7, 1, 2, 9, 4, 7, 8\n",
    "\n",
    "print(feed)\n",
    "\n",
    "filtered = list(map(lambda x:x%3==0,feed))\n",
    "print(filtered)\n",
    "\n",
    "filtered = list(filter(lambda x:x%3==0,feed))\n",
    "print(filtered)"
   ]
  }
 ],
 "metadata": {
  "kernelspec": {
   "display_name": "Python 3",
   "language": "python",
   "name": "python3"
  },
  "language_info": {
   "codemirror_mode": {
    "name": "ipython",
    "version": 3
   },
   "file_extension": ".py",
   "mimetype": "text/x-python",
   "name": "python",
   "nbconvert_exporter": "python",
   "pygments_lexer": "ipython3",
   "version": "3.11.3"
  },
  "orig_nbformat": 4
 },
 "nbformat": 4,
 "nbformat_minor": 2
}
