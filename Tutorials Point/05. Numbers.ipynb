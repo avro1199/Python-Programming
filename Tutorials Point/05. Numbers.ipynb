{
 "cells": [
  {
   "cell_type": "code",
   "execution_count": 2,
   "metadata": {},
   "outputs": [
    {
     "name": "stdout",
     "output_type": "stream",
     "text": [
      "<class 'int'>\n",
      "<class 'float'>\n",
      "<class 'complex'>\n"
     ]
    }
   ],
   "source": [
    "i = 23\n",
    "f = 23.23\n",
    "c = 2+3j\n",
    "\n",
    "print(type(i))\n",
    "print(type(f))\n",
    "print(type(c))"
   ]
  },
  {
   "cell_type": "code",
   "execution_count": 7,
   "metadata": {},
   "outputs": [
    {
     "name": "stdout",
     "output_type": "stream",
     "text": [
      "40j\n"
     ]
    }
   ],
   "source": [
    "a = 2+5j\n",
    "b = 5+2j\n",
    "\n",
    "print(a**2 + b**2)"
   ]
  },
  {
   "cell_type": "code",
   "execution_count": 17,
   "metadata": {},
   "outputs": [
    {
     "name": "stdout",
     "output_type": "stream",
     "text": [
      "0.30000000000000004\n",
      "0.3\n"
     ]
    }
   ],
   "source": [
    "x = 0.1\n",
    "y = 0.2\n",
    "\n",
    "print(x+y)\n",
    "\n",
    "from decimal import Decimal as D\n",
    "print(D('0.1')+D('0.2'))"
   ]
  },
  {
   "cell_type": "code",
   "execution_count": 21,
   "metadata": {},
   "outputs": [
    {
     "name": "stdout",
     "output_type": "stream",
     "text": [
      "10\n",
      "11\n",
      "12\n"
     ]
    }
   ],
   "source": [
    "bi = 0b1010\n",
    "oc = 0o13\n",
    "hx = 0xc\n",
    "\n",
    "print(bi, oc, hx, sep='\\n')"
   ]
  },
  {
   "cell_type": "code",
   "execution_count": 61,
   "metadata": {},
   "outputs": [
    {
     "name": "stdout",
     "output_type": "stream",
     "text": [
      "8\n",
      "['mar', 'feb', 'may', 'jan', 'apr']\n",
      "apr\n",
      "0.552461029214538\n"
     ]
    }
   ],
   "source": [
    "import random as rn\n",
    "\n",
    "print(rn.randrange(2,20))\n",
    "\n",
    "month = ['jan', 'feb', 'mar', 'apr', 'may']\n",
    "\n",
    "rn.shuffle(month)\n",
    "\n",
    "print(month)\n",
    "print(rn.choice(month))\n",
    "\n",
    "print(rn.random())"
   ]
  }
 ],
 "metadata": {
  "kernelspec": {
   "display_name": "Python 3",
   "language": "python",
   "name": "python3"
  },
  "language_info": {
   "codemirror_mode": {
    "name": "ipython",
    "version": 3
   },
   "file_extension": ".py",
   "mimetype": "text/x-python",
   "name": "python",
   "nbconvert_exporter": "python",
   "pygments_lexer": "ipython3",
   "version": "3.11.3"
  },
  "orig_nbformat": 4
 },
 "nbformat": 4,
 "nbformat_minor": 2
}
