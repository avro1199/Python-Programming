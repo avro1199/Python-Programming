{
 "cells": [
  {
   "cell_type": "code",
   "execution_count": 12,
   "metadata": {},
   "outputs": [
    {
     "name": "stdout",
     "output_type": "stream",
     "text": [
      "25\n",
      "28\n"
     ]
    }
   ],
   "source": [
    "#continuation\n",
    "\n",
    "a = 2 + 4 + 6 + \\\n",
    "6 + 7 # Explicit Continuation\n",
    "\n",
    "print(a)\n",
    "\n",
    "b = (3 + 6 - 5 #Implicit Continuation\n",
    "     + 4 * 6)\n",
    "print(b)"
   ]
  },
  {
   "cell_type": "code",
   "execution_count": 14,
   "metadata": {},
   "outputs": [
    {
     "name": "stdout",
     "output_type": "stream",
     "text": [
      "3\n",
      "6\n",
      "6\n"
     ]
    }
   ],
   "source": [
    "a = 3; b = 6; c = 6;\n",
    "print(a); print(b); print(c);"
   ]
  },
  {
   "cell_type": "code",
   "execution_count": 20,
   "metadata": {},
   "outputs": [
    {
     "name": "stdout",
     "output_type": "stream",
     "text": [
      "0\n",
      "0\n",
      "1\n",
      "1\n",
      "2\n",
      "2\n",
      "3\n",
      "3\n",
      "4\n",
      "4\n",
      "5\n",
      "5\n"
     ]
    }
   ],
   "source": [
    "for i in range(6):\n",
    "\tprint(i);\n",
    "\tprint(i); '''See ';' also works here'''\n"
   ]
  },
  {
   "cell_type": "code",
   "execution_count": 22,
   "metadata": {},
   "outputs": [
    {
     "name": "stdout",
     "output_type": "stream",
     "text": [
      "Pukur & Pond & Talab\n"
     ]
    }
   ],
   "source": [
    "b, e, h = 'Pukur', 'Pond', 'Talab'\n",
    "print(b,e,h,sep=' & ')"
   ]
  },
  {
   "cell_type": "code",
   "execution_count": 29,
   "metadata": {},
   "outputs": [
    {
     "name": "stdout",
     "output_type": "stream",
     "text": [
      "Hi there, What's up? Have you seen Rj. 💝\n",
      "His full name is Avro Biswas. 💝\n",
      "Chill! It's not that urgent for Him.\n"
     ]
    }
   ],
   "source": [
    "# print('Hello! My name is {} {} {}'.format('Rj', 'Avro', 'Biswas'))\n",
    "\n",
    "msg = ['Hi there, What\\'s up? Have you seen {}.'.format('Rj'),\n",
    "       'His full name is {} {}.'.format('Avro', 'Biswas'),\n",
    "       'Chill! It\\'s not that urgent for {}.'.format('Him')]\n",
    "\n",
    "print(' 💝\\n'.join(msg))"
   ]
  },
  {
   "cell_type": "code",
   "execution_count": 30,
   "metadata": {},
   "outputs": [
    {
     "name": "stdout",
     "output_type": "stream",
     "text": [
      "Prints the values to a stream, or to sys.stdout by default.\n",
      "\n",
      "  sep\n",
      "    string inserted between values, default a space.\n",
      "  end\n",
      "    string appended after the last value, default a newline.\n",
      "  file\n",
      "    a file-like object (stream); defaults to the current sys.stdout.\n",
      "  flush\n",
      "    whether to forcibly flush the stream.\n"
     ]
    }
   ],
   "source": [
    "print(print.__doc__)"
   ]
  }
 ],
 "metadata": {
  "kernelspec": {
   "display_name": "Python 3",
   "language": "python",
   "name": "python3"
  },
  "language_info": {
   "codemirror_mode": {
    "name": "ipython",
    "version": 3
   },
   "file_extension": ".py",
   "mimetype": "text/x-python",
   "name": "python",
   "nbconvert_exporter": "python",
   "pygments_lexer": "ipython3",
   "version": "3.11.3"
  },
  "orig_nbformat": 4
 },
 "nbformat": 4,
 "nbformat_minor": 2
}
