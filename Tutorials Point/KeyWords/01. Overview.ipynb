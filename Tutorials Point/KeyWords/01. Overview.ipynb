{
 "cells": [
  {
   "cell_type": "code",
   "execution_count": 8,
   "metadata": {},
   "outputs": [
    {
     "name": "stdout",
     "output_type": "stream",
     "text": [
      "True\n",
      "False\n"
     ]
    }
   ],
   "source": [
    "#True False\n",
    "print(3 == 3)\n",
    "print(3 == 4)"
   ]
  },
  {
   "cell_type": "code",
   "execution_count": 6,
   "metadata": {},
   "outputs": [
    {
     "name": "stdout",
     "output_type": "stream",
     "text": [
      "False\n",
      "False\n",
      "False\n",
      "True\n"
     ]
    }
   ],
   "source": [
    "#None\n",
    "from tkinter import NO\n",
    "\n",
    "\n",
    "print(None == 0)\n",
    "print(None == False)\n",
    "print(None == [])\n",
    "print(None == None)"
   ]
  },
  {
   "cell_type": "code",
   "execution_count": 10,
   "metadata": {},
   "outputs": [
    {
     "name": "stdout",
     "output_type": "stream",
     "text": [
      "Function Rj Exexuted\n",
      "None\n"
     ]
    }
   ],
   "source": [
    "def rj():\n",
    "    print('Function Rj Exexuted')\n",
    "x = rj()\n",
    "print(x)"
   ]
  },
  {
   "cell_type": "code",
   "execution_count": 20,
   "metadata": {},
   "outputs": [
    {
     "name": "stdout",
     "output_type": "stream",
     "text": [
      "True\n",
      "False\n",
      "True\n",
      "True\n",
      "False\n",
      "True\n",
      "False\n",
      "True\n",
      "140722349007752\n",
      "140722349007752\n",
      "140722349007752\n",
      "140722349007720\n",
      "140722349007688\n"
     ]
    }
   ],
   "source": [
    "#And Or Not\n",
    "print(True and True)\n",
    "print(True and False)\n",
    "print(True or True)\n",
    "print(True or False)\n",
    "print(not True)\n",
    "print(not False)\n",
    "t = 4\n",
    "x = 4\n",
    "print(True is False)\n",
    "print(t is x)\n",
    "print(id(t), id(x), id(4),  id(3), id(2),sep='\\n')"
   ]
  },
  {
   "cell_type": "code",
   "execution_count": 22,
   "metadata": {},
   "outputs": [
    {
     "name": "stdout",
     "output_type": "stream",
     "text": [
      "3.141592653589793\n"
     ]
    }
   ],
   "source": [
    "import math as m\n",
    "print(m.pi)"
   ]
  },
  {
   "cell_type": "code",
   "execution_count": 27,
   "metadata": {},
   "outputs": [],
   "source": [
    "assert 2 == 2\n",
    "assert True\n",
    "# assert False"
   ]
  },
  {
   "cell_type": "code",
   "execution_count": 33,
   "metadata": {},
   "outputs": [
    {
     "name": "stdout",
     "output_type": "stream",
     "text": [
      "0\n",
      "2\n",
      "4\n",
      "6\n",
      "8\n"
     ]
    }
   ],
   "source": [
    "#Break and Continue\n",
    "var = -1\n",
    "while(True):\n",
    "    var += 1\n",
    "    if not(var % 2 == 0):\n",
    "        continue\n",
    "    if (var >= 10):\n",
    "        break\n",
    "    print(var)\n",
    "    "
   ]
  },
  {
   "cell_type": "code",
   "execution_count": 62,
   "metadata": {},
   "outputs": [],
   "source": [
    "#Namta\n",
    "out = open('01.Namta.txt','w')\n",
    "ghar = 7,9,22\n",
    "for i in ghar:\n",
    "    print(i, \"er Namta\\n\",file=out)\n",
    "    for j in range(1,11):\n",
    "        print(\"{} x {} = {}\".format(i, j, i*j), file=out)\n",
    "    print('\\n', file=out)"
   ]
  },
  {
   "cell_type": "code",
   "execution_count": 71,
   "metadata": {},
   "outputs": [
    {
     "name": "stdout",
     "output_type": "stream",
     "text": [
      "Running in Forward Direction at a Speed of  <function speed at 0x000001C8288E2200>\n",
      "Running in Backward Direction at a Speed of  <function speed at 0x000001C8288E2200>\n",
      "0\n"
     ]
    }
   ],
   "source": [
    "#Class\n",
    "from turtle import left, speed\n",
    "\n",
    "\n",
    "class Rj_DCMotor:\n",
    "    speed = 0\n",
    "    def setSpeed(sp):\n",
    "        self: speed = sp\n",
    "    def run(dir):\n",
    "        global speed\n",
    "        sp = speed\n",
    "        if (dir == 'FORWARD'):\n",
    "            print('Running in Forward Direction at a Speed of ', sp)\n",
    "        elif (dir == 'BACKWARD'):\n",
    "            print('Running in Backward Direction at a Speed of ', sp)\n",
    "        elif (dir == 'RELEASE'):\n",
    "            print(\"Motor Released !\")\n",
    "            \n",
    "left = Rj_DCMotor\n",
    "right = Rj_DCMotor\n",
    "\n",
    "left.setSpeed(34)\n",
    "right.setSpeed(64)\n",
    "\n",
    "left.run('FORWARD')\n",
    "right.run('BACKWARD')\n",
    "print(left.speed)"
   ]
  },
  {
   "cell_type": "code",
   "execution_count": 77,
   "metadata": {},
   "outputs": [
    {
     "name": "stdout",
     "output_type": "stream",
     "text": [
      "d3\n"
     ]
    }
   ],
   "source": [
    "#Functions\n",
    "def add(num1,num2):\n",
    "    return num1+num2\n",
    "\n",
    "a = 'd'\n",
    "b = '3'\n",
    "\n",
    "c = add(a, b)\n",
    "\n",
    "print(c)\n",
    "\n",
    "del c\n",
    "# print(c)"
   ]
  },
  {
   "cell_type": "code",
   "execution_count": 90,
   "metadata": {},
   "outputs": [
    {
     "name": "stdout",
     "output_type": "stream",
     "text": [
      "Error Occured !\n"
     ]
    }
   ],
   "source": [
    "try:\n",
    "    print(9/0)\n",
    "except ZeroDivisionError:\n",
    "    print('Error Occured !')\n",
    "finally:\n",
    "    pass"
   ]
  }
 ],
 "metadata": {
  "kernelspec": {
   "display_name": "Python 3",
   "language": "python",
   "name": "python3"
  },
  "language_info": {
   "codemirror_mode": {
    "name": "ipython",
    "version": 3
   },
   "file_extension": ".py",
   "mimetype": "text/x-python",
   "name": "python",
   "nbconvert_exporter": "python",
   "pygments_lexer": "ipython3",
   "version": "3.11.3"
  },
  "orig_nbformat": 4
 },
 "nbformat": 4,
 "nbformat_minor": 2
}
