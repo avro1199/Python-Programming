{
 "cells": [
  {
   "cell_type": "code",
   "execution_count": 8,
   "metadata": {},
   "outputs": [
    {
     "name": "stdout",
     "output_type": "stream",
     "text": [
      "[1, 2, 3, 4, 5, 1, 2, 3, 4, 5]\n",
      "[ 2  4  6  8 10  2  4  6  8 10]\n",
      "[9 8 7 6]\n",
      "[ 18  52 100 160 220 190 170 160 160 220 172 118  60]\n"
     ]
    }
   ],
   "source": [
    "import numpy as np\n",
    "\n",
    "x = [1, 2, 3, 4, 5]\n",
    "y = [9, 8, 7, 6]\n",
    "\n",
    "x *= 2\n",
    "\n",
    "print(x)\n",
    "\n",
    "x,y = np.array(x), np.array(y)\n",
    "\n",
    "x *= 2\n",
    "\n",
    "print(x)\n",
    "print(y)\n",
    "\n",
    "print(np.convolve(x, y))"
   ]
  },
  {
   "cell_type": "markdown",
   "metadata": {},
   "source": [
    "# Start\n",
    ".code"
   ]
  },
  {
   "cell_type": "code",
   "execution_count": 2,
   "metadata": {},
   "outputs": [
    {
     "name": "stdout",
     "output_type": "stream",
     "text": [
      "[1. 1. 1. 1. 1. 1. 1. 1. 1. 1.]\n",
      "[0. 0. 0. 0. 0.]\n"
     ]
    }
   ],
   "source": [
    "import numpy as np\n",
    "\n",
    "z = np.zeros(5)\n",
    "\n",
    "o = np.ones(10)\n",
    "\n",
    "print(o)\n",
    "\n",
    "print(z)"
   ]
  },
  {
   "cell_type": "code",
   "execution_count": 4,
   "metadata": {},
   "outputs": [],
   "source": [
    "data = np.array([[1, 2, 3, 4, 5], [6, 7, 8, 9, 10]])\n"
   ]
  },
  {
   "cell_type": "code",
   "execution_count": 5,
   "metadata": {},
   "outputs": [
    {
     "name": "stdout",
     "output_type": "stream",
     "text": [
      "[[ 7 10]\n",
      " [15 22]]\n",
      "[[ 7 10]\n",
      " [15 22]]\n",
      "[[ 7 10]\n",
      " [15 22]]\n"
     ]
    }
   ],
   "source": [
    "a = [[1,2], [3,4]]\n",
    "b = [[1,2], [3,4]]\n",
    "\n",
    "x = np.array(a)\n",
    "y = np.array(b)\n",
    "\n",
    "print(x@y)\n",
    "print(x.dot(y))\n",
    "print(np.dot(x, y))"
   ]
  },
  {
   "cell_type": "code",
   "execution_count": 107,
   "metadata": {},
   "outputs": [
    {
     "name": "stdout",
     "output_type": "stream",
     "text": [
      "[[[49 76 55 40 89]\n",
      "  [99 68 65 69 88]\n",
      "  [69 89 98 48 49]\n",
      "  [40 82 80 94 76]]]\n",
      "Max : 99\n",
      "std:  18.65281480098915\n"
     ]
    },
    {
     "data": {
      "text/plain": [
       "array([[39, 66, 45, 30, 79, 89, 58, 55, 59, 78],\n",
       "       [59, 79, 88, 38, 39, 30, 72, 70, 84, 66]])"
      ]
     },
     "execution_count": 107,
     "metadata": {},
     "output_type": "execute_result"
    }
   ],
   "source": [
    "np.random.seed(10)\n",
    "\n",
    "data = np.array([np.random.randint(40, 101, (4,5))])\n",
    "\n",
    "print(data)\n",
    "print(\"Max :\", data.max())\n",
    "print(\"std: \", data.std())\n",
    "\n",
    "new_data = data - 10\n",
    "\n",
    "re = new_data.reshape(2,10)\n",
    "re"
   ]
  },
  {
   "cell_type": "markdown",
   "metadata": {},
   "source": [
    "# pandas"
   ]
  },
  {
   "cell_type": "code",
   "execution_count": 148,
   "metadata": {},
   "outputs": [
    {
     "name": "stdout",
     "output_type": "stream",
     "text": [
      "0    23\n",
      "1    30\n",
      "2    22\n",
      "3    35\n",
      "4    40\n",
      "Name: Age, dtype: int64\n",
      "      Name  Age   CGP\n",
      "0     Avro   23  3.50\n",
      "1    Saeed   30  3.90\n",
      "2    Refat   22  3.25\n",
      "3     Nuru   35  4.00\n",
      "4  Shouvik   40  3.99\n",
      "      Name  Age   CGP\n",
      "3     Nuru   35  4.00\n",
      "4  Shouvik   40  3.99\n",
      "1    Saeed   30  3.90\n",
      "0     Avro   23  3.50\n",
      "2    Refat   22  3.25\n",
      "             Age       CGP\n",
      "count   5.000000  5.000000\n",
      "mean   30.000000  3.728000\n",
      "std     7.713624  0.336407\n",
      "min    22.000000  3.250000\n",
      "25%    23.000000  3.500000\n",
      "50%    30.000000  3.900000\n",
      "75%    35.000000  3.990000\n",
      "max    40.000000  4.000000\n"
     ]
    }
   ],
   "source": [
    "import pandas as pd\n",
    "\n",
    "data = {\"Name\":[\"Avro\", \"Saeed\", \"Refat\", \"Nuru\", \"Shouvik\"], \"Age\":[23, 30, 22, 35, 40], \"CGP\":[3.5, 3.9, 3.25,4, 3.99]}\n",
    "\n",
    "dt = pd.Series(data)\n",
    "\n",
    "df = pd.DataFrame(data)\n",
    "# df.fillna(\"Name\", 'Nuru')\n",
    "print(df[\"Age\"])\n",
    "\n",
    "f_dt = df[(df['Age'] > 20)]\n",
    "print(f_dt)\n",
    "\n",
    "f_dt = f_dt.sort_values(\"CGP\", ascending=False)\n",
    "print(f_dt)\n",
    "\n",
    "print(df.describe())\n",
    "\n",
    "f_dt.to_csv(\"my_first_csv\")"
   ]
  },
  {
   "cell_type": "code",
   "execution_count": null,
   "metadata": {},
   "outputs": [],
   "source": []
  }
 ],
 "metadata": {
  "kernelspec": {
   "display_name": "Python 3",
   "language": "python",
   "name": "python3"
  },
  "language_info": {
   "codemirror_mode": {
    "name": "ipython",
    "version": 3
   },
   "file_extension": ".py",
   "mimetype": "text/x-python",
   "name": "python",
   "nbconvert_exporter": "python",
   "pygments_lexer": "ipython3",
   "version": "3.10.11"
  }
 },
 "nbformat": 4,
 "nbformat_minor": 2
}
