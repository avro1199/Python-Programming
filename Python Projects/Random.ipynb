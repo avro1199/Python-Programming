{
 "cells": [
  {
   "cell_type": "code",
   "execution_count": null,
   "metadata": {},
   "outputs": [],
   "source": [
    "import numpy as np\n",
    "values = 3,4,6,8,9\n",
    "a = np.average(values)\n",
    "print(a)"
   ]
  },
  {
   "cell_type": "code",
   "execution_count": 1,
   "metadata": {},
   "outputs": [
    {
     "name": "stdout",
     "output_type": "stream",
     "text": [
      "1,2,3\n",
      "1,3,2\n",
      "2,1,3\n",
      "2,3,1\n",
      "3,1,2\n",
      "3,2,1\n"
     ]
    }
   ],
   "source": [
    "# permutation of 1,2,3\n",
    "\n",
    "for i in range(1,4):\n",
    "    for j in range(1,4):\n",
    "        if(j != i):\n",
    "            for k in range(1,4):\n",
    "                if(k != j and k != i):\n",
    "                    print(i,j,k,sep=\",\")"
   ]
  },
  {
   "cell_type": "code",
   "execution_count": null,
   "metadata": {},
   "outputs": [],
   "source": [
    "# printing enery word separately\n",
    "\n",
    "st = \"i loVe yOU a tHoUsANd mOrE r*** J*** !\"\n",
    "\n",
    "word_started = False\n",
    "i = 0\n",
    "\n",
    "while(i < st.__len__()):\n",
    "    if(st[i].isalpha() or st[i] == '*'):\n",
    "        if(word_started == 0):\n",
    "            word_started = True\n",
    "            print(str(st[i].capitalize()),end=\"\")\n",
    "            \n",
    "        else:\n",
    "            print((st[i].lower()),end=\"\")\n",
    "            \n",
    "    else:\n",
    "        word_started = False\n",
    "        print(\"\")\n",
    "    \n",
    "    i += 1\n",
    "\n",
    "print('\\a')\n",
    "print(type(word_started))\n",
    "print(st.title())"
   ]
  },
  {
   "cell_type": "code",
   "execution_count": null,
   "metadata": {},
   "outputs": [],
   "source": [
    "a,b = [int(x) for x in input(\"Enter Inputs :\").split()]\n",
    "c = a+b\n",
    "print(c)"
   ]
  },
  {
   "attachments": {},
   "cell_type": "markdown",
   "metadata": {},
   "source": [
    "# Taking Input\n",
    "## Smaller text\n",
    "### More Smaller\n",
    "**List**\n",
    "* First Item\n",
    "* Second Item\n",
    "* Third Item\n",
    "\n",
    "[Important Links][def]\n",
    "\n",
    "[def]: http://www.facebook.com/RjAvro"
   ]
  },
  {
   "cell_type": "code",
   "execution_count": null,
   "metadata": {},
   "outputs": [],
   "source": [
    "a = int(input('Enter a Number : '))\n",
    "print(a)"
   ]
  }
 ],
 "metadata": {
  "kernelspec": {
   "display_name": "Python 3",
   "language": "python",
   "name": "python3"
  },
  "language_info": {
   "codemirror_mode": {
    "name": "ipython",
    "version": 3
   },
   "file_extension": ".py",
   "mimetype": "text/x-python",
   "name": "python",
   "nbconvert_exporter": "python",
   "pygments_lexer": "ipython3",
   "version": "3.11.3"
  },
  "orig_nbformat": 4
 },
 "nbformat": 4,
 "nbformat_minor": 2
}
