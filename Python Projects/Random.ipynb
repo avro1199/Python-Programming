{
 "cells": [
  {
   "cell_type": "code",
   "execution_count": null,
   "metadata": {},
   "outputs": [],
   "source": [
    "import numpy as np\n",
    "values = 3,4,6,8,9\n",
    "a = np.average(values)\n",
    "print(a)"
   ]
  },
  {
   "cell_type": "code",
   "execution_count": null,
   "metadata": {},
   "outputs": [],
   "source": [
    "# permutation of 1,2,3\n",
    "\n",
    "for i in range(1,4):\n",
    "    for j in range(1,4):\n",
    "        if(j != i):\n",
    "            for k in range(1,4):\n",
    "                if(k != j and k != i):\n",
    "                    print(i,j,k,sep=\",\")"
   ]
  },
  {
   "cell_type": "code",
   "execution_count": null,
   "metadata": {},
   "outputs": [],
   "source": [
    "# printing enery word separately\n",
    "\n",
    "st = \"i loVe yOU a tHoUsANd mOrE r*** J*** !\"\n",
    "\n",
    "word_started = False\n",
    "i = 0\n",
    "\n",
    "while(i < st.__len__()):\n",
    "    if(st[i].isalpha() or st[i] == '*'):\n",
    "        if(word_started == 0):\n",
    "            word_started = True\n",
    "            print(str(st[i].capitalize()),end=\"\")\n",
    "            \n",
    "        else:\n",
    "            print((st[i].lower()),end=\"\")\n",
    "            \n",
    "    else:\n",
    "        word_started = False\n",
    "        print(\"\")\n",
    "    \n",
    "    i += 1\n",
    "\n",
    "print('\\a')\n",
    "print(type(word_started))\n",
    "print(st.title())"
   ]
  },
  {
   "cell_type": "code",
   "execution_count": null,
   "metadata": {},
   "outputs": [],
   "source": [
    "a,b = [int(x) for x in input(\"Enter Inputs :\").split()]\n",
    "c = a+b\n",
    "print(c)"
   ]
  },
  {
   "attachments": {},
   "cell_type": "markdown",
   "metadata": {},
   "source": [
    "# Taking Input\n",
    "## Smaller text\n",
    "### More Smaller\n",
    "**List**\n",
    "* First Item\n",
    "* Second Item\n",
    "* Third Item\n",
    "\n",
    "[Important Links][def]\n",
    "\n",
    "[def]: http://www.facebook.com/RjAvro"
   ]
  },
  {
   "cell_type": "code",
   "execution_count": null,
   "metadata": {},
   "outputs": [],
   "source": [
    "a = int(input('Enter a Number : '))\n",
    "print(a)"
   ]
  },
  {
   "attachments": {},
   "cell_type": "markdown",
   "metadata": {},
   "source": [
    "### Viewing the current directory"
   ]
  },
  {
   "cell_type": "code",
   "execution_count": null,
   "metadata": {},
   "outputs": [],
   "source": [
    "import os\n",
    "os.listdir()"
   ]
  },
  {
   "cell_type": "code",
   "execution_count": null,
   "metadata": {},
   "outputs": [],
   "source": [
    "#in/is\n",
    "a = [2,4,5,7]\n",
    "print(2 in a)\n",
    "print(3 not in a)\n",
    "print(type(a))\n",
    "\n",
    "a = b = 4\n",
    "c = 5\n",
    "print(a is b)\n",
    "print(b is c)\n",
    "print(type(a))"
   ]
  },
  {
   "cell_type": "code",
   "execution_count": null,
   "metadata": {},
   "outputs": [],
   "source": [
    "#Lamda Function\n",
    "y = lambda x:x**3\n",
    "k = lambda x:x**2**2\n",
    "\n",
    "x = [3,4,6,7,9]\n",
    "s = 2,4,6,7,8\n",
    "\n",
    "print(type(x))\n",
    "print(type(s))\n",
    "\n",
    "for i in x:\n",
    "    print(i, '=>', y(i))\n",
    "for i in s:\n",
    "    print(i, '=>', y(i))\n",
    "    \n",
    "print(k(5))"
   ]
  },
  {
   "cell_type": "code",
   "execution_count": 34,
   "metadata": {},
   "outputs": [
    {
     "name": "stdout",
     "output_type": "stream",
     "text": [
      "Inner => 22 => 45\n",
      "Outer => 10 => 45\n"
     ]
    }
   ],
   "source": [
    "#NonLocal\n",
    "\n",
    "def outer_fnc():\n",
    "    var1 = 10\n",
    "    var2 = 99\n",
    "    def inner_fnc():\n",
    "        var1 = 22 #Locar var1\n",
    "        nonlocal var2 #nonLocal var2\n",
    "        var2 = 45\n",
    "        print('Inner',var1, var2, sep=' => ')\n",
    "    inner_fnc()\n",
    "    print('Outer',var1, var2, sep=' => ')\n",
    "    \n",
    "outer_fnc()"
   ]
  },
  {
   "cell_type": "code",
   "execution_count": 35,
   "metadata": {},
   "outputs": [
    {
     "name": "stdout",
     "output_type": "stream",
     "text": [
      "19\n"
     ]
    }
   ],
   "source": [
    "#Pass\n",
    "\n",
    "for i in range(20):\n",
    "    pass #in C => for(int i = 0; i < 20; i++);\n",
    "print(i)"
   ]
  },
  {
   "cell_type": "code",
   "execution_count": 37,
   "metadata": {},
   "outputs": [
    {
     "name": "stdout",
     "output_type": "stream",
     "text": [
      "5.0\n"
     ]
    }
   ],
   "source": [
    "#return\n",
    "\n",
    "from math import sqrt\n",
    "\n",
    "\n",
    "def rj(x, y):\n",
    "    val = sqrt(x**2 + y**2)\n",
    "    return val\n",
    "print(rj(3,4))"
   ]
  },
  {
   "cell_type": "code",
   "execution_count": 42,
   "metadata": {},
   "outputs": [
    {
     "name": "stdout",
     "output_type": "stream",
     "text": [
      "256\n",
      "128\n",
      "64\n",
      "32\n",
      "16\n",
      "8\n",
      "4\n",
      "2\n",
      "1\n"
     ]
    }
   ],
   "source": [
    "#while loop\n",
    "\n",
    "i = 256\n",
    "\n",
    "while(True):\n",
    "    if i==0:\n",
    "        break\n",
    "    print(i)\n",
    "    i //= 2\n",
    "    "
   ]
  },
  {
   "cell_type": "code",
   "execution_count": 55,
   "metadata": {},
   "outputs": [
    {
     "name": "stdout",
     "output_type": "stream",
     "text": [
      "['Hi, I am Rj Avro Biswas\\n', 'This file is created by my Programs\\n']\n"
     ]
    }
   ],
   "source": [
    "#with\n",
    "\n",
    "with open('Rj.txt','w') as fp:\n",
    "    fp.write('Hi, I am Rj Avro Biswas\\n')\n",
    "    print('This file is created by my Programs', file=fp)\n",
    "    \n",
    "f = open('Rj.txt','r')\n",
    "x = f.readlines()\n",
    "print(x)\n"
   ]
  },
  {
   "cell_type": "code",
   "execution_count": 65,
   "metadata": {},
   "outputs": [
    {
     "name": "stdout",
     "output_type": "stream",
     "text": [
      "<class 'generator'>\n",
      "0\n",
      "1\n",
      "4\n",
      "9\n",
      "16\n",
      "<generator object mj at 0x000001B6FCC64860>\n",
      "0\n",
      "1\n",
      "4\n",
      "9\n",
      "16\n",
      "25\n",
      "36\n",
      "49\n",
      "64\n",
      "81\n",
      "100\n",
      "121\n",
      "144\n",
      "169\n",
      "196\n",
      "225\n",
      "256\n",
      "289\n",
      "324\n",
      "361\n",
      "400\n"
     ]
    }
   ],
   "source": [
    "#yield\n",
    "\n",
    "def mj(num):\n",
    "    for i in range(num):\n",
    "        yield i**2\n",
    "        \n",
    "g = mj(5)\n",
    "print(type(g))\n",
    "\n",
    "for i in g:\n",
    "    print(i)\n",
    "    \n",
    "print(g)\n",
    "\n",
    "for i in mj(21):\n",
    "    print(i)"
   ]
  }
 ],
 "metadata": {
  "kernelspec": {
   "display_name": "Python 3",
   "language": "python",
   "name": "python3"
  },
  "language_info": {
   "codemirror_mode": {
    "name": "ipython",
    "version": 3
   },
   "file_extension": ".py",
   "mimetype": "text/x-python",
   "name": "python",
   "nbconvert_exporter": "python",
   "pygments_lexer": "ipython3",
   "version": "3.11.3"
  },
  "orig_nbformat": 4
 },
 "nbformat": 4,
 "nbformat_minor": 2
}
