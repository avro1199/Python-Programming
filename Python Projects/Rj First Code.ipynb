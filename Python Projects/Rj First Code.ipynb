{
 "cells": [
  {
   "cell_type": "code",
   "execution_count": null,
   "id": "b2ef058a",
   "metadata": {},
   "outputs": [],
   "source": [
    "print(\"Namaste World !🕉️\\n\"*3,end=\"\\n\")"
   ]
  },
  {
   "cell_type": "code",
   "execution_count": 1,
   "id": "e05ac3a5",
   "metadata": {
    "scrolled": false
   },
   "outputs": [
    {
     "name": "stdout",
     "output_type": "stream",
     "text": [
      "1 => Namaste World !🕉️\n",
      "2 => Namaste World !🕉️\n",
      "4 => Namaste World !🕉️\n",
      "6 => Namaste World !🕉️\n"
     ]
    }
   ],
   "source": [
    "x = {2, 1, 6, 4}\n",
    "for i in x:\n",
    "    print(i,\"=>\",\"Namaste World !🕉️\")"
   ]
  },
  {
   "cell_type": "code",
   "execution_count": 5,
   "id": "99d7c9ec",
   "metadata": {},
   "outputs": [
    {
     "name": "stdout",
     "output_type": "stream",
     "text": [
      "Hi \u0007\n"
     ]
    }
   ],
   "source": [
    "print(\"Hi \\a\")"
   ]
  },
  {
   "cell_type": "code",
   "execution_count": 6,
   "id": "8e74330a",
   "metadata": {},
   "outputs": [
    {
     "name": "stdout",
     "output_type": "stream",
     "text": [
      "Area =  1256.6370614359173\n"
     ]
    }
   ],
   "source": [
    "from math import *\n",
    "r = 20\n",
    "print(\"Area = \",pi*r*r)"
   ]
  },
  {
   "cell_type": "code",
   "execution_count": 1,
   "id": "6cc6a833",
   "metadata": {},
   "outputs": [
    {
     "data": {
      "text/plain": [
       "'c:\\\\Users\\\\Rj Avro Biswas\\\\AppData\\\\Local\\\\Programs\\\\Python\\\\Python311\\\\python.exe'"
      ]
     },
     "execution_count": 1,
     "metadata": {},
     "output_type": "execute_result"
    }
   ],
   "source": [
    "import sys\n",
    "sys.executable"
   ]
  }
 ],
 "metadata": {
  "kernelspec": {
   "display_name": "Python 3 (ipykernel)",
   "language": "python",
   "name": "python3"
  },
  "language_info": {
   "codemirror_mode": {
    "name": "ipython",
    "version": 3
   },
   "file_extension": ".py",
   "mimetype": "text/x-python",
   "name": "python",
   "nbconvert_exporter": "python",
   "pygments_lexer": "ipython3",
   "version": "3.11.3"
  }
 },
 "nbformat": 4,
 "nbformat_minor": 5
}
