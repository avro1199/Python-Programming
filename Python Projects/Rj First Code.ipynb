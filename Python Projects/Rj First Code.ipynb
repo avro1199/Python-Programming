{
 "cells": [
  {
   "cell_type": "code",
   "execution_count": null,
   "id": "b2ef058a",
   "metadata": {},
   "outputs": [],
   "source": [
    "print(\"Namaste World !🕉️\\n\"*3,end=\"\\n\")"
   ]
  },
  {
   "cell_type": "code",
   "execution_count": null,
   "id": "e05ac3a5",
   "metadata": {
    "scrolled": false
   },
   "outputs": [],
   "source": [
    "x = {2, 1, 6, 4}\n",
    "for i in x:\n",
    "    print(i,\"=>\",\"Namaste World !🕉️\")"
   ]
  },
  {
   "cell_type": "code",
   "execution_count": null,
   "id": "99d7c9ec",
   "metadata": {},
   "outputs": [],
   "source": [
    "print(\"Hi \\a\")"
   ]
  },
  {
   "cell_type": "code",
   "execution_count": null,
   "id": "8e74330a",
   "metadata": {},
   "outputs": [],
   "source": [
    "from math import *\n",
    "r = 20\n",
    "print(\"Area = \",pi*r*r)"
   ]
  },
  {
   "cell_type": "code",
   "execution_count": null,
   "id": "6cc6a833",
   "metadata": {},
   "outputs": [],
   "source": [
    "import sys\n",
    "sys.executable"
   ]
  }
 ],
 "metadata": {
  "kernelspec": {
   "display_name": "Python 3 (ipykernel)",
   "language": "python",
   "name": "python3"
  },
  "language_info": {
   "codemirror_mode": {
    "name": "ipython",
    "version": 3
   },
   "file_extension": ".py",
   "mimetype": "text/x-python",
   "name": "python",
   "nbconvert_exporter": "python",
   "pygments_lexer": "ipython3",
   "version": "3.11.3"
  }
 },
 "nbformat": 4,
 "nbformat_minor": 5
}
