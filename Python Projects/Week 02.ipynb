{
 "cells": [
  {
   "cell_type": "code",
   "execution_count": 1,
   "metadata": {},
   "outputs": [
    {
     "name": "stdout",
     "output_type": "stream",
     "text": [
      "10\n"
     ]
    }
   ],
   "source": [
    "#Task 01\n",
    "\n",
    "print(33+77-100)"
   ]
  },
  {
   "cell_type": "code",
   "execution_count": 15,
   "metadata": {},
   "outputs": [
    {
     "name": "stdout",
     "output_type": "stream",
     "text": [
      "Num1 = 35 & Num2 = 14\n",
      "\n",
      "Num1 + Num2 = 49\n",
      "Num1 - Num2 = 21\n",
      "Num1 * Num2 = 490\n",
      "Num1 / Num2 = 2.5\n",
      "Num1 // Num2 = 2\n",
      "Num1 ** Num2 = 4139545122369384765625\n",
      "Num1 % Num2 = 7\n",
      "Ratio = 35/14 = 5/2\n"
     ]
    }
   ],
   "source": [
    "#Task 02\n",
    "\n",
    "from math import gcd\n",
    "\n",
    "\n",
    "num1, num2 = 35, 14\n",
    "\n",
    "print('Num1 = {} & Num2 = {}\\n'.format(num1,num2))\n",
    "\n",
    "print('Num1 + Num2', num1+num2, sep=' = ')\n",
    "print('Num1 - Num2', num1-num2, sep=' = ')\n",
    "print('Num1 * Num2', num1*num2, sep=' = ')\n",
    "print('Num1 / Num2', num1/num2, sep=' = ')\n",
    "print('Num1 // Num2', num1//num2, sep=' = ')\n",
    "print('Num1 ** Num2', num1**num2, sep=' = ')\n",
    "print('Num1 % Num2', num1%num2, sep=' = ')\n",
    "\n",
    "factor = gcd(num1,num2)\n",
    "\n",
    "print('Ratio','{}/{}'.format(num1, num2), '{}/{}'.format(num1//factor, num2//factor), sep=' = ')"
   ]
  },
  {
   "cell_type": "code",
   "execution_count": 24,
   "metadata": {},
   "outputs": [
    {
     "name": "stdout",
     "output_type": "stream",
     "text": [
      "9.0  +  2.0  =  11.0\n",
      "9.0  -  2.0  =  7.0\n",
      "9.0  *  2.0  =  18.0\n",
      "9.0  /  2.0  =  4.5\n",
      "<class 'float'>\n"
     ]
    }
   ],
   "source": [
    "#Task 03\n",
    "\n",
    "'''Taking Two Numbers as Input'''\n",
    "x, y = [float(x) for x in input('Enter two Numbers :').split()]\n",
    "\n",
    "#Now Performing Different Operations\n",
    "print(x, ' + ', y, ' = ', x+y)\n",
    "print(x, ' - ', y, ' = ', x-y)\n",
    "print(x, ' * ', y, ' = ', x*y)\n",
    "print(x, ' / ', y, ' = ', x/y)\n",
    "\n",
    "print(type(x))"
   ]
  },
  {
   "cell_type": "code",
   "execution_count": 33,
   "metadata": {},
   "outputs": [
    {
     "name": "stdout",
     "output_type": "stream",
     "text": [
      "Area =  452.3893421169302\n"
     ]
    }
   ],
   "source": [
    "#Task 04\n",
    "\n",
    "from math import pi\n",
    "\n",
    "r = 12\n",
    "area = pi * r**2\n",
    "\n",
    "print('Area = ', area)"
   ]
  },
  {
   "cell_type": "code",
   "execution_count": 52,
   "metadata": {},
   "outputs": [
    {
     "name": "stdout",
     "output_type": "stream",
     "text": [
      "Temperature in Farenheit =  -40.0\n"
     ]
    }
   ],
   "source": [
    "#Task 05\n",
    "\n",
    "#Taking Input in Centigrade\n",
    "cen = float(input('Enter the Temperature in Centigrade : '))\n",
    "\n",
    "#calculating in farenheit => c/5 = (f-32)/9\n",
    "far = 9*cen/5 + 32\n",
    "\n",
    "print('Temperature in Farenheit = ', far)"
   ]
  },
  {
   "cell_type": "code",
   "execution_count": 53,
   "metadata": {},
   "outputs": [
    {
     "name": "stdout",
     "output_type": "stream",
     "text": [
      "Volume = 50965.01042163601\n"
     ]
    }
   ],
   "source": [
    "#Task 06\n",
    "\n",
    "from math import pi\n",
    "\n",
    "r = 23\n",
    "vol = (4/3)*pi*r**3\n",
    "\n",
    "print('Volume =', vol)"
   ]
  },
  {
   "attachments": {},
   "cell_type": "markdown",
   "metadata": {},
   "source": [
    "### Task 07\n",
    "* Take Height and Width as Input\n",
    "* Calculate Perimeter\n",
    "* Calculate Area\n",
    "\n",
    "[Facebook][def]\n",
    "\n",
    "[def]: http://facebook.com/;"
   ]
  },
  {
   "cell_type": "code",
   "execution_count": 55,
   "metadata": {},
   "outputs": [
    {
     "name": "stdout",
     "output_type": "stream",
     "text": [
      "Area = 2.0\n",
      "Perimeter = 6.0\n"
     ]
    }
   ],
   "source": [
    "#Taking Heihgt and Width as Input\n",
    "heihgt = float(input('Enter Height'))\n",
    "width = float(input('Enter Width'));\n",
    "\n",
    "area = heihgt*width\n",
    "perimeter = 2*(heihgt+width)\n",
    "\n",
    "print('Area =', area)\n",
    "print('Perimeter =', perimeter)"
   ]
  },
  {
   "cell_type": "code",
   "execution_count": 56,
   "metadata": {},
   "outputs": [
    {
     "name": "stdout",
     "output_type": "stream",
     "text": [
      "Hi Avro !\n",
      "How may I help you ?\n"
     ]
    }
   ],
   "source": [
    "#Task 08\n",
    "\n",
    "name = input('Please Enter Your Name : ')\n",
    "\n",
    "print('Hi {} !'.format(name), 'How may I help you ?', sep='\\n')"
   ]
  },
  {
   "cell_type": "code",
   "execution_count": 63,
   "metadata": {},
   "outputs": [
    {
     "name": "stdout",
     "output_type": "stream",
     "text": [
      "Avro Biswas\n",
      "Avro Biswas\n"
     ]
    }
   ],
   "source": [
    "#Task 09\n",
    "\n",
    "f_name = input('Enter Your First Name : ')\n",
    "l_name = input('Enter Your Last Name : ')\n",
    "\n",
    "print(f_name, l_name)\n",
    "print(f_name+' '+l_name)"
   ]
  }
 ],
 "metadata": {
  "kernelspec": {
   "display_name": "Python 3",
   "language": "python",
   "name": "python3"
  },
  "language_info": {
   "codemirror_mode": {
    "name": "ipython",
    "version": 3
   },
   "file_extension": ".py",
   "mimetype": "text/x-python",
   "name": "python",
   "nbconvert_exporter": "python",
   "pygments_lexer": "ipython3",
   "version": "3.11.3"
  },
  "orig_nbformat": 4
 },
 "nbformat": 4,
 "nbformat_minor": 2
}
