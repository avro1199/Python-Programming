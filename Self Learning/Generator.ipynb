{
 "cells": [
  {
   "cell_type": "code",
   "execution_count": 6,
   "metadata": {},
   "outputs": [
    {
     "name": "stdout",
     "output_type": "stream",
     "text": [
      "0\n",
      "1\n",
      "2\n",
      "3\n",
      "4\n",
      "5\n",
      "6\n",
      "7\n",
      "8\n",
      "9\n"
     ]
    }
   ],
   "source": [
    "g = (i for i in range(10))\n",
    "\n",
    "for i in range(10):\n",
    "    print(next(g))"
   ]
  },
  {
   "cell_type": "code",
   "execution_count": 29,
   "metadata": {},
   "outputs": [
    {
     "name": "stdout",
     "output_type": "stream",
     "text": [
      "9227465\n",
      "Time 1.2121591567993164\n"
     ]
    }
   ],
   "source": [
    "def fibo(n):\n",
    "    if n == 1:\n",
    "        return 1\n",
    "    elif n == 2:\n",
    "        return 1\n",
    "    else:\n",
    "        return fibo(n-2) + fibo(n-1)\n",
    "    \n",
    "import time\n",
    "\n",
    "t0 = time.time()\n",
    "print(fibo(35))\n",
    "print(f'Time {time.time() - t0:.16f}')"
   ]
  },
  {
   "cell_type": "code",
   "execution_count": 30,
   "metadata": {},
   "outputs": [
    {
     "name": "stdout",
     "output_type": "stream",
     "text": [
      "9227465\n",
      "Time 0.0009980201721191\n"
     ]
    }
   ],
   "source": [
    "def fib_gen():\n",
    "    old, new = 0, 1\n",
    "    while True:\n",
    "        yield old\n",
    "        old, new = new, old+new\n",
    "\n",
    "fibo = fib_gen()\n",
    "t0 = time.time()\n",
    "for i in range(35):\n",
    "    next(fibo) \n",
    "print(next(fibo))\n",
    "print(f'Time {time.time() - t0:.16f}')"
   ]
  },
  {
   "cell_type": "code",
   "execution_count": 40,
   "metadata": {},
   "outputs": [
    {
     "name": "stdout",
     "output_type": "stream",
     "text": [
      "[27000, 32768, 39304, 46656, 54872, 64000, 74088, 85184, 97336, 110592, 125000]\n"
     ]
    }
   ],
   "source": [
    "sl = [(lambda a:a*a*a)(a) for a in range(30, 51) if a % 2 == 0]\n",
    "print(list(sl))"
   ]
  },
  {
   "cell_type": "code",
   "execution_count": 3,
   "metadata": {},
   "outputs": [
    {
     "name": "stdout",
     "output_type": "stream",
     "text": [
      "((1, 2), (2, 5), (5, 3))\n"
     ]
    }
   ],
   "source": [
    "boxes = [(1, 2), (2, 5), (5, 3)]\n",
    "worker = (0,0)\n",
    "\n",
    "state = tuple((worker, tuple(boxes)))\n",
    "\n",
    "print(state[1])"
   ]
  },
  {
   "cell_type": "code",
   "execution_count": 1,
   "metadata": {},
   "outputs": [
    {
     "name": "stdout",
     "output_type": "stream",
     "text": [
      "<class 'tuple'>\n"
     ]
    }
   ],
   "source": [
    "a = (1, 3, 4)\n",
    "print(type(a))\n",
    "a."
   ]
  },
  {
   "cell_type": "code",
   "execution_count": 14,
   "metadata": {},
   "outputs": [
    {
     "name": "stdout",
     "output_type": "stream",
     "text": [
      "Wed May 22 01:44:43 2024\n",
      "19\n"
     ]
    }
   ],
   "source": [
    "import time\n",
    "\n",
    "print(time.asctime())\n",
    "print(time.gmtime().tm_hour)"
   ]
  }
 ],
 "metadata": {
  "kernelspec": {
   "display_name": "Python 3",
   "language": "python",
   "name": "python3"
  },
  "language_info": {
   "codemirror_mode": {
    "name": "ipython",
    "version": 3
   },
   "file_extension": ".py",
   "mimetype": "text/x-python",
   "name": "python",
   "nbconvert_exporter": "python",
   "pygments_lexer": "ipython3",
   "version": "3.12.0"
  }
 },
 "nbformat": 4,
 "nbformat_minor": 2
}
