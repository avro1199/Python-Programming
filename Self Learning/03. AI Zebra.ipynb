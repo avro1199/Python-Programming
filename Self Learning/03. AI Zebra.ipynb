{
 "cells": [
  {
   "cell_type": "code",
   "execution_count": 77,
   "metadata": {},
   "outputs": [
    {
     "name": "stdout",
     "output_type": "stream",
     "text": [
      "Water in house => 1\n",
      "Zebra in house => 5\n",
      "Analysis took 0.0087995529174805s time\n"
     ]
    }
   ],
   "source": [
    "import itertools\n",
    "import time\n",
    "\n",
    "houses = first, _, middle, _, _ = [1, 2, 3, 4, 5]\n",
    "candidates = list(itertools.permutations(houses))\n",
    "\n",
    "def imright(x, y):\n",
    "    return ((x-y) == 1)\n",
    "    # return True\n",
    "def nextto(x, y):\n",
    "    return (abs(y-x) == 1)\n",
    "    # return True\n",
    "t1 = time.time()\n",
    "for red, green, ivory, blue, yellow in candidates:\n",
    "    if imright(green, ivory):\n",
    "        for Norway, Ukrain, English, Spain, Japan in candidates:\n",
    "            if ((English == red) and (nextto(Norway, blue)) and (Norway == first)):\n",
    "                for Water, Tea, Milk, Orange, Coffee in candidates:\n",
    "                    if (Coffee == green and Ukrain == Tea and Milk == middle):\n",
    "                        for Kools, Chesterfield, Old_gold, Lucky_strike, Parliament in candidates:\n",
    "                            if (Kools == yellow and Japan == Parliament and Lucky_strike == Orange):\n",
    "                                for Fox, Horse, Snails, Dog, Zebra in candidates:\n",
    "                                    if (Spain == Dog and Old_gold == Snails and nextto(Chesterfield, Fox) and nextto(Kools, Horse)):\n",
    "                                        print(f'Water in house => {Water}\\nZebra in house => {Zebra}')\n",
    "\n",
    "t2 = time.time()\n",
    "print(f'Analysis took {t2 - t1:.16f}s time')"
   ]
  },
  {
   "cell_type": "code",
   "execution_count": 78,
   "metadata": {},
   "outputs": [
    {
     "name": "stdout",
     "output_type": "stream",
     "text": [
      "Water in house => 1\n",
      "Zebra in house => 5\n",
      "Analysis took 0.0088226795196533s time\n"
     ]
    }
   ],
   "source": [
    "import itertools\n",
    "import time\n",
    "\n",
    "houses = first, _, middle, _, _ = [1, 2, 3, 4, 5]\n",
    "candidates = list(itertools.permutations(houses))\n",
    "\n",
    "def imright(x, y):\n",
    "    return ((x-y) == 1)\n",
    "    # return True\n",
    "def nextto(x, y):\n",
    "    return (abs(y-x) == 1)\n",
    "    # return True\n",
    "t1 = time.time()\n",
    "zen = ((Water, Zebra) for red, green, ivory, blue, yellow in candidates\n",
    "                if imright(green, ivory)\n",
    "                for Norway, Ukrain, English, Spain, Japan in candidates\n",
    "                if ((English == red) and (nextto(Norway, blue)) and (Norway == first))\n",
    "                for Water, Tea, Milk, Orange, Coffee in candidates\n",
    "                if (Coffee == green and Ukrain == Tea and Milk == middle)\n",
    "                for Kools, Chesterfield, Old_gold, Lucky_strike, Parliament in candidates\n",
    "                if (Kools == yellow and Japan == Parliament and Lucky_strike == Orange)\n",
    "                for Fox, Horse, Snails, Dog, Zebra in candidates\n",
    "                if (Spain == Dog and Old_gold == Snails)\n",
    "                if nextto(Chesterfield, Fox) \n",
    "                if nextto(Kools, Horse))\n",
    "\n",
    "w, z = next(zen)                                \n",
    "print(f'Water in house => {w}\\nZebra in house => {z}')\n",
    "# print(zen)\n",
    "t2 = time.time()\n",
    "print(f'Analysis took {t2 - t1:.16f}s time')"
   ]
  }
 ],
 "metadata": {
  "kernelspec": {
   "display_name": "Python 3",
   "language": "python",
   "name": "python3"
  },
  "language_info": {
   "codemirror_mode": {
    "name": "ipython",
    "version": 3
   },
   "file_extension": ".py",
   "mimetype": "text/x-python",
   "name": "python",
   "nbconvert_exporter": "python",
   "pygments_lexer": "ipython3",
   "version": "3.12.0"
  }
 },
 "nbformat": 4,
 "nbformat_minor": 2
}
