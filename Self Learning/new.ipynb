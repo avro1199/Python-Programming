{
 "cells": [
  {
   "cell_type": "code",
   "execution_count": 2,
   "metadata": {},
   "outputs": [
    {
     "name": "stdout",
     "output_type": "stream",
     "text": [
      "['what is your name ? where do you live? a;ljfklajsflkjalkfjasdljfkladsjflkad l ']\n",
      "<class 'list'>\n"
     ]
    }
   ],
   "source": [
    "from re import *\n",
    "\n",
    "string = 'what is your name ? where do you live? a;ljfklajsflkjalkfjasdljfkladsjflkad l fjasf;jakflaklfslajkjfklajlksjfalklllllllop s hello else i am no more sover .'\n",
    "\n",
    "out = findall('^[a-z].* l ', string)\n",
    "\n",
    "print(out, sep='\\n')\n",
    "\n",
    "print(type(out))"
   ]
  }
 ],
 "metadata": {
  "kernelspec": {
   "display_name": "Python 3",
   "language": "python",
   "name": "python3"
  },
  "language_info": {
   "codemirror_mode": {
    "name": "ipython",
    "version": 3
   },
   "file_extension": ".py",
   "mimetype": "text/x-python",
   "name": "python",
   "nbconvert_exporter": "python",
   "pygments_lexer": "ipython3",
   "version": "3.10.11"
  }
 },
 "nbformat": 4,
 "nbformat_minor": 2
}
