{
 "cells": [
  {
   "cell_type": "code",
   "execution_count": 2,
   "metadata": {},
   "outputs": [
    {
     "name": "stdout",
     "output_type": "stream",
     "text": [
      "['what is your name ? where do you live? a;ljfklajsflkjalkfjasdljfkladsjflkad l ']\n",
      "<class 'list'>\n"
     ]
    }
   ],
   "source": [
    "from re import *\n",
    "\n",
    "string = 'what is your name ? where do you live? a;ljfklajsflkjalkfjasdljfkladsjflkad l fjasf;jakflaklfslajkjfklajlksjfalklllllllop s hello else i am no more sover .'\n",
    "\n",
    "out = findall('^[a-z].* l ', string)\n",
    "\n",
    "print(out, sep='\\n')\n",
    "\n",
    "print(type(out))"
   ]
  },
  {
   "cell_type": "code",
   "execution_count": 2,
   "metadata": {},
   "outputs": [
    {
     "name": "stdout",
     "output_type": "stream",
     "text": [
      "Num GPUs Available:  0\n"
     ]
    }
   ],
   "source": [
    "import tensorflow as tf\n",
    "\n",
    "print(\"Num GPUs Available: \", len(tf.config.experimental.list_physical_devices('GPU')))\n"
   ]
  },
  {
   "cell_type": "code",
   "execution_count": 1,
   "metadata": {},
   "outputs": [
    {
     "name": "stdout",
     "output_type": "stream",
     "text": [
      "GPUs Available:  [PhysicalDevice(name='/physical_device:CPU:0', device_type='CPU')]\n",
      "CUDA Version: OrderedDict([('is_cuda_build', False), ('is_rocm_build', False), ('is_tensorrt_build', False), ('msvcp_dll_names', 'msvcp140.dll,msvcp140_1.dll')])\n",
      "cuDNN Version: OrderedDict([('is_cuda_build', False), ('is_rocm_build', False), ('is_tensorrt_build', False), ('msvcp_dll_names', 'msvcp140.dll,msvcp140_1.dll')])\n"
     ]
    }
   ],
   "source": [
    "import tensorflow as tf\n",
    "\n",
    "# Check for GPU availability\n",
    "gpus = tf.config.experimental.list_physical_devices('CPU')\n",
    "if gpus:\n",
    "    print(\"GPUs Available: \", gpus)\n",
    "else:\n",
    "    print(\"No GPUs found\")\n",
    "\n",
    "# Print CUDA and cuDNN versions\n",
    "cuda_version = tf.sysconfig.get_build_info()\n",
    "cudnn_version = tf.sysconfig.get_build_info()\n",
    "print(f\"CUDA Version: {cuda_version}\")\n",
    "print(f\"cuDNN Version: {cudnn_version}\")\n"
   ]
  },
  {
   "cell_type": "code",
   "execution_count": 12,
   "metadata": {},
   "outputs": [
    {
     "name": "stdout",
     "output_type": "stream",
     "text": [
      "a + b = ,,,,,,,31,000,,,,,,,\n"
     ]
    }
   ],
   "source": [
    "a = 1000\n",
    "b = 30000\n",
    "\n",
    "print(f'{a + b = :,^20,}')"
   ]
  }
 ],
 "metadata": {
  "kernelspec": {
   "display_name": "Python 3",
   "language": "python",
   "name": "python3"
  },
  "language_info": {
   "codemirror_mode": {
    "name": "ipython",
    "version": 3
   },
   "file_extension": ".py",
   "mimetype": "text/x-python",
   "name": "python",
   "nbconvert_exporter": "python",
   "pygments_lexer": "ipython3",
   "version": "3.10.11"
  }
 },
 "nbformat": 4,
 "nbformat_minor": 2
}
