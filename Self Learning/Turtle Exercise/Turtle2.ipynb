{
 "cells": [
  {
   "cell_type": "code",
   "execution_count": 10,
   "metadata": {},
   "outputs": [],
   "source": [
    "from turtle import *\n",
    "\n",
    "clearscreen()\n",
    "# hideturtle()\n",
    "shape('turtle')\n",
    "colormode(1)\n",
    "pensize(2)\n",
    "\n",
    "color('green', 'blue')\n",
    "# clearscreen()\n",
    "bgcolor('black')\n",
    "# clear()\n",
    "speed(0)\n",
    "# goto(0,0)\n",
    "clear()\n",
    "\n",
    "\n",
    "def draw_sq(size = 2, fill = 'red', border = 2):\n",
    "    penup()\n",
    "    home()\n",
    "    forward(size/2)\n",
    "    right(90)\n",
    "    forward(size/2)\n",
    "    pendown()\n",
    "    right(90)\n",
    "    for i in range(4):\n",
    "        forward(size)\n",
    "        right(90)\n",
    "\n",
    "draw_sq(100)\n"
   ]
  },
  {
   "cell_type": "code",
   "execution_count": 7,
   "metadata": {},
   "outputs": [
    {
     "name": "stdout",
     "output_type": "stream",
     "text": [
      "['a', 'b', 'c']\n"
     ]
    }
   ],
   "source": [
    "def paradox(riddle, poser):\n",
    "    return riddle + [poser[0]] #b, c\n",
    "\n",
    "def mystery(puzzle, cont = ['b']):\n",
    "    return [puzzle[1]] + paradox(cont, puzzle)\n",
    "\n",
    "result = mystery(['c', 'a'])\n",
    "\n",
    "print(result)"
   ]
  },
  {
   "cell_type": "code",
   "execution_count": 10,
   "metadata": {},
   "outputs": [
    {
     "data": {
      "text/plain": [
       "['www.emsfdgsdail.com']"
      ]
     },
     "execution_count": 10,
     "metadata": {},
     "output_type": "execute_result"
    }
   ],
   "source": [
    "from re import *\n",
    "st = '<a href=www.emsfdgsdail.com></a> <em> Email </em>'\n",
    "\n",
    "rgx = r'<a href=(www\\..+\\.com)'\n",
    "\n",
    "findall(rgx, st)"
   ]
  }
 ],
 "metadata": {
  "kernelspec": {
   "display_name": "Python 3",
   "language": "python",
   "name": "python3"
  },
  "language_info": {
   "codemirror_mode": {
    "name": "ipython",
    "version": 3
   },
   "file_extension": ".py",
   "mimetype": "text/x-python",
   "name": "python",
   "nbconvert_exporter": "python",
   "pygments_lexer": "ipython3",
   "version": "3.12.0"
  }
 },
 "nbformat": 4,
 "nbformat_minor": 2
}
