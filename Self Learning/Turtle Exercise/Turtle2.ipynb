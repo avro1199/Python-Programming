{
 "cells": [
  {
   "cell_type": "code",
   "execution_count": 5,
   "metadata": {},
   "outputs": [],
   "source": [
    "from turtle import *\n",
    "import random\n",
    "\n",
    "hideturtle()\n",
    "speed(0)\n",
    "# tracer(False)\n",
    "pensize(5)\n",
    "def draw_sq(size = 2, fill = 'red'):\n",
    "    fillcolor(fill)\n",
    "    color('black', fill)\n",
    "    penup()\n",
    "    home()\n",
    "    forward(size/2)\n",
    "    right(90)\n",
    "    forward(size/2)\n",
    "    pendown()\n",
    "    begin_fill()\n",
    "    right(90)\n",
    "    for i in range(4):\n",
    "        forward(size)\n",
    "        right(90)\n",
    "    end_fill()\n",
    "    penup()\n",
    "\n",
    "\n",
    "# draw_sq(200, 'red')\n",
    "# draw_sq(140, 'blue')\n",
    "# draw_sq(80, 'green')\n",
    "\n",
    "clr = ['red', 'green', 'blue', 'cyan', 'yellow', 'gray', 'purple']\n",
    "no = 20\n",
    "pensize(2)\n",
    "for i in range(1,no+1):\n",
    "    s_clr = random.choice(clr)\n",
    "    draw_sq((no-i)*400/no, s_clr)\n",
    "done()\n"
   ]
  },
  {
   "cell_type": "code",
   "execution_count": 6,
   "metadata": {},
   "outputs": [
    {
     "name": "stdout",
     "output_type": "stream",
     "text": [
      "['a', 'b', 'c']\n"
     ]
    }
   ],
   "source": [
    "def paradox(riddle, poser):\n",
    "    return riddle + [poser[0]] #b, c\n",
    "\n",
    "def mystery(puzzle, cont = ['b']):\n",
    "    return [puzzle[1]] + paradox(cont, puzzle)\n",
    "\n",
    "result = mystery(['c', 'a'])\n",
    "\n",
    "print(result)"
   ]
  },
  {
   "cell_type": "code",
   "execution_count": 7,
   "metadata": {},
   "outputs": [
    {
     "data": {
      "text/plain": [
       "['www.emsfdgsdail.com']"
      ]
     },
     "execution_count": 7,
     "metadata": {},
     "output_type": "execute_result"
    }
   ],
   "source": [
    "from re import *\n",
    "st = '<a href=www.emsfdgsdail.com></a> <em> Email </em>'\n",
    "\n",
    "rgx = r'<a href=(www\\..+\\.com)'\n",
    "\n",
    "findall(rgx, st)"
   ]
  }
 ],
 "metadata": {
  "kernelspec": {
   "display_name": "Python 3",
   "language": "python",
   "name": "python3"
  },
  "language_info": {
   "codemirror_mode": {
    "name": "ipython",
    "version": 3
   },
   "file_extension": ".py",
   "mimetype": "text/x-python",
   "name": "python",
   "nbconvert_exporter": "python",
   "pygments_lexer": "ipython3",
   "version": "3.10.11"
  }
 },
 "nbformat": 4,
 "nbformat_minor": 2
}
