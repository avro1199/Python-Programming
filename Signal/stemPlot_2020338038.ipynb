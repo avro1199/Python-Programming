{
 "cells": [
  {
   "cell_type": "code",
   "execution_count": 2,
   "metadata": {},
   "outputs": [
    {
     "data": {
      "image/png": "[encoded data removed]",
      "text/plain": [
       "<Figure size 640x480 with 1 Axes>"
      ]
     },
     "metadata": {},
     "output_type": "display_data"
    }
   ],
   "source": [
    "from matplotlib import pyplot as plt\n",
    "\n",
    "\n",
    "def f(x):\n",
    "    if (x < -3):\n",
    "        return 0\n",
    "    elif (x < 0):\n",
    "        return 3\n",
    "    elif (x <= 4):\n",
    "        return x\n",
    "    else:\n",
    "        return 0\n",
    "\n",
    "\n",
    "x_data = []\n",
    "y_data = []\n",
    "\n",
    "for i in range(-6, 10):\n",
    "    x_data.append(i)\n",
    "    y_data.append(f(i))\n",
    "\n",
    "\n",
    "fig, pt = plt.subplots()\n",
    "pt.set_in_layout(False)\n",
    "pt.stem(x_data, y_data, markerfmt='ko', basefmt='k', linefmt='k')\n",
    "pt.spines['bottom'].set_position('zero')\n",
    "pt.spines['left'].set_position('zero')\n",
    "pt.spines['right'].set_color('none')\n",
    "pt.spines['top'].set_color('none')\n",
    "plt.ylim(-2, 8)\n",
    "plt.xlim(-8, 11)\n",
    "plt.xticks([-3, -2, -1, 0, 1, 2, 3, 4])\n",
    "plt.yticks([4])\n",
    "pt.set_xlabel('n', loc='right')\n",
    "pt.set_ylabel('X(n)', loc='top', rotation=0)\n",
    "plt.show()"
   ]
  }
 ],
 "metadata": {
  "kernelspec": {
   "display_name": "Python 3",
   "language": "python",
   "name": "python3"
  },
  "language_info": {
   "codemirror_mode": {
    "name": "ipython",
    "version": 3
   },
   "file_extension": ".py",
   "mimetype": "text/x-python",
   "name": "python",
   "nbconvert_exporter": "python",
   "pygments_lexer": "ipython3",
   "version": "3.11.3"
  },
  "orig_nbformat": 4
 },
 "nbformat": 4,
 "nbformat_minor": 2
}
